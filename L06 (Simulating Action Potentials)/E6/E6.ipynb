{
 "cells": [
  {
   "cell_type": "markdown",
   "metadata": {},
   "source": [
    "# E6 — Combining ion current models in the action potential \n",
    "\n",
    "In this notebook we will explore how the major cardiac currents contribute to differences in the atrial and ventricular action potentials and hoping to achieve some intuitive understanding of what the defining currents are in each of these tissues. \n",
    "\n",
    "First we need to get a little more familiar with what one of these models looks like. The process for constructing an action potential model from the many ion channels, tranporters, and buffer models that make a cell, is an extension of what you have already learned from the earlier exercises.\n",
    "\n",
    "You need:\n",
    "1. Your system of equations (from which you formulate the RHS)\n",
    "2. An initial condition (starting values for each variable in the RHS)\n",
    "3. The collection of parameters (generally constants) necessary to calculate the RHS \n",
    "4. A time vector over which to integrate the system"
   ]
  },
  {
   "cell_type": "markdown",
   "metadata": {},
   "source": [
    "## Exercise 1: the Hodgkin-Huxley model\n",
    "\n",
    "We'll look first at the Hodgkin-Huxley model from earlier. It has an activation gated ($n$) ${\\rm K}^+$  current, a ${\\rm Na}^+$ current with both activation ($m$) and inactivation ($h$) gates, a small nondescript leak current ($I_{\\rm L}$) to maintain resting potential, and it accepts a stimulus current $I_{\\rm app}$:\n",
    "$$C_{\\rm m}\\frac{{\\rm d}V}{{\\rm d}t} = -(g_{\\rm Na} m^3h(V-E_{\\rm Na}) + g_{\\rm K} n^4(V-E_{\\rm K}) + g_{\\rm L}(V-E_{\\rm L}) + I_{\\rm app}).$$\n",
    "\n",
    "where the time evolution of $m$ is defined by:\n",
    "$$ \\frac{{\\rm d}m}{{\\rm d}t} = \\alpha_m (1-m)-\\beta_m m$$\n",
    "\n",
    "$h$ is defined by:\n",
    "$$ \\frac{{\\rm d}h}{{\\rm d}t} = \\alpha_h (1-h)-\\beta_h h$$\n",
    "\n",
    "and $n$ is defined by:\n",
    "$$ \\frac{{\\rm d}n}{{\\rm d}t} = \\alpha_n (1-n)-\\beta_n n$$\n",
    "\n",
    "First some tools and then we start with the right hand side:"
   ]
  },
  {
   "cell_type": "code",
   "execution_count": 1,
   "metadata": {},
   "outputs": [],
   "source": [
    "# Import necessary packages\n",
    "import numpy as np\n",
    "from math import exp \n",
    "import matplotlib.pylab as plt\n",
    "%matplotlib inline\n",
    "from scipy.integrate import odeint"
   ]
  },
  {
   "cell_type": "code",
   "execution_count": 2,
   "metadata": {},
   "outputs": [],
   "source": [
    "def rhs(y,t,p):\n",
    "    \n",
    "    # unpack the solution vector\n",
    "    m, h, n, V = y \n",
    "    \n",
    "    # unpack the passed parameters\n",
    "    Cm = p['Cm']\n",
    "    E_Na = p['E_Na']\n",
    "    E_K = p['E_K']\n",
    "    E_L = p['E_L']\n",
    "    gNa = p['gNa']\n",
    "    gK = p['gK']\n",
    "    gL = p['gL']\n",
    "    I_amp = p['I_amp']\n",
    "    \n",
    "    # calculate the transition rates\n",
    "    alpha_m = 0.1*(V+40.0)/(1.0-np.exp(-(V+40.0)/10.0))\n",
    "    beta_m  = 4.0*np.exp(-(V+65.0)/18.0)\n",
    "    alpha_h = 0.07*np.exp(-(V+65.0)/20.0)\n",
    "    beta_h  = 1.0/(1.0+np.exp(-(V+35.0)/10.0))\n",
    "    alpha_n = 0.01*(V+55.0)/(1.0-np.exp(-(V+55.0)/10.0))\n",
    "    beta_n  = 0.125*np.exp(-(V+65)/80.0)\n",
    "\n",
    "    # calculate the currents\n",
    "    I_app = -I_amp if 2<t<4 else 0.0\n",
    "    I_Na = gNa*m**3*h*(V - E_Na)\n",
    "    I_K = gK*n**4*(V - E_K)\n",
    "    I_L = gL*(V - E_L)\n",
    "    \n",
    "    # calculate the derivatives\n",
    "    dm_dt = alpha_m*(1-m) - beta_m*(m)\n",
    "    dh_dt = alpha_h*(1-h) - beta_h*(h)\n",
    "    dn_dt = alpha_n*(1-n) - beta_n*(n)\n",
    "    dV_dt = -(I_Na + I_app + I_K)/Cm\n",
    "    \n",
    "    # assemble and return dy/dt\n",
    "    return[dm_dt,dh_dt,dn_dt,dV_dt]"
   ]
  },
  {
   "cell_type": "code",
   "execution_count": 3,
   "metadata": {},
   "outputs": [],
   "source": [
    "#Initial conditions   \n",
    "m0 = 0\n",
    "h0 = 1\n",
    "n0 = 0\n",
    "V0 = -80\n",
    "y0 = [m0,h0,n0,V0]\n",
    "\n",
    "#Parameters\n",
    "p = {}\n",
    "p['Cm'] = 1.0 # uF/cm^2\n",
    "p['E_Na'] = 50 # mV\n",
    "p['E_K'] = -80 # mV\n",
    "p['E_L'] = -75 # mV\n",
    "p['gNa'] = 120 # mS/cm^2\n",
    "p['gK'] = 40 # mS/cm^2\n",
    "p['gL'] = 0.3 # mS/cm^2\n",
    "p['I_amp'] = 100 # uA/cm^2\n",
    "\n",
    "#The time vector\n",
    "time = np.linspace(0,20,1000)"
   ]
  },
  {
   "cell_type": "code",
   "execution_count": 4,
   "metadata": {},
   "outputs": [
    {
     "data": {
      "text/plain": [
       "[<matplotlib.lines.Line2D at 0x7feb41042610>,\n",
       " <matplotlib.lines.Line2D at 0x7feb41042640>,\n",
       " <matplotlib.lines.Line2D at 0x7feb41042730>]"
      ]
     },
     "execution_count": 4,
     "metadata": {},
     "output_type": "execute_result"
    },
    {
     "data": {
      "image/png": "[encoded data removed]",
      "text/plain": [
       "<Figure size 432x288 with 2 Axes>"
      ]
     },
     "metadata": {
      "needs_background": "light"
     },
     "output_type": "display_data"
    }
   ],
   "source": [
    "# Run the model\n",
    "# Your code here:\n",
    "y = odeint(rhs,y0,time,(p,))\n",
    "\n",
    "m = y[:,0]\n",
    "h = y[:,1]\n",
    "n = y[:,2]\n",
    "V = y[:,3]\n",
    "\n",
    "plt.subplot(1,2,1)\n",
    "plt.plot(time, V,'b')\n",
    "plt.subplot(1,2,2)\n",
    "plt.plot(time,m,'r',time,h,'g',time,n,'m')"
   ]
  },
  {
   "cell_type": "markdown",
   "metadata": {},
   "source": [
    "## Exercise 2: A more complex model...\n",
    "\n",
    "Next we'll work with a human ventricular myocyte model. This is one of several human-specific ventricular myocyte models, and was developed by Eleonora Grandi at UC Davis. The code we will run is slightly simplified from the published version, but still quite complex. It is generally difficult to interpret any new model, but getting used to looking for the necessary elements is the best way to start. Let's take a look:\n",
    "\n",
    "* [Grandi-Bers Ventricular RHS](GBV_RHS.py)\n",
    "* [Grandi-Bers Ventricular Initialization](GBV_D.py)\n",
    "* [Grandi-Bers Ventricular Run](GBV_run.py)\n"
   ]
  },
  {
   "cell_type": "markdown",
   "metadata": {},
   "source": [
    "Our objective with this section is to develop some familiarity with how these cell models are structured, and some intuition for how the major currents in the ventricle and atria determine the integrated electrophysiology of the cell. Unfortunately we won't have a chance to look at complex effects, such as frequency-dependent outcomes, but we can at least gain a sense of how each current contributes to changes in action potential morphology.  \n",
    "\n",
    "First, some more tools."
   ]
  },
  {
   "cell_type": "code",
   "execution_count": 5,
   "metadata": {},
   "outputs": [],
   "source": [
    "from ipywidgets import interact, FloatSlider, Dropdown\n",
    "import L6_widgets as L6\n",
    "import importlib"
   ]
  },
  {
   "cell_type": "markdown",
   "metadata": {},
   "source": [
    "Now we'll load a widget that will let you inspect the behaviour of the ventricular AP model by changing the conductances of all the major sarcolemmal currents. \n",
    "\n",
    "*FIRST*: Answer some intuitive questions that you should already have a good idea about:\n",
    "\n",
    "1. What is the maximum reachable positive potential?\n",
    "2. Which current maintains a stable resting potential?\n",
    "3. Is it possible to make the human AP as short as a mouse AP (~30 ms)? How?\n",
    "4. Is it possible to prolong the AP by increasing a potassium channel conductance?\n",
    "5. Is it possible to increase the peak of the calcium transient by increasing a potassium channel conductance?\n",
    "6. How do INCX and INKa modulate repolarisation?\n",
    "7. What are the background currents (NaB, ClB, CaB)? Are they important?\n",
    "\n",
    "**See if the model agrees...**"
   ]
  },
  {
   "cell_type": "code",
   "execution_count": 6,
   "metadata": {},
   "outputs": [
    {
     "data": {
      "application/vnd.jupyter.widget-view+json": {
       "model_id": "d8248cde984e4001bbe3e34d382b93c3",
       "version_major": 2,
       "version_minor": 0
      },
      "text/plain": [
       "interactive(children=(Dropdown(description='Cell type:', options={'Epi': 1, 'Endo': 0}, value=1), FloatSlider(…"
      ]
     },
     "metadata": {},
     "output_type": "display_data"
    },
    {
     "data": {
      "text/plain": [
       "<L6_widgets.VentricularAPWidget at 0x7feb407be370>"
      ]
     },
     "execution_count": 6,
     "metadata": {},
     "output_type": "execute_result"
    }
   ],
   "source": [
    "importlib.reload(L6)\n",
    "L6.VentricularAPWidget()"
   ]
  },
  {
   "cell_type": "markdown",
   "metadata": {},
   "source": [
    "## Exercise 3: Reachable model configurations\n",
    "\n",
    "Because of the uncertainty in model construction, and variability in the underlying experimental data, it is always tempting to ask what are the major differences between models thought to represent different biological contexts. The next widget asks you to try to turn a ventricular cell into an atrial cell. We have made it somewhat easier by using an atrial model from the same authors. See how close you can get."
   ]
  },
  {
   "cell_type": "code",
   "execution_count": 7,
   "metadata": {},
   "outputs": [
    {
     "data": {
      "application/vnd.jupyter.widget-view+json": {
       "model_id": "4389480bece84e8d9aea2582195583f2",
       "version_major": 2,
       "version_minor": 0
      },
      "text/plain": [
       "interactive(children=(Dropdown(description='Cell type:', options={'Epi': 1, 'Endo': 0}, value=1), FloatSlider(…"
      ]
     },
     "metadata": {},
     "output_type": "display_data"
    },
    {
     "data": {
      "text/plain": [
       "<L6_widgets.VentricularAPWidget2 at 0x7feb38363670>"
      ]
     },
     "execution_count": 7,
     "metadata": {},
     "output_type": "execute_result"
    }
   ],
   "source": [
    "importlib.reload(L6)\n",
    "L6.VentricularAPWidget2()"
   ]
  },
  {
   "cell_type": "markdown",
   "metadata": {},
   "source": [
    "### What about in the other direction?\n",
    "\n",
    "Is it possible to make the atrial model look like a ventricular cell?"
   ]
  },
  {
   "cell_type": "code",
   "execution_count": 8,
   "metadata": {},
   "outputs": [
    {
     "data": {
      "application/vnd.jupyter.widget-view+json": {
       "model_id": "a288feeb07f2465e8ea0ecc06e02f470",
       "version_major": 2,
       "version_minor": 0
      },
      "text/plain": [
       "interactive(children=(FloatSlider(value=1.0, continuous_update=False, description='gNa scale factor', max=10.0…"
      ]
     },
     "metadata": {},
     "output_type": "display_data"
    },
    {
     "data": {
      "text/plain": [
       "<L6_widgets.AtrialAPWidget at 0x7feb5197e8b0>"
      ]
     },
     "execution_count": 8,
     "metadata": {},
     "output_type": "execute_result"
    }
   ],
   "source": [
    "importlib.reload(L6)\n",
    "L6.AtrialAPWidget()"
   ]
  },
  {
   "cell_type": "code",
   "execution_count": null,
   "metadata": {
    "collapsed": true
   },
   "outputs": [],
   "source": []
  }
 ],
 "metadata": {
  "kernelspec": {
   "display_name": "Python 3",
   "language": "python",
   "name": "python3"
  },
  "language_info": {
   "codemirror_mode": {
    "name": "ipython",
    "version": 3
   },
   "file_extension": ".py",
   "mimetype": "text/x-python",
   "name": "python",
   "nbconvert_exporter": "python",
   "pygments_lexer": "ipython3",
   "version": "3.8.3"
  }
 },
 "nbformat": 4,
 "nbformat_minor": 2
}
