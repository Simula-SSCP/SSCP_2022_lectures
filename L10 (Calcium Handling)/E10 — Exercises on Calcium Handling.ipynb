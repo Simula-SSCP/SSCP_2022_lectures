{
 "cells": [
  {
   "cell_type": "markdown",
   "id": "8cecec28",
   "metadata": {},
   "source": [
    "# E10 — Exercises on Calcium Handling\n",
    "\n",
    "In this notebook we look at some exercises to explore intracellular calcium handling a bit more hands on. We will see if we get time to solve all of these problems and subproblems, but we might skip a few of them in the end.\n",
    "\n",
    "This notebook contains the following exercises:\n",
    "\n",
    "* [Exercise 1: A Simple Calcium Cycling Model](#1)\n",
    "* [Exercise 2: Thermodynamic Limits of SERCA](#2)\n",
    "* [Exercise 3: Thermodynamics of the NCX](#3)"
   ]
  },
  {
   "cell_type": "markdown",
   "id": "d447f6b0",
   "metadata": {},
   "source": [
    "<a id=\"1\"></a>\n",
    "## Exercise 1: A Simple Calcium Cycling Model\n",
    "\n",
    "In this notebook you will formulate and implement a simple calcium cycling model to explore intracellular calcium handling a bit more hands on.\n",
    "The model you will implement is based on ..., though we have changed some of the variable names from the original publication to make it more similar to how we present the material in L10.\n",
    "\n",
    "\n",
    "Writing out the equations of the system"
   ]
  },
  {
   "cell_type": "markdown",
   "id": "647e7a6e",
   "metadata": {},
   "source": [
    "There are three domains:\n",
    "* The intracellular cytosol\n",
    "* The sarcoplasmic reticulum (SR)\n",
    "* The extracellular space\n",
    "\n",
    "We denote the concentration of calcium in each of these domains as $\\rm [Ca^{2+}]_i$, $\\rm [Ca^{2+}]_{\\rm SR}$ and $\\rm [Ca^{2+}]_e$ respectively. The first two of these are model states which change over time, while we assume the extracellular concentration to be constant.\n",
    "\n",
    "* There is an external calcium entry through the sarcolemma: $J_{\\rm entry}$\n",
    "\n",
    "We assume this flux to be a passive, linear flux, driven by the concentration gradient across the sarcolemma, i.e.\n",
    "\n",
    "\\begin{equation}\n",
    "J_{\\rm entry} = k_1 \\left({\\rm [Ca^{2+}]_e} - {\\rm [Ca^{2+}]_i} \\right)\n",
    "\\end{equation}\n",
    "\n",
    "\n",
    "\n",
    "\n",
    "\n",
    "We also define four fluxes between these domains:\n",
    "* There is an external calcium entry through the sarcolemma: $J_{\\rm entry}$\n",
    "* There is an extrusion of calcium through the sarcolemma: $J_{\\rm extrusion}$\n",
    "* There is a release of calcium from the SR: $J_{\\rm rel}$\n",
    "* There is an uptake of calcium back into the SR: $J_{\\rm uptake}$.\n",
    "\n",
    "\n",
    "#### Exercise 1a) Describing the system\n",
    "\n",
    "Based on what we have covered in the lecture, what are the main ion channels, exchangers or pumps responsible for each of these four fluxes in the cardiomyocyte?\n",
    "\n",
    "\n"
   ]
  },
  {
   "cell_type": "markdown",
   "id": "d1ac6434",
   "metadata": {},
   "source": [
    "\\begin{equation}\n",
    "\\frac{\\rm d [Ca^{2+}]_i}{{\\rm d}t} = J_{\\rm L} + J_{\\rm rel} - J_{\\rm NCX} - J_{\\rm SERCA}.\n",
    "\\end{equation}\n",
    "\n",
    "\\begin{equation}\n",
    "\\frac{\\rm d [Ca^{2+}]_i}{{\\rm d}t} = \\gamma \\left(J_{\\rm SERCA} - J_{\\rm rel}\\right).\n",
    "\\end{equation}\n",
    "\n",
    "Here $\\gamma$ is a model parameter representing the ratio of the cytoplasmic volume to the SR volume.\n"
   ]
  },
  {
   "cell_type": "markdown",
   "id": "7fd6efec",
   "metadata": {},
   "source": [
    "And then we need to implement expressions for the fluxes, which we do as follows\n",
    "\n",
    "\\begin{equation}\n",
    "\\end{equation}"
   ]
  },
  {
   "cell_type": "code",
   "execution_count": 20,
   "id": "ddf9713c",
   "metadata": {},
   "outputs": [],
   "source": [
    "k_entry = 5e-6 # 1/s\n",
    "k_extrusion = 0.132 # 1/s\n",
    "k_uptake = 3.78 # 1/s\n",
    "kappa0 = 0.054 # 1/s\n",
    "kappa1 = 2.4\n",
    "Kd = 0.23\n",
    "n = 3.8\n",
    "gamma = 0.24"
   ]
  },
  {
   "cell_type": "markdown",
   "id": "61e0faea",
   "metadata": {},
   "source": [
    "* Applying caffine to the system makes RyR more sensitive to calcium. Which means the dependence of $J_{\\rm rel}$ to Cai should increase. What model parameters reflect this?\n",
    "\n",
    "* The original paper by Friel states that the system will not produce oscillations if there is either no caffine or very high caffine in the system. This is because this effectively removes the dependence of the release current on the intracellular calcium and the system reduces to a linear model.\n",
    "\n",
    "Play around with the relevant parameters and verify that this is actually the case.\n"
   ]
  },
  {
   "cell_type": "code",
   "execution_count": 91,
   "id": "607583df",
   "metadata": {},
   "outputs": [],
   "source": [
    "import numpy as np\n",
    "import matplotlib.pyplot as plt\n",
    "from scipy.integrate import solve_ivp\n",
    "\n",
    "def rhs(t, y, Cao, k_entry, k_extrusion, k_uptake, kappa0, kappa1, Kd, n, gamma):\n",
    "    # Split up the state vector\n",
    "    Cai, CaSR = y    \n",
    "    \n",
    "    # Define the linear fluxes\n",
    "    Jentry = k_entry * (Cao - Cai)\n",
    "    Jextrusion = k_extrusion * Cai\n",
    "    Juptake = k_uptake * Cai\n",
    "    \n",
    "    # Compute the release rate (CICR)\n",
    "    k_rel = kappa0 + kappa1 * Cai**n/(Cai**n + Kd**n)\n",
    "    Jrel = k_rel * (CaSR - Cai)\n",
    "    \n",
    "    # Define the derivatives\n",
    "    dCai_dt = Jentry + Jrel - Jextrusion - Juptake\n",
    "    dCaSR_dt = (Juptake - Jrel)/gamma\n",
    "    \n",
    "    return dCai_dt, dCaSR_dt"
   ]
  },
  {
   "cell_type": "code",
   "execution_count": 132,
   "id": "033b102a",
   "metadata": {},
   "outputs": [],
   "source": [
    "#constants\n",
    "Cao = 1000;\n",
    "\n",
    "k_entry = 2e-5 # 1/s\n",
    "k_extrusion = 0.132 # 1/s\n",
    "k_uptake = 0.9 # 1/s\n",
    "kappa0 = 0.013 # 1/s\n",
    "kappa1 = 0.58 # 1/s\n",
    "Kd = 0.5 # µM\n",
    "n = 3.\n",
    "gamma = 0.24\n",
    "\n",
    "##constants\n",
    "#k_entry = 2*10**(-5);\n",
    "#k_extrusion = 0.13;\n",
    "#k_uptake = 0.9;\n",
    "#kappa0 = 0.013;\n",
    "#kappa1 = 0.58;\n",
    "#Kd = 0.5 # µM\n",
    "#n = 3\n",
    "#gamma = 4.17;\n",
    "\n",
    "\n"
   ]
  },
  {
   "cell_type": "code",
   "execution_count": 133,
   "id": "7eecc513",
   "metadata": {},
   "outputs": [],
   "source": [
    "# Define initial conditions and parameters needed by solve_ivp\n",
    "T = (0, 1000)\n",
    "y0 = (0.0795, 4.1725)\n",
    "params = (Cao, k_entry, k_extrusion, k_uptake, kappa0, kappa1, Kd, n, gamma)\n",
    "\n",
    "# Solve the ODE\n",
    "solution = solve_ivp(rhs, T, y0, args=params, max_step=0.1)"
   ]
  },
  {
   "cell_type": "code",
   "execution_count": 134,
   "id": "e41f0932",
   "metadata": {},
   "outputs": [
    {
     "data": {
      "image/png": "[encoded data removed]",
      "text/plain": [
       "<Figure size 432x288 with 2 Axes>"
      ]
     },
     "metadata": {
      "needs_background": "light"
     },
     "output_type": "display_data"
    }
   ],
   "source": [
    "Cai, CaSR = solution.y\n",
    "t = solution.t\n",
    "\n",
    "plt.subplot(2, 1, 1)\n",
    "plt.plot(t, Cai)\n",
    "plt.ylabel('Cyt. calcium (µM)')\n",
    "plt.xlim(*T)\n",
    "plt.ylim(0, 1)\n",
    "\n",
    "plt.subplot(2, 1, 2)\n",
    "plt.plot(t, CaSR)\n",
    "plt.xlabel('Time (ms)')\n",
    "plt.ylabel('SR Calcium (µM)')\n",
    "plt.xlim(*T)\n",
    "plt.ylim(0, 10)\n",
    "plt.show()\n",
    "\n",
    "\n"
   ]
  },
  {
   "cell_type": "code",
   "execution_count": 135,
   "id": "e74c3589",
   "metadata": {},
   "outputs": [
    {
     "data": {
      "image/png": "[encoded data removed]",
      "text/plain": [
       "<Figure size 432x288 with 1 Axes>"
      ]
     },
     "metadata": {
      "needs_background": "light"
     },
     "output_type": "display_data"
    }
   ],
   "source": [
    "Cai = np.linspace(0, 1, 1001)\n",
    "k_rel = kappa0 + kappa1 * Cai**n/(Cai**n + Kd**n)\n",
    "\n",
    "plt.plot(Cai, k_rel)\n",
    "plt.show()"
   ]
  },
  {
   "cell_type": "markdown",
   "id": "7982faad",
   "metadata": {},
   "source": [
    "**Exercise ) Exploring the CICR model (Widget)**\n",
    "\n",
    "For CICR to be a robust mechanism the release current needs to be very small when the cytosolic Ca$^{2+}$ concentration is low, but increase rapidly at a certain threshold. Recall that the rate is given by\n",
    "\n",
    "\\begin{equation}\n",
    "k_{\\rm rel} = \\kappa_0 + \\kappa_1 \\times \\frac{\\rm [Ca^{2+}]^n_{\\rm i}}{K_{\\rm d}^n + [{\\rm Ca}^{2+}]_{\\rm i}^n}\n",
    "\\end{equation}\n",
    "\n",
    "Use the Widget below to explore how the rate of the release depends on its four parameters: $\\kappa_0$, $\\kappa_1$, $K_{\\rm d}$, $n$."
   ]
  },
  {
   "cell_type": "code",
   "execution_count": 2,
   "id": "fa0df5bb",
   "metadata": {},
   "outputs": [
    {
     "data": {
      "application/vnd.jupyter.widget-view+json": {
       "model_id": "a8afbae1a2fa49b0b0762a68d3ed51a3",
       "version_major": 2,
       "version_minor": 0
      },
      "text/plain": [
       "interactive(children=(FloatSlider(value=0.1, description='kappa0', max=1.0), FloatSlider(value=0.6, descriptio…"
      ]
     },
     "metadata": {},
     "output_type": "display_data"
    }
   ],
   "source": [
    "from L10_widget import CICRWidget\n",
    "\n",
    "CICRWidget().krel_widget()"
   ]
  },
  {
   "cell_type": "code",
   "execution_count": 70,
   "id": "2a2a22ba",
   "metadata": {},
   "outputs": [],
   "source": [
    "import numpy as np\n",
    "import matplotlib.pyplot as plt\n",
    "import scipy as sp\n",
    "import scipy.integrate\n",
    "\n",
    "from array import array\n",
    "from pylab import *\n",
    "from scipy.integrate.odepack import odeint\n",
    "\n",
    "\n",
    "from scipy.integrate import odeint\n",
    "from scipy.integrate import solve_ivp\n",
    "from math import exp, log, sqrt, pi\n",
    "\n",
    "#constants\n",
    "k_1 = 2*10**(-5);\n",
    "k_2 = 0.13;\n",
    "k_4 = 0.9;\n",
    "kappa_1 = 0.013;\n",
    "kappa_2 = 0.58;\n",
    "K_d = 0.5;\n",
    "n = 3;\n",
    "gamma = 4.17;\n",
    "c0 = 1000;\n",
    "\n",
    "params = (k_1, k_2, k_4, kappa_1, kappa_2, K_d, n, gamma)\n"
   ]
  },
  {
   "cell_type": "code",
   "execution_count": 71,
   "id": "5a3cc671",
   "metadata": {},
   "outputs": [],
   "source": [
    "# Implement the right-hand-side of the system\n",
    "\n",
    "def rhs(t, y, k_1, k_2, k_4, kappa_1, kappa_2, K_d, n, gamma):\n",
    "    #c, cSR = y\n",
    "\n",
    "    #input\n",
    "    c = y[0];\n",
    "    cSR = y[1];\n",
    "\n",
    "    #calculation of k_3\n",
    "    k_3 = kappa_1 + (kappa_2*c**n)/(K_d**n+c**n)\n",
    "    #calcium entry\n",
    "    J_L1 = k_1 * (c0 - c)\n",
    "    #calcium extrusion\n",
    "    J_P1 = k_2 * c;\n",
    "    #calcium release\n",
    "    J_L2  = k_3 *(cSR - c);\n",
    "    #calcium uptake\n",
    "    J_P2 = k_4 *c;\n",
    "\n",
    "    #caculate time dependent functions\n",
    "    dc_dt =   J_L1-J_P1+J_L2-J_P2\n",
    "    dcSR_dt = gamma*(-J_L2+J_P2) \n",
    "    \n",
    "    return [dc_dt, dcSR_dt]\n",
    "\n"
   ]
  },
  {
   "cell_type": "code",
   "execution_count": 72,
   "id": "d808e927",
   "metadata": {},
   "outputs": [],
   "source": [
    "# Make a vector of time points where solutions are to be computed\n",
    "time = (0, 1000)\n",
    "\n",
    "# Define the initial condition\n",
    "y_0 = (0.0795, 4.1725)\n",
    "\n",
    "# Call the ODE solver\n",
    "solutions = solve_ivp(rhs, y_0, time, args=params)\n"
   ]
  },
  {
   "cell_type": "markdown",
   "id": "e3b974dc",
   "metadata": {},
   "source": [
    "<a id=\"2\"></a>\n",
    "## Exercise 2: Thermodynamic Limits of SERCA\n",
    "\n",
    "The sarco/endoplasmic reticulum calcium ATPase (SERCA) pump is responsible for pumping calcium into the SR from the cytosol in cardiomyocytes. This has to majorly important functions:\n",
    "* Maintain a high SR load, which can give a rapid and strong calcium transient through the CICR mechanism\n",
    "* Maintain very low levels of resting cytosolic calcium, important for allowing the myocyte to relax in between contractions\n",
    "\n",
    "Ideally the SERCA pump would pump all available calcium from the cytosol into the SR. However, due to the diffusive pressure of calcium, there has to be some theoretical maximum for how large concentration gradients the SERCA pump can achieve. In this exercise you will analyze the thermodynamics of the problem to find this theoretical limit."
   ]
  },
  {
   "cell_type": "markdown",
   "id": "843d6f9e",
   "metadata": {},
   "source": [
    "**Exercise 2a) Change in Gibbs Energy**\n",
    "\n",
    "In the lecture on physical chemistry, L2, we introduced a quantity dubbed *Gibbs energy*. Recall now that for any spontaneous process, we must have that $\\Delta G < 0$. Explain briefly why this is the case.\n",
    "\n",
    "For every cycle of the SERCA pump, it pumps two calcium ions from the cytosol into the SR. This will incur a change in Gibbs energy of\n",
    "\n",
    "$$\\Delta G_{\\rm pump} = 2RT \\ln\\left(\\frac{\\rm [Ca^{2+}]_{SR}}{\\rm [Ca^{2+}]_i}\\right),$$\n",
    "\n",
    "It is generally the case that $ {\\rm [Ca^{2+}]_{SR}} > {\\rm [Ca^{2+}]_i}$. What does this mean for the value of $\\Delta G_{\\rm pump}$. Explain why this tells us that SERCA must expend energy to move calcium ions into the SR."
   ]
  },
  {
   "cell_type": "markdown",
   "id": "b4bae0e7",
   "metadata": {},
   "source": [
    "**Exercise 2b) Coupling processes**\n",
    "\n",
    "SERCA is an ATPase, meaning it is an enzyme that can break down ATP molecules into ADP, a process that releases a bit of energy which SERCA can use. Explain why it must be the case that\n",
    "\n",
    "$$\\Delta G_{\\rm pump} + \\Delta G_{\\rm ATP} < 0.$$\n",
    "\n",
    "Where $G_{\\rm ATP}$ is the change in Gibbs Energy we get from \"spending\" a single ATP molecule.\n"
   ]
  },
  {
   "cell_type": "markdown",
   "id": "90026d03",
   "metadata": {},
   "source": [
    "**Exercise 2c) Maximum concentration ratio**\n",
    "\n",
    "Insert the expression from 2a into 2b and solve for ${\\rm [Ca^{2+}]_{SR}}$. Show that this yields\n",
    "\n",
    "$${\\rm [Ca^{2+}]_{SR}} < {\\rm [Ca^{2+}]_{i}} \\times {\\rm exp}\\ \\bigg[\\frac{\\Delta G_{\\rm ATP}}{2RT}\\bigg].$$\n",
    "\n",
    "To find a specific value we will need to know the value of $\\Delta G_{\\rm ATP}$. Looking up the value in the literature reveals that this value changes with several factors. For the conditions inside a mammalian myocyte it will typically be in the range 50–70 kJ/mol. As no molecular machine, like SERCA, will ever be perfectly efficient, it makes sense to pick a number on the lower end of the scale or slightly below this.\n",
    "\n",
    "Insert $\\Delta G_{\\rm ATP}$ to find a final estimate. It can be useful to know that for body temperature, $2RT \\approx 5.2$ kJ/mol. What is the maximal concentration gradient SERCA can theoretically maintain across the SR membrane?"
   ]
  },
  {
   "cell_type": "markdown",
   "id": "a661fe7f",
   "metadata": {},
   "source": [
    "**Exercise 2d) The difference between theory and practice**\n",
    "\n",
    "A commonly cited statement is that SERCA can maintain a calcium gradient of about 1:7000, i.e., the SR load can be at most 7000-fold higher than the cytosolic calcium. Compare this statement with the theoretical limit you found. If there are differences, discuss why this might be. Does it seem like SERCA is operating at its thermodynamic limit?"
   ]
  },
  {
   "cell_type": "markdown",
   "id": "cb092ebb",
   "metadata": {},
   "source": [
    "<a id=\"3\"></a>\n",
    "## Exercise 3: Thermodynamics of the NCX\n",
    "\n",
    "\n",
    "\n",
    "\n",
    "The NCX transports 3 sodium ions and 1 calcium ions across the membrane at the same time. NCX spends no ATP and so the only change in Gibbs energy for one cycle of the NCX is the sum of these four ions shifting domains\n",
    "\n",
    "$$\\Delta G_{\\rm NCX} = \\Delta G_{\\rm Ca} - 3\\Delta G_{\\rm Na}$$\n",
    "\n",
    "here we have defined $\\Delta G_{\\rm Ca}$ and $\\Delta G_{\\rm Ca}$ to be the energy change when ions are transported out of the cell, which is why the two terms have been given opposite signs.\n",
    "\n",
    "A process will occur spontaneously if $\\Delta G < 0$. Thus we see that if $\\Delta G_{\\rm Ca} < 3\\Delta G_{\\rm Na}$ we will have calcium being pumped out of the cell. However, we can also have the case that $\\Delta G_{\\rm Ca} > 3\\Delta G_{\\rm Na}$, in which case the transport will occur spontaneously in the opposite direction. The NCX therefore has two modes, typically called the forward mode (where Ca$^{2+}$ is removed from the cell) and the reverse mode (where it is entering the cell).\n",
    "\n",
    "The change in Gibbs energy from moving a particle from inside to outside the cell depends both on the concentration gradient and the membrane potential. We have actually already analyzed this exact scenario when we derived the Nernst potential. From that derivation we know that $\\Delta G_{\\rm X} = zF(E_{\\rm x} - V)$. Inserting this into our current expression gives\n",
    "\n",
    "$$\\Delta G = 2F(E_{\\rm Ca} - V) - 3F(E_{\\rm Na} - V)$$\n",
    "\n",
    "We are interested in whether $\\Delta G < 0$ or $\\Delta G > 0$ so we can simplify by removing the factor of $F$, and solve for $V$, which gives\n",
    "\n",
    "$$\\Delta G < 0 \\quad \\Rightarrow \\quad V < 3E_{\\rm Na} - 2E{\\rm Ca}.$$\n",
    "\n",
    "This inequality tells us the condition for when calcium can be transported out of the cell through NCX. We see that this happens when the membrane potential is *below* a given threshold. If the membrane potential is larger however, the direction of the NCX flux will reverse.\n",
    "\n",
    "Put simply, we have found the *reversal potential* for the NCX, which can be expressed as \n",
    "\n",
    "$$E_{\\rm NCX} = 3E_{\\rm Na} - 2E_{\\rm Ca}.$$\n",
    "\n",
    "This reversal potential is completely analogous to the reversal potential (aka the Nernst potential) of our other ionic currents. Because of this, we might be tempted to model the NCX as an ohmic current: $I_{\\rm NCX} = g_{\\rm NCX}(V - E_{\\rm NCX})$. However, the NCX doesn't really behave in this simple ohmic manner, and the kinetics of the current will depend strongly on the calcium and sodium concentrations. However, the reversal potential does tell us something about when the exchanger is active, and in which direction the exchange is occurring.\n"
   ]
  },
  {
   "cell_type": "code",
   "execution_count": null,
   "id": "92da9577",
   "metadata": {},
   "outputs": [],
   "source": []
  }
 ],
 "metadata": {
  "kernelspec": {
   "display_name": "Python 3",
   "language": "python",
   "name": "python3"
  },
  "language_info": {
   "codemirror_mode": {
    "name": "ipython",
    "version": 3
   },
   "file_extension": ".py",
   "mimetype": "text/x-python",
   "name": "python",
   "nbconvert_exporter": "python",
   "pygments_lexer": "ipython3",
   "version": "3.6.9"
  }
 },
 "nbformat": 4,
 "nbformat_minor": 5
}
