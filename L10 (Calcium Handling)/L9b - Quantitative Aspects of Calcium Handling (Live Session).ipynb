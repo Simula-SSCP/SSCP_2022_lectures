{
 "cells": [
  {
   "cell_type": "markdown",
   "metadata": {},
   "source": [
    "# L9b - Quantitative Aspects of Calcium Handling (Live Session)"
   ]
  },
  {
   "cell_type": "markdown",
   "metadata": {},
   "source": [
    "### SR Ca Leak\n",
    "\n",
    "Calcium mainly leaves the SR through the RyR-facilitated calcium release during the upstroke of the calcium transient. However, experiments show that there is a smaller amount of calcium that also leaves the SR throughout the action potential, also when the cell is resting.\n",
    "\n",
    "There has been a debate in the litterature over what pathway the calcium that leaks from the SR actually takes. Some potential candidates are either through the reverse mode of the SERCA pump, through other, unidentified channels in the SR membrane or perhaps through RyR activity outside of normal release.\n",
    "\n",
    "<img src=\"fig/SRleak.png\" width=350>\n",
    "\n",
    "Without going into to much detail, the answer has more or less turned out to be through RyR activity. When looking at whole-cell models however, it is very hard to incorporate this leak current into the RyR model itself, and so you will often find it included as a distinct \"SR leak\" channel or current."
   ]
  }
 ],
 "metadata": {
  "kernelspec": {
   "display_name": "Python 3",
   "language": "python",
   "name": "python3"
  },
  "language_info": {
   "codemirror_mode": {
    "name": "ipython",
    "version": 3
   },
   "file_extension": ".py",
   "mimetype": "text/x-python",
   "name": "python",
   "nbconvert_exporter": "python",
   "pygments_lexer": "ipython3",
   "version": "3.8.5"
  }
 },
 "nbformat": 4,
 "nbformat_minor": 2
}
