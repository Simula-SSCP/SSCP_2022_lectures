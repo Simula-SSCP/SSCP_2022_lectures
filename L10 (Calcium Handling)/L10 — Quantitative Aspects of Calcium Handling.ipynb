{
 "cells": [
  {
   "cell_type": "markdown",
   "metadata": {},
   "source": [
    "# L10 — Quantitative Aspects of Calcium Handling\n",
    "\n",
    "In this lecture we will start shifting our focus from the membrane of the cell, to what happens inside the cell. Here we will mainly discuss intracellular *calcium handling*. This is an important topic because calcium is what couples electrical activation of the cell to contraction, a process typically called excitation-contraction (EC) coupling. \n",
    "\n",
    "We will leave contraction and force production as a topic for this afternoon, and for now we focus on understanding how calcium enters and leaves the cytosol during an action potential. As usual this is quite a complex topic, and there are many details. We try to focus on giving you an overview and point out the most important actors involved in calcium handling and how to model these.\n",
    "\n",
    "The main topics we cover in this lecture are as following\n",
    "* [Excitation-Contraction coupling](#ECC)\n",
    "* [The SERCA Pump](#SERCA)\n",
    "* [The Na-Ca Exchanger](#NCX)\n",
    "* [Regulation of EC coupling](#regulation)\n",
    "\n",
    "* Also: Calcium buffering, RyR"
   ]
  },
  {
   "cell_type": "markdown",
   "metadata": {},
   "source": [
    "<a id='ECC'></a>\n",
    "# Excitation-Contraction Coupling in the Cell\n",
    "\n",
    "Over 200 years ago, Luigi Galvani reported that the leg muscles of dead frogs would twitch if he created an electrical spark. This was the beginning of the study of *excitation-contraction coupling*, the process where electrical activation of a muscle cell causes it to contract. \n",
    "\n",
    "We have so far studied the cellular action potential in detail, and have seen how gated ion channels in the cell membrane are responsible for producing these spontaneous electrical signals. We will now try to understand how depolarization of the membrane can cause the cell to contract.\n",
    "\n",
    "The action potential occurs mainly at the cell membrane, but contraction occurs in the myofilaments within the cell. For exciation and contraction to be coupled, we therefore need some process which can transport the signal from the depolarizing cell membrane, into the cytosol and bind to the myofilaments. It turns out that this signal is mediated by diffusing calcium ions (Ca$^{2+}).\n",
    "\n",
    "### Calcium as a signaling molecule\n",
    "\n",
    "The rapid changes in the membrane potential of the cell during an action potential occurs due to electrically charged ions (mainly Na$^+$, K$^+$ and Ca$^{2+}$) passing through ion channels in the membrane. For sodium and potassium, these fluxes have relatively small impacts on the intracellular ion concentrations, and these shift at most a few percent. For calcium, however, the relative change in concentration can enormous, with the cytosolic calcium levels increasing by as much as a thousandfold on the order of tens of milliseconds. This is not because calcium fluxes are much larger in magnitude than sodium and potassium, but rather that the diastolic calcium levels are *incredibly* low, typically as low as ~100 nM, meaning the relative changes in concentrations become much larger.\n",
    "\n",
    "The rapid increase in calcium concentration in the cell is known as the calcium *transient*. This is because calcium levels decay back to resting levels during repolarization, and so the increased calcium levels occur only *transiently*. Put simply, we can say that this calcium transient is what triggers contraction of the cell. Precisely because the transient is so strong and occurs only during systole, it is a very clear signal in the cell. In comparison, sodium and potassium levels have such small relative shifts that they have poor signal-to-noise ratio.\n",
    "\n",
    "<p style=\"margin-bottom:1cm;\"></p>\n",
    "<center><img src=\"fig/ca_transients.png\" width=500></center>\n",
    "<center><div style=\"max-width:750px; word-wrap:break-word;\"><b>Figure 1:</b> On the top you can see a train of three action potentials. On the bottom you can see the corresponding cytosolic calcium levels. During the depolarizing phase we see a rapid and drastic increase in cytosolic calcium over tens of milliseconds. During the repolarizing and resting phase of the AP, this calcium decays and returns to diastolic levels. Because the increase in calcium is only temporary, we typically call this signal the <i>calcium transient</i>.</div></center>\n",
    "    \n",
    "<p style=\"margin-bottom:1cm;\"></p>\n",
    "<center><img src=\"fig/skeletal_EC2.png\" width=600></center>\n",
    "<center><div style=\"max-width:750px; word-wrap:break-word;\"><b>Figure 1b:</b> The action potential is what drives the calcium transient, which in turn causes contraction of the cell. This is why we say calcium is the mediator of excitation-contraction coupling.</div></center>\n",
    "<p style=\"margin-bottom:1cm;\"></p>\n",
    "\n",
    "In addition to being a signal for contraction, calcium is a signal for a large number of process in the cell, both short term and long term. In the short term, elevated calcium levels can drive the activity of kinases, phosphatases, ion channels, exchangers and transporters. In the long term, elevated levels of calcium can be responsible for function, growth, gene expression, differentiation, remodeling and development of cells. \n",
    "\n",
    "Put simply, calcium makes a lot of stuff happen. In chronic heart disease, calcium handling is often found to be disrupted. In addition, calcium handling is quite different across mammalian species, and understanding these differences can be crucial when using animal models or develop drugs. While calcium is important for a large number of signaling pathways, what we mainly want to focus on right now is how the calcium transient itself is formed, and how it decays back to resting levels.\n",
    "\n",
    "<p style=\"margin-bottom:1cm;\"></p>\n",
    "<center><img src=\"fig/calmodulin.png\" width=500></center>\n",
    "\n",
    "<center><div style=\"max-width:800px; word-wrap:break-word;\"><b>Figure 2: Examples of calcium signaling molecules</b> <br>\n",
    "    <b>Left:</b>Calcium-modulated protein (calmodulin or CaM) is found in the cytosol. When there is no calcium bound to it, it is inactive. When calcium binds to CaM it in turn binds to other molecules in the cell triggering long chains of other processes.<br>\n",
    "    <b>Right:</b> Calcium/calmodulin dependent protein kinase II (CaMKII) are macromolecules in cardiomyocytes activated by calmodulin. Kinases are enzymes that drive <i>phosphorylation</i> which in turn alters the activity of other processes in the cell.</b> \n",
    "</div></center>\n",
    "<p style=\"margin-bottom:1cm;\"></p>"
   ]
  },
  {
   "cell_type": "markdown",
   "metadata": {},
   "source": [
    "### Force as a function of the calcium transient\n",
    "\n",
    "Contraction of the cell occurs when there is enough free calcium in the cytosol, which can then bind to organelles known as *myofilaments*, causing contraction. The mechanism of force production in the myofilaments is described by *sliding filament theory*, which is the topic of the following lectures. For now we want to simple state that free calcium causes contraction, and that contraction ends once calcium levels drop back down.\n",
    "\n",
    "Note, however, that contraction is *not* an all-or-nothing response to calcium. Rather, the strength of contraction is a direct function of the *magnitude* of the calcium transient. We can model this using the Hill equation, using a Hill coefficient of $n=4$ and a half-saturation point of $K_{1/2} = 600$ nM free calcium. If you recall our discussion on the Hill equation, a coefficient of 4 means force production will be sigmoidal, with a steep dependence on the magnitude of the calcium transient. This is shown in Figure 4 below (the smaller inset curve).\n",
    "\n",
    "Figure 4 contains two graphs, and the distinction between the two is important. The smaller inset graph shows force production as a function of *free* cytosolic calcium, i.e, the actual concentration $\\rm [Ca^{2+}]_i$. The larger graph shows instead how much calcium we have to *add* to the cytosol to trigger contraction. \n",
    "The difference from the two comes mainly from the fact that the cytosol contains a large number of calcium buffers, that will effectively bind and lower the free calcium levels following any Ca$^{2+}$-influx. We therefore need to add a lot more calcium than what would naively think, to properly trigger contraction.\n",
    "<p style=\"margin-bottom:1cm;\"></p>\n",
    "<center><img src=\"fig/force_calcium_curve.png\" width=500></center>\n",
    "<center><div style=\"max-width:750px; word-wrap:break-word;\"><b>Figure 3:</b>Contractile force produced as a function of cytosolic calcium levels. Note that contraction is not an all-or-nothing response, but has a graded and smooth dependence on the amount of calcium in the cytosol. This means that if the cell produces a bigger calcium transient, it will result in a stronger production of force.\n",
    "       <br>Figure taken from [Donald M. Bers Circulation Research. 2000;87:275-281] </div></center>\n",
    "<p style=\"margin-bottom:1cm;\"></p>"
   ]
  },
  {
   "cell_type": "markdown",
   "metadata": {},
   "source": [
    "## Intracellular Structures of the Cardiomyocyte\n",
    "\n",
    "To better understand how the calcium transient is formed, it helps to have an overview of the most important structures of the cell. We therefore show a simplified figure of these\n",
    "\n",
    "<center><img src=\"fig/cardiomyocyte.png\" width=600></center>\n",
    "<center><div style=\"max-width:750px; word-wrap:break-word;\"><b>Figure 4:</b>Schematic of some of the most important calcium handling structures inside the myocyte.\n",
    "       <br>Figure taken from [Zipes and Jalife, 2013]</div></center>\n",
    "\n",
    "Let us give a brief explanation of the different structures shown in the figure:\n",
    "* **The Cell Membrane**, also known as the *sarcolemma*. During an action potential calcium enters the membrane through calcium channels, primarily the L-type channel. Calcium efflux through the membrane is primarily driven by the Na$^{+}$/Ca$^{2+}$-exchanger (NCX) and the plasma membrane  Ca$^{2+}$-pump (PMCA).\n",
    "* **T-tubules** (transverse tubules) are invaginations of the membrane into the cell, effectively giving the cell a much larger surface area and ensuring most of the internal volume of the cell has a short distance to the membrane.\n",
    "* **Myofilaments** contract and produce force and are activated by cytosolic calcium binding to them.\n",
    "* **The mitochondrion** is the powerhouse of the cell and produces the actual energy required for contraction in the form of ATP. In addition the mitochondria does absorb and extrude a small amount of Ca$^{2+}$ but these quantities are small and usually ignored in models.\n",
    "* **The sarcoplasmic reticulum (SR):** The SR is an internal calcium storage inside the cell. The SR consists of a lipid bilayer membrane impermeable to Ca$^{2+}$, just like the external cell membrane. The SR membrane also contains ion channels and pumps for calcium.\n",
    "* **Dyads** are regions where the SR membrane and the external membrane lie close to each other, and these regions are especially important for calcium release, as we will explain shortly."
   ]
  },
  {
   "cell_type": "markdown",
   "metadata": {},
   "source": [
    "## The Calcium Transient, step by step\n",
    "\n",
    "As mentioned, a calcium transient is triggered when the cell fires an action potential. Let us step through the whole process, starting at rest, then seeing how the transient increases and decays back to rest.\n",
    "\n",
    "#### Step 1: Calcium Influx\n",
    "\n",
    "When the cell is at rest, the cytosolic calcium levels are very low. The calcium levels outside the cell, and inside the SR (the intracellular calcium stores) are much, much higher. However, no ion channels in these membranes are open when the cell is at rest, so the cytosolic calcium remains low.\n",
    "\n",
    "When the action potential starts the the membrane potential depolarizes, L-type calcium channels (LTCC) in the cell membrane open and calcium starts to flow into the cell. \n",
    "\n",
    "<center><img src=\"fig/ecc_ltcc.png\" width=600></center>\n",
    "<center><div style=\"max-width:750px; word-wrap:break-word;\">\n",
    "<b>Figure 5a:</b>\n",
    "At the start of the AP, calcium starts entering through the L-type Ca$^{2+}$ channels.\n",
    "</div></center>\n"
   ]
  },
  {
   "cell_type": "markdown",
   "metadata": {},
   "source": [
    "#### Step 2: Calcium-Induced Calcium Release\n",
    "\n",
    "The cell contains intracellular calcium stores called the SR and the SR membrane has its own calcium channels that can open and release Ca$^{2+}$ into the cytosol. These channels are known as ryanodine recepetors (RyR). However, RyRs cannot sense the depolarizing membrane of the cell, because they are not a part of the membrane. Instead they are triggered to open in response to calcium binding to the cytosolic side of the receptor.\n",
    "\n",
    "When the cell fires an AP, calcium enters through the L-type channels and bind to the RyRs, triggering a secondary release of calcium from the SR. This process is known as *calcium induced calcium release* (CICR). Under normal conditions, the calcium flux from the SR through RyR is much larger than the influx from outside the cell through the L-type channel and it is this secondary release that can ensure a fast and large calcium transient.\n",
    "\n",
    "To ensure a strong and robust CICR mechanism most L-type and RyR channels are located close to each other in microdomains called dyads. The membrane also has t-tubules that burrow into the cell allowing the cell to have dyads distributed throughout the cell, not just at the periphery. The calcium released from the SR enters into the dyad, but then diffuses into the rest of the cytosol over time.\n",
    "\n",
    "<center><img src=\"fig/ecc_cicr.png\" width=600></center>\n",
    "<center><div style=\"max-width:600px; word-wrap:break-word;\">\n",
    "<b>Figure 5b:</b>\n",
    "Following influx of Ca$^{2+}$ through L-type channels, a secondary calcium release from the SR through RyR channels is triggered.\n",
    "</div></center>"
   ]
  },
  {
   "cell_type": "markdown",
   "metadata": {},
   "source": [
    "#### Step 3: Diffusion and Contraction\n",
    "\n",
    "A large amount of calcium is entering into the cytosol from both outside the cell and from the SR calcium store. This influx is located primarily in cardiac dyads, but calcium is free to diffuse into the bulk cytosol.\n",
    "\n",
    "As calcium diffuses and spreads it starts binding to a plethora of targets, including myofilaments, triggering contraction of the cell. These binding reactions are dynamic, meaning calcium is binding and releasing continuously. The higher the cytosolic calcium levels rise, the stronger contraction becomes.\n",
    "\n",
    "<center><img src=\"fig/ecc_buffering.png\" width=600></center>\n",
    "<center><div style=\"max-width:600px; word-wrap:break-word;\">\n",
    "<b>Figure 5c:</b>\n",
    "As calcium diffuses out of the dyads into the bulk cytosol it starts binding to myofilaments, causing them to contract.\n",
    "</div></center>"
   ]
  },
  {
   "cell_type": "markdown",
   "metadata": {},
   "source": [
    "#### Step 4: Decay back to baseline\n",
    "\n",
    "As the action potential repolarizes and returns to resting levels calcium has to be removed from the cytosol to ensure that the trigger for activation is removed and the myofilaments can relax long enough for the heart to refill. \n",
    "\n",
    "To remove calcium from the cytosol, it must be pushed against its concentration gradient, i.e., active transport is needed. Calcium is therefore removed from the cytosol through exchangers and pumps. The most important of these are the SERCA pump and the Na/Ca exchanger. \n",
    "\n",
    "The SERCA pump uses ATP to pump calcium back into the SR from the cytosol. This both reduces the cytosolic calcium, and replenished the SR calcium stores. The Na/Ca exchanger (NCX) pumps calcium ions through the external membrane, out of the cell, by coupling it to an influx of sodium. Sodium wants to enter the cell at rest, and so by coupling these two processes we can pump calcium out, by letting sodium in. \n",
    "\n",
    "Another pump in the sarcolemma is the plasma membrane calcium ATPase (PMCA), which also uses ATP to push calcium out. When comparing the two main sarcolemma calcium efflux by capacity, NCX is much more important, moving much more calcium than PMCA.\n",
    "\n",
    "<center><img src=\"fig/ecc_decay.png\" width=600></center>\n",
    "<center><div style=\"max-width:600px; word-wrap:break-word;\">\n",
    "<b>Figure 5d:</b>\n",
    "At the end of the action potential, calcium is removed from the cytosol again to ensure relaxation of the cell. This happens through the SERCA and PMCA pumps and the $\\rm Na^+/Ca^{2+}$-exchanger (NCX).\n",
    "</div></center>"
   ]
  },
  {
   "cell_type": "markdown",
   "metadata": {},
   "source": [
    "### Complete picture\n",
    "\n",
    "We now combine all these processes into a single image. When reading papers or textbooks or attending talks you will often see images such as these. They can be a bit chaotic and overwhemling, but by breaking down the individual components and process they become more manageable. It is important to note that these images often do not show \"snapshots\" where everything is occurring simultaneously, rather they show the sum of a whole action potential.\n",
    "\n",
    "<center><img src=\"fig/ecc_complete.png\" width=600></center>\n",
    "<center><div style=\"max-width:600px; word-wrap:break-word;\">\n",
    "<b>Figure 5e:</b>\n",
    "A schematic of the whole EC coupling process.</div></center>"
   ]
  },
  {
   "cell_type": "markdown",
   "metadata": {},
   "source": [
    "## Calcium Cycling\n",
    "\n",
    "The process outlined above repeats for every single beat of the heart. For every action potential there is calcium influx, triggering contraction, and then a decay back to baseline as calcium is pumped back out of the cytosol. This process is sometimes called *calcium cycling*, to emphasize the cyclical manner in which calcium moves back and forth between the different domains. There are some subtle balances in this cycling that is very important for how the cell is regulated.\n",
    "\n",
    "Recall now that the main actors of calcium *influx* into the cytosol are:\n",
    "* The L-type calcium channels, which drive calcium from the extracellular space into the cytosol\n",
    "* The RyR calcium release channels, which drive calcium from the SR into the cytosol\n",
    "\n",
    "The main actors of calcium *efflux* are:\n",
    "* The NCX, which pumps calcium out of the cell\n",
    "* The SERCA, which pumps calcium into the SR\n",
    "\n",
    "Because all calcium that enters the cell enters into the same domain, NCX and SERCA effectively *compete* for the same calcium when they pump it back out. If one is more active, then the other will get less. However, the calcium that is pumped by the SERCA pump does not leave the cell entirely, but is rather stored in the SR. This stored calcium can then help strengthen the next calcium transient.\n",
    "\n",
    "If *more* calcium is pumped by SERCA than is released by RyR, then the amount of calcium stored in the SR, increases. This is called the *SR load*. If the SR load is higher, then RyR would release more calcium in the next beat, giving stronger transients. If *less* calcium is pumped by SERCA, then the SR load would *decrease*.\n",
    "\n",
    "Because the heart is continuously pumping, it is clear that the SR load cannot decrease or increase forever. Instead, the system will spontaneously tend towards a balance where the amount of calcium released from the SR is the same amount that is pumped back into the SR by SERCA. The same must then necessarily be through for the L-type and NCX. So unless there are some shift in conditions, and we are at *steady-cycle*, then for each beat of have \n",
    "\n",
    "$$\\int J_{\\rm LTCC} \\ {\\rm d}t = \\int J_{\\rm NCX} \\ {\\rm d}t, \\qquad  \\int J_{\\rm RyR} \\ {\\rm d}t = \\int J_{\\rm SERCA} \\ {\\rm d}t.$$\n",
    "\n",
    "Thus, even though the calcium entering and leaving the cell is mixed in the cytosol, there are effectively two smaller calcium cycles that interact.\n",
    "\n",
    "<p style=\"margin-bottom:1cm;\"></p>\n",
    "<center><img src=\"fig/calcium_cycling.png\" width=400></center>\n",
    "<center><div style=\"max-width:600px; word-wrap:break-word;\">\n",
    "<b>Figure 6:</b>\n",
    "For each beat, calcium is cycled into and out of the cell through the sarcolemma by the LTCC and NCX, and released and taken up into the SR by RyR and SERCA. The two \"cycles\" will tend to balance out over time, meaning the amount of calcium released from the SR, is the same amount that is pumped back in.</div></center>\n",
    "<p style=\"margin-bottom:1cm;\"></p>\n",
    "\n",
    "The balance between external and internal calcium cycling might seem subtle, but it has a large impact on how this system behaves. As an example we can compare the balance of NCX and SERCA in different species.\n",
    "\n",
    "In species with a fast heart rhythm and short action potentials, such as rat, there is less time for influx of calcium through L-type channels, and so they need a stronger internal release of calcium to compensate. This means that SERCA has to be stronger compared to NCX in these species. In species with slower heart rhythms and longer action potentials, the LTCC stay open longer, allwoing more calcium to enters. As a result, these species are less reliant on SR release, and so NCX can be stronger compared to SERCA.\n",
    "\n",
    "<p style=\"margin-bottom:1cm;\"></p>\n",
    "\n",
    "<center><img src=\"fig/cycling_fast_vs_slow.png\" width=800></center>\n",
    "<center><div style=\"max-width:800px; word-wrap:break-word;\">\n",
    "<b>Figure 7:</b>\n",
    "The relative importance of LTCC/NCX vs RyR/SERCA can look very different in different species. On the left are species with short action potentials (and high heart rates), such as rats and mice. These rely strongly on Ca$^{2+}$ release from the SR and therefore needs SERCA to be strong. On the right we have species with longer action potentials (and lower heart rates), like humans. Here we are less reliant on SR Ca$^{2+}$ and SERCA is therefore weaker. <br>\n",
    "Figure taken from <a href=http://rsta.royalsocietypublishing.org/content/367/1896/2181.short>Koivumäki et al, 2009.</a></div></center>\n",
    "\n",
    "<p style=\"margin-bottom:1cm;\"></p>\n",
    "\n",
    "<center><img src=\"fig/cycling_fast_vs_slow_bers.png\" width=300><center>\n",
    "<center><div style=\"max-width:700px; word-wrap:break-word;\">\n",
    "<b>Figure 8:</b>\n",
    "In this experiment, calcium leaving the cytosol is integrated over time. In rats, a species with fast heart rhythms, most calcium is cycled into the SR. By comparison, rabbits have slower heart rhythms and more calcium therefore leaves the cell entirely through NCX for each beat. Finally is a rabbit with heart failure, in which case the balance is disrupted, pushing it even more towards NCX.<br>\n",
    "Figure taken from [Donald M. Bers Circulation Research. 2000;87:275-281]</div></center>\n",
    "\n",
    "<p style=\"margin-bottom:1cm;\"></p>\n",
    "\n",
    "The balance between internal and external calcium cycling is not only different between different species, but also between different cell types. It can also change with maturation and disease. Heart failure for instance, is often associated with a decrease in SERCA function, as shown in Figure 8C. From what you have learned so far about calcium cycling, what do you think would be the consequence of downregulated SERCA-function?"
   ]
  },
  {
   "cell_type": "markdown",
   "metadata": {},
   "source": [
    "### A simple model of calcium cycling\n",
    "\n",
    "We will now turn to an interactive exercise, where you will implement a numerical model of calcium cycling. To make a proper model of calcium handling in the cardiomyocyte we need a full action potential model, and interactions get quite heavy very fast.  As we would like a simpler model for this exercise, we instead turn to a simple model of calcium oscillations in sympathetic neurons from Friel et al. (1995), while this is not a cardiomyoycte, the same domains and fluxes are found, and it leads to quite a simple set of ODEs to solve.\n",
    "\n",
    "* <a href=\"E10 — A Simple Calcium Cycling Model.ipynb#1\">E10 — Exercise 1: A Simple Calcium Cycling Model</a>"
   ]
  },
  {
   "cell_type": "markdown",
   "metadata": {},
   "source": [
    "<a id=serca></a>\n",
    "# The SERCA pump\n",
    "\n",
    "We will now take a close look at the SERCA pump, which is one of the two major actors removing calcium from the cytosol at the end of the action potential, and the primary actor refilling the SR. SERCA is an acronym that stands for Sarcoplasmic-Endoplasmic Reticulum Calcium ATPase. The name ATPase means SERCA is a pump that uses energy stored in ATP molecules to pump calcium into the SR. \n",
    "\n",
    "SERCA is a *high-affinity*, *high capacity* pump. High affinity means it can maintain a high pump activity even when there is little cytosolic calcium levels. High capacity means SERCA can pump a lot of calcium. SERCA is high-capacity because there is *a lot* of it in the cell, with much of the surface of the SR membrane being packed with SERCA."
   ]
  },
  {
   "cell_type": "markdown",
   "metadata": {},
   "source": []
  },
  {
   "cell_type": "markdown",
   "metadata": {},
   "source": [
    "### SERCA Pump Models\n",
    "\n",
    "Analyzing the thermodynamics of the pump tells us what ratio the pump can achieve, but it says nothing about the kinetics or rates. Let us therefore take a look at various SERCA pump models. We now cover five such models in increasing complexity. The goal isn't that you need to memorize or remember all these models, but rather give some insight into how you can make models with different levels of details and approximations.\n",
    "\n",
    "Much of our discussion here are based on the paper: [Koivumäki et al., *Modelling sarcoplasmic reticulum calcium ATPase and its regulation in cardiac myocytes*. Phil. Trans. R. Soc., 2009.](http://rsta.royalsocietypublishing.org/content/367/1896/2181.short) and the SERCA we show in this section is taken from this paper. This review of SERCA modeling is highly recommended to anyone who wants a proper introduction.\n",
    "\n",
    "The most basic feature the model needs is to cover the pumping action of SERCA, this means that calcium should be moved from the cytosol into the SR. We can write this action as the simplified reaction\n",
    "\n",
    "$$2{\\rm Ca_i} + {\\rm P} \\rightleftharpoons {\\rm Ca_2 P} \\rightleftharpoons 2{\\rm Ca_{\\rm SR}} + {\\rm P}.$$\n",
    "\n",
    "\n",
    "Here, two calcium ions bind to a free pump molecule, $P$, get transported across the membrane and release into the SR. Note however that, in general, the reverse process can also happen, we therefore say that SERCA is a *bidirectional* pump."
   ]
  },
  {
   "cell_type": "markdown",
   "metadata": {},
   "source": [
    "### The Unidirectional Pump Model\n",
    "\n",
    "The simplest model of SERCA we propose comes from assuming first order kinematics and also assumes that any activity in the reverse direction is negligible, making it a *unidirectional* pump model. We can then model the pumping activity using the same approach as we used for the Michaelis-Menten equation. However, because SERCA pumps two and two ions we also get cooperativity into our model and use a Hill coefficient of 2. The unidirectional pump model therefore becomes\n",
    "\n",
    "$$J_{\\rm pump} = v_{\\rm max} \\frac{\\rm [Ca^{2+}]_{\\rm i}^2}{{\\rm EC}_{\\rm 50}^2 + [\\rm Ca^{2+}]_{\\rm i}^2}.$$\n",
    "\n",
    "Here ${\\rm EC}_{\\rm 50}$ is the concentration required for a half-maximal pump velocity, EC stands for *effective concentration*. This model effectively states that SERCA behaves like a simple enzymatic reaction, transporting/converting calcium without getting used up in the process. \n",
    "\n",
    "<img src=\"fig/serca1.png\" width=300>\n",
    "<center><b>Figure 10a:</b> The unidirectional SERCA pump model is one of the simplest representation of the pump. (Figure from Koivumäki et. al., 2009).</center>\n",
    "\n",
    "The unidirectional model is very simple, both conceptually and in terms of the mathematics and implementation. It has only two adjustable parameters, $v_{\\rm max}$ and EC$_{\\rm 50}$. Because SERCA is a high-affinity, high-capacity pump both of these values are high. In mammalian myocyte, the best fit of this parameters is on the order of 0.3 µM, which is only a few hundred nM above baseline. \n",
    "\n",
    "Due to its simplicity, the unidirectional pump model sees quite some use. However, it does have some major issues, the biggest of which is that it does not care about the SR load whatsoever, in fact, this model predicts SERCA will keep pumping away calcium from the cytosol until there is nothing left. This is not only not physiological, it is *unphysical* as it breaks the law of thermodynamics, as we saw in our discussion above. Because of this, models that use a unidirectional SERCA pump often have to add a leak calcium current from the SR into the cytosol to balance the over-active SERCA. This can work in practice, but one always have to be very careful with such models, as they are not guaranteed to behave well with changing conditions."
   ]
  },
  {
   "cell_type": "markdown",
   "metadata": {},
   "source": [
    "### Unidirectional Pump with SR calcium inhibition\n",
    "\n",
    "To rectify the overly simple unidirectional SR model, one could envision adding a scale factor to the pump term, that takes into account the SR load, and this is sometimes done. We could for example add an inverse relationship to the SR load:\n",
    "$$J_{\\rm pump} = v_{\\rm max} \\frac{\\rm [Ca^{2+}]_{\\rm i}^2}{{\\rm EC}_{\\rm 50}^2 + [\\rm Ca^{2+}]_{\\rm i}^2} \\times \\frac{\\rm const.}{\\rm [Ca^{2+}]_{SR}}.$$\n",
    "This model makes things somewhat better, but the SR load dependence is still unphysiological, as it doesn't really ever shut of unless $\\rm [Ca^{2+}]_{i}=0$ or $\\rm [Ca^{2+}]_{SR}=\\infty$. It is also still a unidirectional pump, as it cannot transport calcium from the SR back into the cytosol. Of course, one can make the inhibition term more complex to be more accurate, but by that point it might just be easier to make a more physical pump model.\n",
    "\n",
    "<img src=\"fig/serca2.png\" width=300>\n",
    "<center><b>Figure 10b:</b> The unidirectional SERCA pump model extended by adding a SR load inhibition term.  (Figure from Koivumäki et. al., 2009).</center>\n"
   ]
  },
  {
   "cell_type": "markdown",
   "metadata": {},
   "source": [
    "### Bidirectional Pump\n",
    "\n",
    "Instead of trying to add the SR load dependence as a scaling factor on the current, we can do the more physiologically accurate thing and model it as a proper bidirectional pump. The simplest way to do this is to assume that the two *modes* of the pump (i.e., the forward and reverse) are independent of each other. We can then model the two modes using our simple unidirectional pump model, i.e., using the Michaelis-Menten equation with a Hill coefficient of 2:\n",
    "$$J_{\\rm pump} = J_{\\rm fwd} - J_{\\rm rev}, \\qquad J_{\\rm fwd} = v_{\\rm max} \\frac{\\rm [Ca^{2+}]_{\\rm i}^2}{{\\rm EC}_{\\rm 50}^{{\\rm fwd}\\ 2} + [\\rm Ca^{2+}]_{\\rm i}^2}, \\qquad J_{\\rm rev} = v_{\\rm max} \\frac{\\rm [Ca^{2+}]_{\\rm SR}^2}{{\\rm EC}_{\\rm 50}^{{\\rm rev}\\ 2} + [\\rm Ca^{2+}]_{\\rm SR}^2}.$$\n",
    "Here we assume the two modes has the same maximal capacity, $v_{\\rm max}$, but different affinities. \n",
    "\n",
    "<img src=\"fig/serca3.png\" width=300>\n",
    " <center><b>Figure 10c:</b> A bidirectional SERCA pump model, treating the two modes as completely separate.</center>\n",
    "\n",
    "We can add the two terms together and use some algebra to find a single, compact expression for the net pump rate of SERCA\n",
    "$$J_{\\rm pump} = v_{\\rm max} \\times \\frac{\\left(\\frac{[\\rm Ca^{2+}]_{\\rm i}}{{\\rm EC}_{\\rm 50}^{{\\rm fwd}}}\\right)^2 - \\left(\\frac{[\\rm Ca^{2+}]_{\\rm SR}}{{\\rm EC}_{\\rm 50}^{{\\rm rev}}}\\right)^2}\n",
    "{1 + \\left(\\frac{[\\rm Ca^{2+}]_{\\rm i}}{{\\rm EC}_{\\rm 50}^{{\\rm fwd}}}\\right)^2 + \\left(\\frac{[\\rm Ca^{2+}]_{\\rm SR}}{{\\rm EC}_{\\rm 50}^{{\\rm rev}}}\\right)^2}.$$\n",
    "\n",
    "We have effectively only added one more parameter to our model and conceptually, this model is nearly as simple as the unidirectional model. On the other hand, it turns out to be much more physiologically accurate under a wider range of conditions. First of, the pump actually shuts of when it reaches a certain SR:cytosol ratio, as we can see from solving the equation $J_{\\rm pump} = 0$:\n",
    "$$J_{\\rm pump} = 0 \\quad \\Rightarrow \\quad \\left(\\frac{[\\rm Ca^{2+}]_{\\rm i}}{{\\rm EC}_{\\rm 50}^{{\\rm fwd}}}\\right)^2 = \\left(\\frac{[\\rm Ca^{2+}]_{\\rm SR}}{{\\rm EC}_{\\rm 50}^{{\\rm rev}}}\\right)^2,$$\n",
    "or\n",
    "$$\\frac{[\\rm Ca^{2+}]_{\\rm SR}}{[\\rm Ca^{2+}]_{\\rm i}} = \\frac{{\\rm EC}_{\\rm 50}^{\\rm rev}}{{\\rm EC}_{\\rm 50}^{\\rm fwd}}.$$\n",
    "Thus, by adjusting the affinity of the reverse rate of the bidirectional pump, we can get the correct baseline behavior of the SERCA model without adding the SR leak term. From our thermodynamical analysis of SERCA, we now see that the balance of the two affinities should be about 1:7000 to get the right baseline behavior."
   ]
  },
  {
   "cell_type": "markdown",
   "metadata": {},
   "source": [
    "### Buffering Capacity of SERCA\n",
    "\n",
    "The bidirectional pump model is quite good at giving the correct pump rate into the SR, however, it does not take into effect the *buffering* effect of SERCA. In the models we have presented so far, calcium ions get transported instaneously from the cytosol to the SR. In the model, the amount of free calcium in the cytosol and SR combined is constant. \n",
    "\n",
    "However, in reality, what happens is that calcium ions bind to SERCA pump-molecules. They stay bound for some time, while SERCA changes conformational shape and release into the SR. However, ions can also bind, and unbind without getting transported. With the sheer amount of SERCA molecules inside the cell, this means there is, at any given time, a substantial amount of calcium ions bound to SERCA, thus SERCA is acting like a calcium *buffer*. We will discuss buffers and their effect more in the next lecture. For now, suffice to say that SERCA is the second largest calcium buffer in the cell (i.e., it binds a lot of calcium), and a detailed model should include this.\n",
    "\n",
    "To produce a SERCA model that takes into account calcium binding, we can use a 4-state Markov model\n",
    "<img src=\"fig/serca4.png\" width=300>\n",
    "<center><b>Figure 10d:</b> A four state Markov model of the SERCA pump. By having two states that have calcium bound to the pumpt, the buffering capacity of the pump is accounted for. (Figure from Koivumäki et. al., 2009).</center>\n",
    "\n",
    "By having four states, we have separated the process of calcium binding to SERCA, and the transport across the membrane. The states $X_2$ and $Y_2$ have calcium bound to them, while the states $X_1$ and $Y_1$ do not, thus the total amount of free calcium in the model is reduced by the amount bound to SERCA. The model pumps calcium by moving around the four states in a *reaction cycle*, first binding calcium, then transforming, then releasing the bound calcium, then transforming back. The pump velocity will be the *cycling rate* of the model, i.e., the rate at which a full cycle of all four steps occurs. Note that the reverse mode of the pump is automatically included, as the forward and reverse modes correspond to the clockwise or counter-clockwise cycling of the model.\n",
    "\n",
    "This model takes into account calcium bound to SERCA, and is a proper bidirectional pump that has a rate dependence on $[{\\rm Ca^{2+}}]_{\\rm i}$ and $[\\rm Ca^{2+}]_{\\rm SR}$. The biggest problem is that our model is starting to become quite complex, having 8 free parameters (the forward and reverse rates between the states), which all need to be constrained."
   ]
  },
  {
   "cell_type": "markdown",
   "metadata": {},
   "source": [
    "\n",
    "### Adding more complex regulation\n",
    "\n",
    "There is no real limit to the complexitiy in which we can create Markov models of SERCA that take into account varius regulatory mechanisms. For example, SERCA depends on ATP, and we found the thermodynamic limit of SERCA activity based on this. However, so far we have not really considered the mechanism of ATP binding to SERCA and hydrolising into ADP. We have simply assumed the availability of ATP to be constant. But what if we want to include the effects of low ATP availability in energy starved cells? This could be done by adding binding and release of ATP as seperate steps in the the reaction cycle of our SERCA model.\n",
    "\n",
    "<img src=\"fig/serca5.png\" width=300>\n",
    "<center><b>Figure 10e:</b> A six-state markov model of the SERCA pump which takes into account the binding and hydrolysis of ATP. (Figure from Koivumäki et. al., 2009).</center>\n",
    "\n",
    "Models like this start to become very complex, having many free parameters and depending on many state variables. Most cell models for example, do not keep track of the ATP available. Thus these models are very hard to constrain and implement correctly. They are also computationally costly. However, if we want a physiologically detailed model that includes these mechanisms of regulation, this is a way to approach modeling them in a fairly physiologically accurate manner.\n",
    "\n",
    "One of the more thermodynamically and physologically detailed SERCA models is a 12-state markov model published by Tran et. al. in 2009. As you can see from the figure, these models quickly become very large, and we rarely need this kind of detail unless we are very concerned about getting the SERCA dynamics correct.\n",
    "\n",
    "<img src=\"fig/tran_model.jpg\" width=600>\n",
    "<center><b>Figure 11: </b> The Tran model is a highly detailed SERCA model consisting of 12 different states. Figure taken from <a href=https://www.ncbi.nlm.nih.gov/pubmed/19254563>Tran et al, 2009</a>.</center>"
   ]
  },
  {
   "cell_type": "markdown",
   "metadata": {},
   "source": [
    "# Measuring intracellular calcium dynamics\n",
    "\n",
    "Earlier, you've heard some about how one can constrain electrophysiological models of ion channels and pumps from experimental measurements from for example patch clamp. For internal channels and pumps such as SERCA and RyR this is more complicated, because these channels only appear internally to the cell and so cannot be patch clamped. So how can we measure intracellular calcium dynamics?\n",
    "\n",
    "One method is to add calcium indicators into the cell. These are fluorophores that bind calcium and start to glow. Using optical microscopes, we can then measure the amount of fluroesence to find an estimate of the calcium concentrations within the cell. While calcium indicators are useful, they are also quite tricky to work with, and there are limitations in both the spatial and temporal resolution. In addition, the indicators work by binding calcium, meaning you are adding a buffer into the system which buffers precisely what you are trying to measure, which will affect the measurement at least somewhat. Because of this we can also add the buffering capacity of a calcium indicators in models we make that reproduce such experiments to make it easier to compare simulation and experiment.\n",
    "\n",
    "Another way one can get insight into the intracellular dynamics, is to measure the sarcolemmal currents which *can be* patch-clamped, such as the NCX. Take for example measuring the SR load of a cell. If we add caffeine into the cell, the cell releases all its calcium into the cytosol (caffeine triggers RyR to open). In the cytosol some of this calcium gets pumped back into the SR by SERCA, but as the RyR is open, this just goes right back into the cytosol. The NCX however, is also pumping calcium out of the cell, and this efflux of calcium we can measure through a patch clamp. By integrating this current we get a good estimate of how much calcium was in the cell and SR. This measurement is however, not a *dynamic* measurement, you get a one time measurement, but you have removed all calcium from the cell itself. Effectively you are draining the entire cell of its calcium and measuring how much there is in total.\n",
    "\n",
    "<img src=\"fig/measuring_SRload.png\" width=400>\n",
    "<center><b>Figure 12: </b> Measuring the SR load of a cell by injecting caffeine and integrating the efflux of calcium through the NCX.  Figure taken from [Donald M. Bers Circulation Research. 2000;87:275-281].</center>\n",
    "\n",
    "Much more could be said for experimental techniques and challenges for intracellular measurements. The main message here is that intracellular processes are harder to measure experimentally and computational models are therefore harder to constrain. However, the fact that these are harder to measure is also an argument for why modeling them could be more important, to reconcile our understanding of the system with the experiments we *can* perform."
   ]
  },
  {
   "cell_type": "markdown",
   "metadata": {},
   "source": [
    "# The Sodium-Calcium Exchanger\n",
    "\n",
    "We now turn to look closer at the other major actor responsible for cytosolic calcium decay, the Na$^{+}$/Ca$^{2+}$-exchanger, or NCX for short. Unlike SERCA, which pumps calcium into the SR, the NCX takes calcium out of the cell entirely. NCX pushes calcium against its concentration gradient, by allowing for a co-transport of sodium along its concentration gradient. For each calcium ion transported across the membrane, three sodium ions are transported in the opposite direction. Because of this, the NCX is responsible for carrying two transmembrane fluxes, a calcium current, and a sodium current. Because calcium ions has a charge of $2e$, and sodium ions have a charge of $e$, there will be a net transport of charge for each NCX cycle, so the NCX is not only responsible for ion transport, but will also change the membrane potential."
   ]
  },
  {
   "cell_type": "markdown",
   "metadata": {},
   "source": [
    "### Modeling NCX with Michaelis-Menten kinetics\n",
    "\n",
    "The simplest model we had for SERCA used the Michaelis-Menten equation, modeling the activity as increasing with the cytosolic calcium level, eventually becoming saturated. Experiments show that the NCX current exhibits similar saturation behavior with the cytosolic calcium. We can therefore propose using a similar model for NCX:\n",
    "$$I_{\\rm NCX} = v_{\\rm max} \\frac{\\rm [Ca^{2+}]_{\\rm i}}{{\\rm EC}_{\\rm 50} + [\\rm Ca^{2+}]_{\\rm i}},$$\n",
    "This model describes the dependence on cytosolic concentration and the saturation behavior quite well, but it has some serious limitations, as it completely neglects the impact the cytosolic sodium levels and the membrane potential play on the NCX. This can be remedied by letting the parameters $v_{\\rm max}$ and $\\rm EC_{\\rm 50}$ be functions of $V$ and $\\rm [Na^{2+}]_i$, rather than be constant, but this is a significant increase in complexity.\n",
    "\n",
    "To better understand the effect $V$ and $\\rm [Na^{2+}]_i$ has on NCX activity, we can start by analyzing the thermodynamics of the NCX."
   ]
  },
  {
   "cell_type": "markdown",
   "metadata": {},
   "source": [
    "### Thermodynamics of the NCX\n",
    "\n",
    "The NCX transports 3 sodium ions and 1 calcium ions across the membrane at the same time. NCX spends no ATP and so the only change in Gibbs energy for one cycle of the NCX is the sum of these four ions shifting domains\n",
    "\n",
    "$$\\Delta G = \\Delta G_{\\rm Ca} - 3\\Delta G_{\\rm Na}$$\n",
    "\n",
    "here we have defined $\\Delta G_{\\rm Ca}$ and $\\Delta G_{\\rm Ca}$ to be the energy change when ions are transported out of the cell, which is why the two terms have been given opposite signs.\n",
    "\n",
    "A process will occur spontaneously if $\\Delta G < 0$. Thus we see that if $\\Delta G_{\\rm Ca} < 3\\Delta G_{\\rm Na}$ we will have calcium being pumped out of the cell. However, we can also have the case that $\\Delta G_{\\rm Ca} > 3\\Delta G_{\\rm Na}$, in which case the transport will occur spontaneously in the opposite direction. The NCX therefore has two modes, typically called the forward mode (where Ca$^{2+}$ is removed from the cell) and the reverse mode (where it is entering the cell).\n",
    "\n",
    "The change in Gibbs energy from moving a particle from inside to outside the cell depends both on the concentration gradient and the membrane potential. We have actually already analyzed this exact scenario when we derived the Nernst potential. From that derivation we know that $\\Delta G_{\\rm X} = zF(E_{\\rm x} - V)$. Inserting this into our current expression gives\n",
    "\n",
    "$$\\Delta G = 2F(E_{\\rm Ca} - V) - 3F(E_{\\rm Na} - V)$$\n",
    "\n",
    "We are interested in whether $\\Delta G < 0$ or $\\Delta G > 0$ so we can simplify by removing the factor of $F$, and solve for $V$, which gives\n",
    "\n",
    "$$\\Delta G < 0 \\quad \\Rightarrow \\quad V < 3E_{\\rm Na} - 2E{\\rm Ca}.$$\n",
    "\n",
    "This inequality tells us the condition for when calcium can be transported out of the cell through NCX. We see that this happens when the membrane potential is *below* a given threshold. If the membrane potential is larger however, the direction of the NCX flux will reverse.\n",
    "\n",
    "Put simply, we have found the *reversal potential* for the NCX, which can be expressed as \n",
    "\n",
    "$$E_{\\rm NCX} = 3E_{\\rm Na} - 2E_{\\rm Ca}.$$\n",
    "\n",
    "This reversal potential is completely analogous to the reversal potential (aka the Nernst potential) of our other ionic currents. Because of this, we might be tempted to model the NCX as an ohmic current: $I_{\\rm NCX} = g_{\\rm NCX}(V - E_{\\rm NCX})$. However, the NCX doesn't really behave in this simple ohmic manner, and the kinetics of the current will depend strongly on the calcium and sodium concentrations. However, the reversal potential does tell us something about when the exchanger is active, and in which direction the exchange is occurring."
   ]
  },
  {
   "cell_type": "markdown",
   "metadata": {},
   "source": [
    "### A more realistic formulation of the NCX\n",
    "\n",
    "To get a physiologically accurate NCX, we need to bring out the big guns. The formulation we will now look at was first proposed by Mullins (1977), then simplified by DiFrancesco and Noble (1985), and then further modified by Luo & Rudy (1994). In his book on calcium handling, Donald Bers gives a further extended model than the one Luo & Rudy proposed.\n",
    "\n",
    "The Luo-Rudy NCX model is as follows\n",
    "$$I_{\\rm NaCa} = k_{\\rm NaCa}\n",
    "\\frac{\n",
    "{\\rm[Na^+]^3_i [Ca^{2+}]_e} \\cdot {\\rm exp}\\left[\\eta\\cdot V\\cdot\\frac{F}{RT}\\right]\n",
    "- {\\rm[Na^+]^3_e [Ca^{2+}]_i} \\cdot {\\rm exp}\\left[(\\eta-1)\\cdot V\\cdot\\frac{F}{RT}\\right]\n",
    "}{\n",
    "\\left(K_{\\rm m, Na}^3 + [{\\rm Na}^+]_{\\rm e}^3\\right)\n",
    "\\left(K_{\\rm m, Ca} + [{\\rm Ca}^{2+}]_{\\rm e}\\right)\n",
    "\\left(1 + k_{\\rm sat}\\cdot {\\rm exp}\\left[(\\eta-1)\\cdot V\\cdot\\frac{F}{RT}\\right]\\right)}\n",
    "$$\n",
    "\n",
    "With parameters $k_{\\rm NaCa} = 2000$ µA/µF, $K_{\\rm m,Na} = 87.5$ mmol/L, $K_{\\rm m,Ca} = 1.38$ mmol/L, $k_{\\rm sat} =0.1$ and $\\eta = 0.35$."
   ]
  },
  {
   "cell_type": "markdown",
   "metadata": {},
   "source": [
    "This model is built on the same type of arguments we have gone through for our SERCA pump, but we need to include more complicated terms to accurately capture the different physiological behaviors of NCX. We won't take the time to explain the model in detail here, but you can look up the original publications to see it explained.\n",
    "\n",
    "To explore the behavior of this model a bit, we show a figure from the book *Excitation-Contraction Coupling and Cardiac Contractile Force* by Donald M. Bers.\n",
    "\n",
    "<img src=\"fig/bers.png\" width=800>\n",
    "<center><b>Figure 13: </b> Behavior of the Luo-Rudy (1994) NCX formuilation. Note that $E_{\\rm m}$ is the membrane potential, while $E_{\\rm Na/Ca}$ is the reversal potential of the NCX.</center>\n",
    "\n",
    "From the figure we can see that the activity of NCX strongly depends on the sodium concentration, the calcium concentration and on the membrane potential. Because of this the formulation of the model becomes quite detail and complex. However, computationally speaking, it is a fairly cheap model, as there is still no gating.\n",
    "\n",
    "### NCX and Afterdepolarization\n",
    "\n",
    "The NCX is important in removing calcium from the cell and thus maintaining homeostasis of the cell, otherwise a little calcium would enter through the L-type calcium channel each beat and accumulate in the cell, causing calcium overload. The NCX does not expend ATP to remove calcium, but rather allows an influx of sodium, the energy for pumping calcium is therefore stored in the sodium concentration gradient of the cell, which in turn is maintained by the Na$^+$/K$^+$-pump (which *does* spend ATP).\n",
    "\n",
    "The fact that the NCX is electrogenic also means it is a potential candidate for arrythmeogenic behavior of the cell, i.e., abnormal electrical behavior. If the cytosolic calcium concentration of the cell is too high at rest, the NCX will be active and pump calcium out of the cell, however, because three sodium ions are let in for each calcium that is pumped out, the NCX carries an inward current that is depolarizing the cell. Under normal conditions, this occurs during the repolarizing phase of the action potential, and the inward current is more than accounted for by other outward currents. In abnormal cases where the cell is at rest though, the NCX can potentially be strong enough to depolarize the cell enough to trigger a new action potential. A sudden and spontaneous release of calcium from the SR while the cell is at rest for example, could trigger an AP. We will discuss this more when we look closer at the RyR calcium release channel."
   ]
  },
  {
   "cell_type": "markdown",
   "metadata": {},
   "source": [
    "<a id=\"regulation\"></a>\n",
    "# Regulation of Excitation-Contraction coupling\n",
    "\n",
    "There are several mechanisms built into the cell to regulate excitation-contraction coupling and in that manner change the force of contraction. It depends on the complexity and purpose of our cell models whether we want to incorporate such regulatory mechanisms. Let us look at a few of these mechanisms."
   ]
  },
  {
   "cell_type": "markdown",
   "metadata": {},
   "source": [
    "### Regulation of SERCA\n",
    "\n",
    "As we discussed earlier, the balance between SERCA and NCX is an important factor in EC coupling, because this balance is what decides the SR load of the cell, which in turn shifts the calcium transient. One direct way of regulating EC coupling is thus to up- or down-regulate SERCA.\n",
    "\n",
    "SERCA is regulated by a molecule called *phospholamban* (PLB), which inhibits SERCA activity. You can think of PLB as the brakes on SERCA, and under normal conditions, these \"brakes\" are partially on.\n",
    "\n",
    "<img src=\"fig/serca_plb.png\" width=200>\n",
    "<center><b>Figure 14:</b> The SERCA-pump is one of the main actors in EC coupling, and up- or down-regulating SERCA is a major way of shifting the EC coupling balance. SERCA is regulated directly by PLB.</center>\n",
    "\n",
    "There are two important signaling molecules, Protein Kinase A (PKA) and CaMKII, which both downregulate the activity of PLB by phosphorolating it. When PLB is downregulate, the \"brakes\" get taken of and SERCA activity is upregulated, increasing SR load and the amplitude of the calcium transient, giving a stronger contraction.\n",
    "\n",
    "### Beta-adrenergic stimulus\n",
    "\n",
    "Both PKA and CaMKII are involved in several signaling cascades in the body, but perhaps the most important one is the beta-adrenergic response that occurs when $\\beta$-receptors on the outside of the cell react to epinephrine (adrenaline) or norepinephrine. When this happens ATP gets converted to cyclic AMP (cAMP) which in turn activates PKA and CaMKII starting many different signaling pathways, including upregulating SERCA. In addition $\\beta$-adrenergic stimulus increases the amount of calcium that enters through L-type channels, and make myofilaments more sensitive to calcium. These three changes combine to give a much strong calcium transient.\n",
    "\n",
    "<img src=\"fig/beta_adrenergic.png\" width=850>\n",
    "<center><b>Figure 15:</b> Schematic of the main targets of $\\beta$-adrenergic stimulus (epinephrine/adrenaline) in the cardiomyocyte. </center>\n",
    "\n",
    "When the heart receives epinephrine, both the heart rate and the force of contraction increases. This leads to what we call a *positive force-frequency* relationship, meaning the faster the heart beats, the stronger each beat is. This relationship is shown in the Figure below. The white symbols are a healthy heart, and as the frequency increases so does the SR load and the produced force. The black symbols however, show a failing heart, and you can see there is no longer a proper positive force-frequency relationship. \n",
    "\n",
    "<img src=\"fig/force_frequency.png\" width=300>\n",
    "<center><b>Figure 16:</b> A healthy heart has a positive force-frequency relationship, meaning the faster the heart rhythm, the stronger the heart beat. Figure taken from [Donald M. Bers Circulation Research. 2000;87:275-281]</center>\n"
   ]
  },
  {
   "cell_type": "markdown",
   "metadata": {},
   "source": [
    "In our models for SERCA, we did not include direct regulation from PLB, PKA or CaMKII, but these effects might be important to include if you want your model to include $\\beta$-adrenergic response, or the effects of drugs. One fairly simple such model has been proposed by [Koivumäki et al](http://rsta.royalsocietypublishing.org/content/367/1896/2181.short).\n",
    "\n",
    "<img src=\"fig/serca_regulation_model.png\" width=300>"
   ]
  },
  {
   "cell_type": "markdown",
   "metadata": {},
   "source": [
    "### Auto-regulation\n",
    "\n",
    "Another important phenomenological outcome of calcium cycling is that cardiomyocytes are self-regulating. Again, we will only show some examples of this, and not go into the finer details.\n",
    "\n",
    "The Figure below is from a cardiomyocyte experiment. Here they are pacing the cell at a regular pace, and measuring the amount of shortening per beat. The shortening of the cell is proportional to the calcium transient. When pacing at a regular pace, the calcium transient and thus shortening is fairly constant, the cell is at a steady cycle. In the experiment, they now add a bit of caffine to the system. Caffine binds to the calcium release channels (RyR), making it easier for them to open. The easier opening gives a bigger calcium release and a much bigger transient. This response occurs very fast, and right after the caffine is introduced, we see a much larger shortening of the cell. However, over the next few beats, the shortening response becomes smaller and smaller untill it is back to its baseline. This is not due to any manipulation from our side, it is the cell that is self-regulating, or *auto-regulating* back to its baseline. To understand why this occurs, think of where the increased calcium is coming from. The caffine triggers bigger release from the SR, but the SERCA is not upregulated, and so this additional cytosolic calcium will be evenly split between NCX and SERCA. Some of the additional calcium will thus leave the cell, resulting in decreasing SR load with each beat. With decreasing SR load, the calcium release becomes weaker, untill we eventually reach a new equilibrium.\n",
    "\n",
    "<img src=\"fig/autoregulation0.png\" width=400>\n",
    "[Adapted from Sjaastad et al., 2003]\n",
    "\n",
    "When caffine is removed from the system, we see the opposite response. With no caffine, the RyR are again hard to open, leading to a smaller release of calcium from the SR (due to the low SR load). However, as the release is smaller, a relatively speaking larger amount of calcium is entering through the L-type than through the RyRs, and again, this calcium is split between NCX and SERCA. SERCA therefore refills the SR load for every beat, which leads to stronger release again, untill we are back to the baseline value we had earlier.\n",
    "\n",
    "The same authors carried out the same experiment, but adding *tetracaine*  instead of caffine, which has the opposite effect on RyR, it inhibits release. Right after adding tetracaine to the system, the calcium release is much weaker, giving a small calcium transient and little shortening. However, over the next 10-20 beats, the cell is auto-regulating by increasing its SR load, untill we are back to nearly the same baseline as we started at. Taking tetracaine off the system gives the same behavior as when removing caffine, the increased SR load gives a larger shortening, but after some time the SR load has decreased back to its original value.\n",
    "\n",
    "In this experiment they also measured both the L-type current and the NCX current of the cell, which when summed gives us a measure of the total amount of calcium entering and leaving the cell. We see that this measurement at baseline goes to 0 over one beat (measured points at a and c). This means there is no net calcium entering or leaving the cell, and thus the SR load is constant. However, after perturbing the system, we see that the integral does *not* go to 0. This means a net amount of calcium is either entering or leaving the cell (entering at point b, and leaving at point d). This calcium cannot be in the cytosol, so it has to end up in the SR.\n",
    "\n",
    "<img src=\"fig/tetracaine.png\" width=600>"
   ]
  }
 ],
 "metadata": {
  "kernelspec": {
   "display_name": "Python 2",
   "language": "python",
   "name": "python2"
  },
  "language_info": {
   "codemirror_mode": {
    "name": "ipython",
    "version": 3
   },
   "file_extension": ".py",
   "mimetype": "text/x-python",
   "name": "python",
   "nbconvert_exporter": "python",
   "pygments_lexer": "ipython3",
   "version": "3.6.9"
  }
 },
 "nbformat": 4,
 "nbformat_minor": 2
}
