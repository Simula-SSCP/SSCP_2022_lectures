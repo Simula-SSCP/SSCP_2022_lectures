{
 "cells": [
  {
   "cell_type": "markdown",
   "metadata": {},
   "source": [
    "Try to implement this compartment model of calcium in a simplified cardiac cell."
   ]
  },
  {
   "cell_type": "markdown",
   "metadata": {},
   "source": [
    "<img src=\"RyR1.png\" width=\"400\"/>"
   ]
  },
  {
   "cell_type": "markdown",
   "metadata": {},
   "source": [
    "The initial condition for cytoplasmic Calcium is $c(0) = 0.0795$ and for calcium in the Sarcoplasmic reticulum is $cSR(0) = 4.1725$.\n",
    "Further the fluxes are described by the following ODE system.\n",
    "\n",
    "\\begin{equation}\n",
    "\\begin{split}\n",
    "\\frac{dc}{dt} =& J_{L1} - J_{P1} + J_{L2} - J_{P2} \\\\\n",
    "\\frac{dc_{SR}}{dt} =& \\gamma (-J_{L2} + J_{P2})\n",
    "\\end{split}\n",
    "\\end{equation}\n",
    "\n",
    "\\begin{equation}\n",
    "\\begin{split}\n",
    " \\color{orange}{J_{L1} = k_1 (c_0 -c)} \\quad \\quad &\\text{calcium entry} \\\\\n",
    " \\color{orange}{J_{P1} = k_2c }\\quad \\quad & \\text{calcium extrusion} \\\\\n",
    "\\color{red}{J_{L2} = k_3 (c_{SR} -c)} \\quad \\quad & \\text{calcium release}\\\\\n",
    "\\color{red} {J_{P2} = k_4c} \\quad\\quad & \\text{calcium uptake}\n",
    "\\end{split}\n",
    "\\end{equation}\n",
    "\n",
    "\\begin{equation}\n",
    "\\begin{split}\n",
    "k_3 = \\kappa_1 + \\frac{\\kappa_2c^n}{K_d^n+c^n}\\\\\n",
    " \\color{red}{J_{L2} = k_3(c_{SR} - c)} \\\\\n",
    " \\color{red}{= (\\kappa_1 + \\frac{\\kappa_2c^n}{K_d^n+c^n})(c_{SR}-c)}\n",
    "\\end{split}\n",
    "\\end{equation}"
   ]
  },
  {
   "cell_type": "code",
   "execution_count": 1,
   "metadata": {},
   "outputs": [],
   "source": [
    "import numpy as np\n",
    "import matplotlib.pyplot as plt\n",
    "import scipy as sp\n",
    "import scipy.integrate\n",
    "\n",
    "from array import array\n",
    "from pylab import *\n",
    "from scipy.integrate.odepack import odeint\n",
    "\n",
    "from scipy.integrate import odeint\n",
    "from math import exp, log, sqrt, pi\n",
    "\n",
    "#constants\n",
    "k_1 = 2*10**(-5);\n",
    "k_2 = 0.13;\n",
    "k_4 = 0.9;\n",
    "kappa_1 = 0.013;\n",
    "kappa_2 = 0.58;\n",
    "K_d = 0.5;\n",
    "n = 3;\n",
    "gamma = 4.17;\n",
    "c0 = 1000;\n",
    "\n",
    "params = (k_1, k_2, k_4, kappa_1, kappa_2, K_d, n, gamma)\n"
   ]
  },
  {
   "cell_type": "code",
   "execution_count": 5,
   "metadata": {},
   "outputs": [],
   "source": [
    "# Implement the right-hand-side of the system\n",
    "\n",
    "def rhs(y, t, k_1, k_2, k_4, kappa_1, kappa_2, K_d, n, gamma):\n",
    "    #c, cSR = y\n",
    "\n",
    "    #input\n",
    "    c = y[0];\n",
    "    cSR = y[1];\n",
    "\n",
    "    #calculation of k_3\n",
    "    k_3 = kappa_1 + (kappa_2*c**n)/(K_d**n+c**n)\n",
    "    #calcium entry\n",
    "    J_L1 = k_1 * (c0 - c)\n",
    "    #calcium extrusion\n",
    "    J_P1 = k_2 * c;\n",
    "    #calcium release\n",
    "    J_L2  = k_3 *(cSR - c);\n",
    "    #calcium uptake\n",
    "    J_P2 = k_4 *c;\n",
    "\n",
    "    #caculate time dependent functions\n",
    "    dc_dt =   J_L1-J_P1+J_L2-J_P2\n",
    "    dcSR_dt = gamma*(-J_L2+J_P2) \n",
    "    \n",
    "    return [dc_dt, dcSR_dt]\n",
    "\n"
   ]
  },
  {
   "cell_type": "code",
   "execution_count": 6,
   "metadata": {},
   "outputs": [],
   "source": [
    "# Make a vector of time points where solutions are to be computed\n",
    "time = np.linspace(0, 1000, 1000)\n",
    "\n",
    "# Define the initial condition\n",
    "y_0 = (0.0795, 4.1725)\n",
    "\n",
    "\n",
    "# Call the ODE solver\n",
    "solutions = odeint(rhs, y_0, time, params)\n",
    "c, cSR = np.hsplit(solutions, 2)"
   ]
  },
  {
   "cell_type": "code",
   "execution_count": 7,
   "metadata": {},
   "outputs": [
    {
     "data": {
      "image/png": "[encoded data removed]",
      "text/plain": [
       "<Figure size 432x288 with 2 Axes>"
      ]
     },
     "metadata": {
      "needs_background": "light"
     },
     "output_type": "display_data"
    }
   ],
   "source": [
    "plt.subplot(2,1,1); plt.plot(time,c); plt.title('c')\n",
    "plt.axis([0, 1000, 0, 1])\n",
    "plt.subplot(2,1,2); plt.plot(time,cSR); plt.title('cSR')\n",
    "plt.axis([0, 1000, 0, 10])\n",
    "plt.show()\n"
   ]
  },
  {
   "cell_type": "markdown",
   "metadata": {},
   "source": [
    "What happens when the pump and/or flux constants change? Why?"
   ]
  },
  {
   "cell_type": "code",
   "execution_count": 9,
   "metadata": {},
   "outputs": [
    {
     "data": {
      "application/vnd.jupyter.widget-view+json": {
       "model_id": "460444716b024e1f81bd87e818d3d264",
       "version_major": 2,
       "version_minor": 0
      },
      "text/plain": [
       "interactive(children=(FloatSlider(value=4.17, description='gamma', max=10.0, step=0.5), FloatSlider(value=2e-0…"
      ]
     },
     "metadata": {},
     "output_type": "display_data"
    }
   ],
   "source": [
    "from CICR import CICR_Widget\n",
    "CICR_Widget().display()"
   ]
  },
  {
   "cell_type": "markdown",
   "metadata": {},
   "source": [
    "What happens when the Initial Conditions change? Why?"
   ]
  },
  {
   "cell_type": "code",
   "execution_count": 10,
   "metadata": {},
   "outputs": [
    {
     "data": {
      "application/vnd.jupyter.widget-view+json": {
       "model_id": "229a9f11d5e141e681c333338c90294d",
       "version_major": 2,
       "version_minor": 0
      },
      "text/plain": [
       "interactive(children=(FloatSlider(value=0.0795, description='y01', max=0.5, step=0.02), FloatSlider(value=4.17…"
      ]
     },
     "metadata": {},
     "output_type": "display_data"
    }
   ],
   "source": [
    "from CICR_IC import CICR_Widget\n",
    "CICR_Widget().display()"
   ]
  },
  {
   "cell_type": "code",
   "execution_count": null,
   "metadata": {},
   "outputs": [],
   "source": []
  },
  {
   "cell_type": "code",
   "execution_count": null,
   "metadata": {},
   "outputs": [],
   "source": []
  },
  {
   "cell_type": "code",
   "execution_count": null,
   "metadata": {},
   "outputs": [],
   "source": []
  }
 ],
 "metadata": {
  "kernelspec": {
   "display_name": "Python 3",
   "language": "python",
   "name": "python3"
  },
  "language_info": {
   "codemirror_mode": {
    "name": "ipython",
    "version": 3
   },
   "file_extension": ".py",
   "mimetype": "text/x-python",
   "name": "python",
   "nbconvert_exporter": "python",
   "pygments_lexer": "ipython3",
   "version": "3.8.10"
  }
 },
 "nbformat": 4,
 "nbformat_minor": 4
}
