{
 "cells": [
  {
   "cell_type": "markdown",
   "metadata": {},
   "source": [
    "<!-- dom:TITLE: Conduction in excitable cells - the cable equation -->\n",
    "# Conduction in excitable cells - the cable equation\n",
    "<!-- dom:AUTHOR: Joakim Sundnes -->\n",
    "<!-- Author: -->  \n",
    "**Joakim Sundnes**\n",
    "\n",
    "Date: **May 7, 2021**\n",
    "\n",
    "## Outline\n",
    "* Introduction\n",
    "\n",
    "  * History\n",
    "\n",
    "  * Brief overview of neurons\n",
    "\n",
    "\n",
    "* Derivation of the cable equation\n",
    "\n",
    "* Scaling/dimensionless form\n",
    "\n",
    "* Example models\n",
    "\n",
    "\n",
    "\n",
    "\n",
    "## We will use it to describe signal conduction in neurons, but there's a reason it is called the cable equation...\n",
    "<!-- dom:FIGURE: [./figs/atlantic_cable1.jpg, width=800 frac=1.0] -->\n",
    "<!-- begin figure -->\n",
    "\n",
    "<p></p>\n",
    "<img src=\"./figs/atlantic_cable1.jpg\" width=800>\n",
    "\n",
    "<!-- end figure -->\n",
    "\n",
    "<!-- FIGURE: [./figs/atlantic_cable2, width=500 frac=1.0] -->\n",
    "\n",
    "\n",
    "## Neurons consist of three distinct parts\n",
    "\n",
    "  * Dendrite-tree, the \"input stage\" of the neuron, converges on the soma.\n",
    "\n",
    "  * Soma, the cell body, contains the \"normal\" cellular functions\n",
    "\n",
    "  * Axon, the output of the neuron, may be branched. Synapses at the ends are connected to neighboring dendrites.\n",
    "\n",
    "\n",
    "**Active vs passive.**\n",
    "\n",
    "  * Axons are excitable => active conduction\n",
    "\n",
    "  * Dendrites are non-excitable => passive conduction\n",
    "\n",
    "\n",
    "\n",
    "<!-- dom:FIGURE: [./figs/250.png, width=1000 frac=2.0] -->\n",
    "<!-- begin figure -->\n",
    "\n",
    "<p></p>\n",
    "<img src=\"./figs/250.png\" width=1000>\n",
    "\n",
    "<!-- end figure -->\n",
    "\n",
    "\n",
    "\n",
    "## Why is the cable equation important?\n",
    "* Fundamental for modeling neurons\n",
    "\n",
    "* Signal propagation in Purkinje network\n",
    "\n",
    "* Extends to cardiac conduction in 3D (bidomain, monodomain)\n",
    "\n",
    "\n",
    "\n",
    "<!-- dom:FIGURE: [./figs/neuron.png, width=800 frac=0.30] -->\n",
    "<!-- begin figure -->\n",
    "\n",
    "<p></p>\n",
    "<img src=\"./figs/neuron.png\" width=800>\n",
    "\n",
    "<!-- end figure -->\n",
    "\n",
    "\n",
    "<!-- dom:FIGURE: [./figs/purkinje.png, width=800 frac=0.30] -->\n",
    "<!-- begin figure -->\n",
    "\n",
    "<p></p>\n",
    "<img src=\"./figs/purkinje.png\" width=800>\n",
    "\n",
    "<!-- end figure -->\n",
    "\n",
    "\n",
    "<!-- dom:FIGURE: [./figs/myocardium.jpeg, width=800 frac=0.30] -->\n",
    "<!-- begin figure -->\n",
    "\n",
    "<p></p>\n",
    "<img src=\"./figs/myocardium.jpeg\" width=800>\n",
    "\n",
    "<!-- end figure -->\n",
    "\n",
    "\n",
    "## Fundamental quantities and assumptions\n",
    "The cell typically has a potential gradient along its length. Radial components will be ignored.\n",
    "Notation:\n",
    "* $V_i$ and $V_e$ are intra- and extracellular potentials\n",
    "\n",
    "* $I_i$ and $I_e$ are intra- and extracellular (axial) current\n",
    "\n",
    "* $r_i$ and $r_e$; intra- and extracellular resistance per unit length\n",
    "\n",
    "\n",
    "\n",
    "We have"
   ]
  },
  {
   "cell_type": "markdown",
   "metadata": {},
   "source": [
    "$$\n",
    "r_i = \\frac{R_c}{A_i},\n",
    "$$"
   ]
  },
  {
   "cell_type": "markdown",
   "metadata": {},
   "source": [
    "where $R_c$ is the cytoplasmic resistivity and $A_i$ is the cross sectional area of the cable.\n",
    "\n",
    "## Sketch of a discrete cable\n",
    "<!-- dom:FIGURE: [./figs/251.png, width=800 frac=0.9] -->\n",
    "<!-- begin figure -->\n",
    "\n",
    "<p></p>\n",
    "<img src=\"./figs/251.png\" width=800>\n",
    "\n",
    "<!-- end figure -->\n",
    "\n",
    "\n",
    "## Currents are assumed to be Ohmic\n",
    "\n",
    "We assume Ohmic resistance:"
   ]
  },
  {
   "cell_type": "markdown",
   "metadata": {},
   "source": [
    "$$\n",
    "\\begin{align*}\n",
    "V_i(x+\\Delta x) - V_i(x) &= - I_i(x) r_i \\Delta x \\\\\n",
    "V_e(x+\\Delta x) - V_e(x) &= - I_e(x) r_e \\Delta x\n",
    "\\end{align*}\n",
    "$$"
   ]
  },
  {
   "cell_type": "markdown",
   "metadata": {},
   "source": [
    "In the limit:"
   ]
  },
  {
   "cell_type": "markdown",
   "metadata": {},
   "source": [
    "$$\n",
    "\\begin{align*}\n",
    "I_i = - \\frac{1}{r_i}  \\frac{\\partial V_i}{\\partial x} \\\\\n",
    "I_e = - \\frac{1}{r_e}  \\frac{\\partial V_e}{\\partial x}\n",
    "\\end{align*}\n",
    "$$"
   ]
  },
  {
   "cell_type": "markdown",
   "metadata": {},
   "source": [
    "## Conservation of current (1)\n",
    "Any current leaving the intracellular domain has to enter the\n",
    "extracellular domain, and vice-versa. Total current is conserved\n",
    "between $x$ and $x+\\Delta x$:"
   ]
  },
  {
   "cell_type": "markdown",
   "metadata": {},
   "source": [
    "$$\n",
    "I_i(x) - I_i(x+\\Delta x) = -(I_e(x) -  I_e(x+\\Delta x)) = I_t \\Delta x\n",
    "$$"
   ]
  },
  {
   "cell_type": "markdown",
   "metadata": {},
   "source": [
    "where $I_t$ is transmembrane current, per unit length.\n",
    "\n",
    "Taking the limit $\\Delta x\\rightarrow 0$ yields"
   ]
  },
  {
   "cell_type": "markdown",
   "metadata": {},
   "source": [
    "$$\n",
    "I_t = - \\frac{\\partial I_i}{\\partial x} = \\frac{\\partial I_e}{\\partial x}\n",
    "$$"
   ]
  },
  {
   "cell_type": "markdown",
   "metadata": {},
   "source": [
    "## Conservation of current (2)\n",
    "We now have the membrane current $I_t$ expressed in terms of\n",
    "$I_i,I_e$. We want a relation between the $I_t$ and the membrane\n",
    "potential $V$."
   ]
  },
  {
   "cell_type": "markdown",
   "metadata": {},
   "source": [
    "$$\n",
    "\\frac{1}{r_e}  \\frac{\\partial^2 V_e}{\\partial x^2} =  - \\frac{1}{r_i}\n",
    "\\frac{\\partial^2 V_i}{\\partial x^2} =  - \\frac{1}{r_i} (  \\frac{\\partial^2 V}{\\partial x^2}+ \\frac{\\partial^2 V_e}{\\partial x^2})\n",
    "$$"
   ]
  },
  {
   "cell_type": "markdown",
   "metadata": {},
   "source": [
    "$$\n",
    "(\\frac{1}{r_e}+ \\frac{1}{r_i}) \\frac{\\partial^2 V_e}{\\partial x^2} =  - \\frac{1}{r_i}  \\frac{\\partial^2 V}{\\partial x^2}\n",
    "$$"
   ]
  },
  {
   "cell_type": "markdown",
   "metadata": {},
   "source": [
    "## Conservation of current (3)\n",
    "cont."
   ]
  },
  {
   "cell_type": "markdown",
   "metadata": {},
   "source": [
    "$$\n",
    "(\\frac{1}{r_e}+ \\frac{1}{r_i}) \\frac{\\partial^2 V_e}{\\partial x^2} =  - \\frac{1}{r_i}  \\frac{\\partial^2 V}{\\partial x^2}\n",
    "$$"
   ]
  },
  {
   "cell_type": "markdown",
   "metadata": {},
   "source": [
    "$$\n",
    "\\frac{\\partial^2 V_e}{\\partial x^2} = - \\frac{ \\frac{1}{r_i} }{\\frac{1}{r_e}+ \\frac{1}{r_i}} \\frac{\\partial^2 V}{\\partial x^2} =-\\frac{r_e}{r_e+r_i}\\frac{\\partial^2 V}{\\partial x^2}\n",
    "$$"
   ]
  },
  {
   "cell_type": "markdown",
   "metadata": {},
   "source": [
    "so"
   ]
  },
  {
   "cell_type": "markdown",
   "metadata": {},
   "source": [
    "$$\n",
    "I_t = \\frac{\\partial I_e}{\\partial x} =  -  \\frac{1}{r_e}  \\frac{\\partial^2 V_e}{\\partial x^2}=   \\frac{1}{r_e+r_i}\\frac{\\partial^2 V}{\\partial x^2}\n",
    "$$"
   ]
  },
  {
   "cell_type": "markdown",
   "metadata": {},
   "source": [
    "## Incorporating cell membrane physiology\n",
    "From the membrane model previously derived we have"
   ]
  },
  {
   "cell_type": "markdown",
   "metadata": {},
   "source": [
    "$$\n",
    "I_t = p(C_m\\frac{\\partial V}{\\partial t}+I_{ion})\n",
    "$$"
   ]
  },
  {
   "cell_type": "markdown",
   "metadata": {},
   "source": [
    "where $p$ is the circumference of the cable.\n",
    "The total 1D cable model is then:"
   ]
  },
  {
   "cell_type": "markdown",
   "metadata": {},
   "source": [
    "$$\n",
    "p(C_m\\frac{\\partial V}{\\partial t} +I_{ion}(V))= (\\frac{1}{r_e+r_i} \\frac{\\partial^2 V}{\\partial x^2})\n",
    "$$"
   ]
  },
  {
   "cell_type": "markdown",
   "metadata": {},
   "source": [
    "## Physical units\n",
    "So far we have not considered the physical units of the terms. Typical\n",
    "units are\n",
    "\n",
    "<table border=\"1\">\n",
    "<thead>\n",
    "<tr><th align=\"left\">  Quantity </th> <th align=\"left\"> Dimension  </th> <th align=\"left\">  Typical unit  </th> </tr>\n",
    "</thead>\n",
    "<tbody>\n",
    "<tr><td align=\"right\">   $p$            </td> <td align=\"right\">   length          </td> <td align=\"right\">   $cm$                </td> </tr>\n",
    "<tr><td align=\"right\">   $C_m$          </td> <td align=\"right\">   capac./area     </td> <td align=\"right\">   $\\mu F/cm ^2$       </td> </tr>\n",
    "<tr><td align=\"right\">   V              </td> <td align=\"right\">   voltage         </td> <td align=\"right\">   $mV$                </td> </tr>\n",
    "<tr><td align=\"right\">   $I_{ion}$      </td> <td align=\"right\">   current/area    </td> <td align=\"right\">   $\\mu A/cm^2$        </td> </tr>\n",
    "<tr><td align=\"right\">   $r_i , r_e$    </td> <td align=\"right\">   res./length     </td> <td align=\"right\">   $10^3\\Omega /cm$    </td> </tr>\n",
    "<tr><td align=\"right\">   $x$            </td> <td align=\"right\">   length          </td> <td align=\"right\">   $cm$                </td> </tr>\n",
    "<tr><td align=\"right\">   $t$            </td> <td align=\"right\">   time            </td> <td align=\"right\">   $ms$                </td> </tr>\n",
    "</tbody>\n",
    "</table>\n",
    "## Exercise\n",
    "Verify that all the terms in the cable equation have the same physical\n",
    "units:"
   ]
  },
  {
   "cell_type": "markdown",
   "metadata": {},
   "source": [
    "$$\n",
    "p(C_m\\frac{\\partial V}{\\partial t} +I_{ion}(V))= (\\frac{1}{r_e+r_i} \\frac{\\partial^2 V}{\\partial x^2})\n",
    "$$"
   ]
  },
  {
   "cell_type": "markdown",
   "metadata": {},
   "source": [
    "<table border=\"1\">\n",
    "<thead>\n",
    "<tr><th align=\"left\">  Quantity </th> <th align=\"left\"> Dimension  </th> <th align=\"left\">  Typical unit  </th> </tr>\n",
    "</thead>\n",
    "<tbody>\n",
    "<tr><td align=\"right\">   $p$            </td> <td align=\"right\">   length          </td> <td align=\"right\">   $cm$                </td> </tr>\n",
    "<tr><td align=\"right\">   $C_m$          </td> <td align=\"right\">   capac./area     </td> <td align=\"right\">   $\\mu F/cm ^2$       </td> </tr>\n",
    "<tr><td align=\"right\">   V              </td> <td align=\"right\">   voltage         </td> <td align=\"right\">   $mV$                </td> </tr>\n",
    "<tr><td align=\"right\">   $I_{ion}$      </td> <td align=\"right\">   current/area    </td> <td align=\"right\">   $\\mu A/cm^2$        </td> </tr>\n",
    "<tr><td align=\"right\">   $r_i , r_e$    </td> <td align=\"right\">   res./length     </td> <td align=\"right\">   $10^3\\Omega /cm$    </td> </tr>\n",
    "<tr><td align=\"right\">   $x$            </td> <td align=\"right\">   length          </td> <td align=\"right\">   $cm$                </td> </tr>\n",
    "<tr><td align=\"right\">   $t$            </td> <td align=\"right\">   time            </td> <td align=\"right\">   $ms$                </td> </tr>\n",
    "</tbody>\n",
    "</table>\n",
    "What is the unit of the terms in the equation?\n",
    "\n",
    "\n",
    "## Scaling the cable equation (1)\n",
    "We can scale the variables to reduce the number of parameters.\n",
    "Define a membrane resistance:"
   ]
  },
  {
   "cell_type": "markdown",
   "metadata": {},
   "source": [
    "$$\n",
    "\\frac{1}{R_m} = \\frac{\\Delta I_{ion}}{\\Delta V}(V_0)\n",
    "$$"
   ]
  },
  {
   "cell_type": "markdown",
   "metadata": {},
   "source": [
    "where $V_0$ is the resting potential. Multiply with $R_m$ to get"
   ]
  },
  {
   "cell_type": "markdown",
   "metadata": {},
   "source": [
    "$$\n",
    "C_m R_m \\frac{\\partial V}{\\partial t} + R_m I_{ion}=\n",
    "\\frac{R_m}{p(r_i+r_e)}\\frac{\\partial^2 V}{\\partial x^2}\n",
    "$$"
   ]
  },
  {
   "cell_type": "markdown",
   "metadata": {},
   "source": [
    "Here we have assumed $r_i$ and $r_e$ constant.\n",
    "\n",
    "Defining  $f=-R_m I_{ion}$, $\\tau_m=C_m R_m$ (time constant)\n",
    "and $\\lambda_m^2 = R_m/(p(r_i+r_e))$ (space constant squared)\n",
    "we can write"
   ]
  },
  {
   "cell_type": "markdown",
   "metadata": {},
   "source": [
    "$$\n",
    "\\tau_m \\frac{\\partial V}{\\partial t} - f=\\lambda_m^2 \\frac{\\partial^2\n",
    "V}{\\partial x^2}\n",
    "$$"
   ]
  },
  {
   "cell_type": "markdown",
   "metadata": {},
   "source": [
    "## Scaling the cable equation (2)\n",
    "We introduce the dimensionless variables:"
   ]
  },
  {
   "cell_type": "markdown",
   "metadata": {},
   "source": [
    "$$\n",
    "T = t/\\tau_m, X = x/\\lambda_m\n",
    "$$"
   ]
  },
  {
   "cell_type": "markdown",
   "metadata": {},
   "source": [
    "We can then write:"
   ]
  },
  {
   "cell_type": "markdown",
   "metadata": {},
   "source": [
    "<!-- Equation labels as ordinary links -->\n",
    "<div id=\"scaled\"></div>\n",
    "\n",
    "$$\n",
    "\\frac{\\partial V}{\\partial T} = f + \\frac{\\partial^2 V}{\\partial X^2} \\label{scaled} \\tag{1}\n",
    "$$"
   ]
  },
  {
   "cell_type": "markdown",
   "metadata": {},
   "source": [
    "A solution $\\hat{V}(T,X)$ of ([1](#scaled)) implies that\n",
    "$V(t,x) = \\hat{V}(t/\\tau_m,x/\\lambda_m)$ will satisfy the unscaled\n",
    "equation.\n",
    "\n",
    "The scaled equation has units of voltage, but can easily be\n",
    "non-dimensionalized by introducing $V=V_0+\\bar{V}\\tilde{V}$, where\n",
    "$\\bar{V}$ is a characteristic voltage and $\\tilde{V}$ is a\n",
    "dimensionless variable.\n",
    "\n",
    "## The reaction term\n",
    "The form of $f$ depends on the cell type we want to study.\n",
    "For the axon $I_{ion}(m,n,h,V)$ of the HH-model is\n",
    "a good candidate.\n",
    "\n",
    "For the dendrite, which is non-excitable, a linear resistance\n",
    "model is good:"
   ]
  },
  {
   "cell_type": "markdown",
   "metadata": {},
   "source": [
    "$$\n",
    "I_{ion} = \\frac{1}{R_m}(V-V_0)\n",
    "$$"
   ]
  },
  {
   "cell_type": "markdown",
   "metadata": {},
   "source": [
    "or in dimensionless form $f = -V$:"
   ]
  },
  {
   "cell_type": "markdown",
   "metadata": {},
   "source": [
    "$$\n",
    "\\frac{\\partial V}{\\partial T} = \\frac{\\partial^2 V}{\\partial X^2} - V\n",
    "$$"
   ]
  },
  {
   "cell_type": "markdown",
   "metadata": {},
   "source": [
    "## Boundary- and initial conditions\n",
    "Need boundary and initial values. Initially at rest:\n",
    "\n",
    "Initially at rest:"
   ]
  },
  {
   "cell_type": "markdown",
   "metadata": {},
   "source": [
    "$$\n",
    "V(X,0) = 0\n",
    "$$"
   ]
  },
  {
   "cell_type": "markdown",
   "metadata": {},
   "source": [
    "Types of boundary conditions:\n",
    "\n",
    "  * Dirichlet: $V(x_b,T) = V_b$, voltage clamp.\n",
    "\n",
    "  * Neumann: $\\frac{\\partial V}{\\partial X} = -r_i \\lambda_m I$,  current injection.\n",
    "\n",
    "Justification:"
   ]
  },
  {
   "cell_type": "markdown",
   "metadata": {},
   "source": [
    "$$\n",
    "\\frac{\\partial V_i}{\\partial x}= -r_i I_i \\Rightarrow\n",
    "\\frac{\\partial V }{\\partial x} - \\frac{\\partial V_e}{\\partial x} = -r_i I_i\n",
    "\\stackrel{r_e=0}{\\Longrightarrow} \\frac{\\partial V }{\\partial x}= -r_i I_i\n",
    "$$"
   ]
  },
  {
   "cell_type": "markdown",
   "metadata": {},
   "source": [
    "## Passive conduction\n",
    "The linear cable in dimensionless form"
   ]
  },
  {
   "cell_type": "markdown",
   "metadata": {},
   "source": [
    "$$\n",
    "\\frac{\\partial V}{\\partial T} = \\frac{\\partial^2 V}{\\partial X^2} - V\n",
    "$$"
   ]
  },
  {
   "cell_type": "markdown",
   "metadata": {},
   "source": [
    "We consider a semi-infinite (i.e. long) cable with voltage clamped\n",
    "to a constant $V_c$ at $X = 0$. At steady state, we have"
   ]
  },
  {
   "cell_type": "markdown",
   "metadata": {},
   "source": [
    "$$\n",
    "\\frac{\\partial^2 V}{\\partial X^2} = V\n",
    "$$"
   ]
  },
  {
   "cell_type": "markdown",
   "metadata": {},
   "source": [
    "with solution"
   ]
  },
  {
   "cell_type": "markdown",
   "metadata": {},
   "source": [
    "$$\n",
    "V = V_c e^{-X} = V_c e^{-x/\\lambda_m}\n",
    "$$"
   ]
  },
  {
   "cell_type": "markdown",
   "metadata": {},
   "source": [
    "What does this tell you about how a signal decays along the cable? How\n",
    "strong is the signal one space constant from the source? How about ten\n",
    "space constants?\n",
    "\n",
    "\n",
    "## Exercise\n",
    "Remember the expression for the space constant:"
   ]
  },
  {
   "cell_type": "markdown",
   "metadata": {},
   "source": [
    "$$\n",
    "\\lambda_m = \\sqrt{R_m/(p(r_i +r_e))}\\approx\\sqrt{R_m/(p r_i)} = \\sqrt{R_m/(pR_c/A)},\n",
    "$$"
   ]
  },
  {
   "cell_type": "markdown",
   "metadata": {},
   "source": [
    "Assume a circular cross section with diameter $d$. Typical values for\n",
    "a mammalian neuron are $R_m = 7000\\Omega\n",
    "\\textrm{cm}^2, R_c = 150\\Omega \\textrm{cm}, d = 10.0\\mu m$\n",
    "\n",
    "Calculate the space constant $\\lambda_m$. How does it compare to the length of a\n",
    "human axon?\n",
    "\n",
    "\n",
    "## The bistable equation (1)\n",
    "The simplest model of active conduction in neuron is obtained by choosing the reaction term"
   ]
  },
  {
   "cell_type": "markdown",
   "metadata": {},
   "source": [
    "$$\n",
    "f(V)=AV(1-V)(V-\\alpha),\n",
    "$$"
   ]
  },
  {
   "cell_type": "markdown",
   "metadata": {},
   "source": [
    "where $\\alpha$ is a parameter between 0 and 1, and $A$ is a scaling parameter\n",
    "for the reaction term.\n",
    "\n",
    "## The bistable equation (2)\n",
    "We have"
   ]
  },
  {
   "cell_type": "markdown",
   "metadata": {},
   "source": [
    "$$\n",
    "\\frac{\\partial V}{\\partial t} = \\frac{\\partial^2 V}{\\partial x^2} +AV(1-V)(V-\\alpha),\n",
    "$$"
   ]
  },
  {
   "cell_type": "markdown",
   "metadata": {},
   "source": [
    "and if we neglect the diffusion term we get\n",
    "\\[\n",
    "\\frac{\\partial V}{\\partial t} = AV(1-V)(V -\\alpha).\n",
    "\\]\n",
    "The right hand side has three zeros; $V = 0,V = 1,V = \\alpha$. These are\n",
    "equilibrium points for the equation ($\\partial V/\\partial t = 0$).\n",
    "\n",
    "## The bistable equation (3)\n",
    "\n",
    "<!-- dom:FIGURE: [./figs/cubic.png, width=300 frac=0.7] -->\n",
    "<!-- begin figure -->\n",
    "\n",
    "<p></p>\n",
    "<img src=\"./figs/cubic.png\" width=300>\n",
    "\n",
    "<!-- end figure -->\n",
    "\n",
    "\n",
    "Here $\\alpha = 0.5$. What happens if the solution is perturbed away from the\n",
    "three equilibrium points $V = 0, V = 1, V = \\alpha$? (Recall that $dV/dt = f(V)$)\n",
    "\n",
    "\n",
    "## The bistable equation (4)\n",
    "* The equation has one unstable and two stable equilibrium points\n",
    "\n",
    "* Any initial condition $V < \\alpha$ will approach $V = 0$\n",
    "\n",
    "* Any initial condition $V > \\alpha$ will approach $V = 1$\n",
    "\n",
    "\n",
    "\n",
    "In 1D (with diffusion), the solution is a traveling front.\n",
    "\n",
    "\n",
    "\n",
    "\n",
    "## The FitzHugh-Nagumo model (1)\n",
    "* The bistable equation describes a traveling front, but never returns to the resting potential\n",
    "\n",
    "* To describe a propagating action potential we need to add a *recovery variable*\n",
    "\n",
    "* The result is the FitzHugh-Nagumo (FHN) model, the simplest model for qualitatively realistic propagation in excitable cells"
   ]
  },
  {
   "cell_type": "markdown",
   "metadata": {},
   "source": [
    "$$\n",
    "\\begin{align*}\n",
    "\\frac{\\partial V}{\\partial t} &= \\frac{\\partial^2 V}{\\partial x^2}\n",
    "+ AV(1-V)(V-\\alpha) - w, \\\\\n",
    "\\frac{\\partial w}{\\partial t} &= \\epsilon (V-\\gamma w),\n",
    "\\end{align*}\n",
    "$$"
   ]
  },
  {
   "cell_type": "markdown",
   "metadata": {},
   "source": [
    "with $\\epsilon,\\gamma >0$ and $w(0,x) = 0$.\n",
    "\n",
    "\n",
    "## The FitzHugh-Nagumo model (2)\n",
    "Again, we can examine the behavior of the model by neglecting\n",
    "diffusion:"
   ]
  },
  {
   "cell_type": "markdown",
   "metadata": {},
   "source": [
    "$$\n",
    "\\begin{align*}\n",
    "\\frac{\\partial V}{\\partial t} &= AV(1-V)(V-\\alpha) - w, \\\\\n",
    "\\frac{\\partial w}{\\partial t} &= \\epsilon (V-\\gamma w),\n",
    "\\end{align*}\n",
    "$$"
   ]
  },
  {
   "cell_type": "markdown",
   "metadata": {},
   "source": [
    "* Initially, the model behaves as the bistable equation\n",
    "\n",
    "* As $V$ increases, $\\frac{\\partial w}{\\partial t} >0$\n",
    "\n",
    "* $w > 0 $ will \"pull\" $V$ back towards $V= 0$\n",
    "\n",
    "* In 1D, the solution is a traveling wave resembling an action potential\n",
    "\n",
    "## Summary\n",
    " * The cable equation describes signal propagation in *leaky* cables\n",
    "\n",
    " * 1D reaction-diffusion equation, the form of the reaction term depends on the application (properties of the membrane):\n",
    "\n",
    "   * Linear; passive membrane\n",
    "\n",
    "   * Cubic; bistable equation (propagating front)\n",
    "\n",
    "   * FHN; coupled to ODE (propagating AP)\n",
    "\n",
    "   * Hodgkin-Huxley, cardiac cell models, etc..."
   ]
  }
 ],
 "metadata": {
  "kernelspec": {
   "display_name": "Python 3",
   "language": "python",
   "name": "python3"
  },
  "language_info": {
   "codemirror_mode": {
    "name": "ipython",
    "version": 3
   },
   "file_extension": ".py",
   "mimetype": "text/x-python",
   "name": "python",
   "nbconvert_exporter": "python",
   "pygments_lexer": "ipython3",
   "version": "3.8.5"
  }
 },
 "nbformat": 4,
 "nbformat_minor": 4
}
