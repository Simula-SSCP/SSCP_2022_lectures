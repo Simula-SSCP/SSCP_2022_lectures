{
 "cells": [
  {
   "cell_type": "markdown",
   "metadata": {},
   "source": [
    "# L02 - Introduction to FEniCS - Diffusion\n",
    "\n",
    "\n",
    "<img style=\"float: left;\" src=\"fig/fenics_logo.png\" width=200>\n"
   ]
  },
  {
   "cell_type": "markdown",
   "metadata": {},
   "source": [
    " In this notebook, we will cover the implementation and solving of a simple diffusion problem using the Finite Element tool FEniCS. You will learn how to: \n",
    " - Derive the variational form of the problem and implement it in FEniCS\n",
    " - Build and solve a 1D steady state diffusion problem\n",
    " - Play with the diffusion coefficient and the source term\n",
    " - Build and solve a 1D transient diffusion problem\n",
    " - Do all the same in 2D\n",
    " "
   ]
  },
  {
   "cell_type": "markdown",
   "metadata": {},
   "source": [
    "The FEniCS project is a collection of software designed for the automated solution of partial differential equations using the finite element method. It handles a lot of the busywork involved for you, and more or less automates everything except the mathematical derivation of the problem (strong  and weak formulations). Both Python and C++ interfaces exist. It can be obtained at https://fenicsproject.org/download/.\n",
    "The community around the FEniCS project is very active and a lot of useful informations and demo files can be found from the tutorial webpage o teh project. I recommend each of you to download the free tutorial book \"Solving PDE's in Python - The FEniCS Tutorial I\" (https://fenicsproject.org/tutorial/). It covers most of the python functionability of FEniCS and is a good starting for any one who wants to use FEniCS."
   ]
  },
  {
   "cell_type": "code",
   "execution_count": 4,
   "metadata": {},
   "outputs": [
    {
     "data": {
      "text/html": [
       "<iframe src=https://fenicsproject.org/tutorial/ width=900 height=1000></iframe>"
      ],
      "text/plain": [
       "<IPython.core.display.HTML object>"
      ]
     },
     "execution_count": 4,
     "metadata": {},
     "output_type": "execute_result"
    }
   ],
   "source": [
    "from IPython.display import IFrame, HTML\n",
    "HTML('<iframe src=https://fenicsproject.org/tutorial/ width=900 height=1000></iframe>')"
   ]
  },
  {
   "cell_type": "markdown",
   "metadata": {},
   "source": [
    "# Diffusion equation\n",
    " \n",
    "The diffusion equation is an fundamental equation used to describe many natural processes. It applies well to quantify smooth and \"diffuse\" transport processes. It is used to describe scalar field such as temperature (transport of heat by thermal conduction, Fourier's law) or concentration (calcium concentration in cells, Fick's law).\n",
    "Let's assume a scalar field $U_{(t,x)}$, depending on time and space, the diffusion process of $U$ can be approximated by the following partial differential equation: \n",
    "\n",
    "$$ \\frac {\\partial U} {\\partial t} - \\nabla \\cdot \\kappa \\: \\nabla U = S$$ \n",
    "\n",
    "Equivalent to :\n",
    "\n",
    "$$  \\frac {\\partial U} {\\partial t} - \\nabla \\cdot \\kappa \\: ( \\frac {\\partial U} {\\partial x}, \\frac {\\partial U} {\\partial y}, \\frac {\\partial U} {\\partial z}) = S $$ \n",
    "\n",
    "\n",
    "Where $S$ is a source term. When the diffusion coefficient $\\kappa$ is constant in space, the equation can be rearranged as follow:\n",
    "\n",
    "\n",
    "$$  \\frac {\\partial U} {\\partial t} - \\kappa \\: (\\frac {\\partial^2 U} {\\partial x^2} + \\frac {\\partial^2 U} {\\partial y^2} + \\frac {\\partial^2 U} {\\partial z^2} ) = S $$ \n",
    "\n"
   ]
  },
  {
   "cell_type": "markdown",
   "metadata": {
    "nbpresent": {
     "id": "4b2c5c7c-5177-47bc-bd42-cffb1f5e1ce9"
    }
   },
   "source": [
    "\n",
    "# Solving a 1D steady state diffusion problem \n",
    "\n",
    "In this example, we will solve the diffusion equation in its simpliest form assuming a one dimensional problem (along the x-axis) and steady state condition, when the time derivative vanishes to zero $\\frac {\\partial U} {\\partial t} = 0$. \n",
    "\n",
    "The equation becomes: \n",
    "\n",
    "\n",
    "$$ - \\: \\kappa \\: \\frac {\\partial^2 U} {\\partial x^2}  = \\: S $$ \n",
    "\n",
    "These simplification leads to the formulation of a Poisson problem as solved step by step in the \"introduction to Finite Elements\" course.\n",
    "\n",
    "In order to solve the problem using FEniCS, one has to apply the \"FEM recipe\" to express the partial differential equation into a variation problem.\n",
    "\n",
    "\n",
    "### Turning the pde into a variational problem\n",
    "\n",
    "As before, we start out by deriving the weak form of our problem. We do this by multiplying by a test function $V$, integrating over the whole domain, and manipulating the integral using integration by parts until no second derivatives occur. \n",
    "\n",
    "\n",
    "$$- \\: \\int \\limits_\\Omega  \\: \\Bigl(\\kappa \\: \\frac {\\partial^2 U} {\\partial x^2}\\Bigr) V \\: \\text{dx} = \\int  \\limits_\\Omega  S \\: V \\: \\text{dx}$$ \n",
    "\n",
    "Intergration by parts formula:\n",
    "\n",
    "$$ - \\: \\int \\limits_\\Omega \\: \\Bigl(\\frac {\\partial^2 A} {\\partial x^2}\\Bigr) B  \\: \\text{dx} = \\int \\limits_\\Omega \\: \\frac {\\partial A} {\\partial x} \\frac {\\partial B} {\\partial x} \\text{dx} \\: - \\: \\int \\limits_{\\partial \\Omega} \\frac {\\partial A} {\\partial x} B \\: \\text{ds} $$ \n",
    "\n",
    "\n",
    "Applied to our equation, we obtain:\n",
    "\n",
    "$$ \\: \\int  \\limits_\\Omega  \\: \\kappa \\: \\frac {\\partial U} {\\partial x} \\frac {\\partial V} {\\partial x} \\: \\text{dx} = \\int  \\limits_\\Omega  S \\: V \\: \\text{dx}\\: + \\: \\int \\limits_{\\partial \\Omega} \\frac {\\partial U} {\\partial x} V \\: \\text{ds}  $$ \n",
    "\n",
    "\n",
    "As this has no second derivatives, this is the weak form of our equation.\n",
    "\n"
   ]
  },
  {
   "cell_type": "markdown",
   "metadata": {},
   "source": [
    "### FEniCS: First, import the library\n",
    "Once FEniCS is properly installed, you can start using it in a Python program by importing the DOLFIN module:"
   ]
  },
  {
   "cell_type": "code",
   "execution_count": 2,
   "metadata": {},
   "outputs": [],
   "source": [
    "# DOLFIN is the computational backend of the FEniCS project\n",
    "from dolfin import * "
   ]
  },
  {
   "cell_type": "markdown",
   "metadata": {
    "nbpresent": {
     "id": "eac7738a-a3ab-469f-8197-f967b40d5565"
    }
   },
   "source": [
    "### FEniCS: Discretizing the domain and space of functions\n",
    "We can now use FEniCS to solve our problem. First, we discretize our domain by creating a mesh within the domain $\\Omega$ bounded from 0 to 1. "
   ]
  },
  {
   "cell_type": "code",
   "execution_count": 10,
   "metadata": {
    "nbpresent": {
     "id": "08a002cf-05da-4000-a448-a4a083765734"
    },
    "scrolled": true
   },
   "outputs": [
    {
     "data": {
      "image/png": "[encoded data removed]",
      "text/plain": [
       "<Figure size 432x288 with 1 Axes>"
      ]
     },
     "metadata": {
      "needs_background": "light"
     },
     "output_type": "display_data"
    }
   ],
   "source": [
    "mesh = UnitIntervalMesh(20) # 20 is number of intervals Omega is divided intoc\n",
    "plot(mesh);"
   ]
  },
  {
   "cell_type": "markdown",
   "metadata": {
    "nbpresent": {
     "id": "cbcedc83-b4d2-4bcf-ab13-9dcecba3e9cd"
    }
   },
   "source": [
    "\n",
    "Next, choose a space of functions to use for approximating $U$. We use the space of continuous piecewise linear functions on our mesh. Denote this space by $W$."
   ]
  },
  {
   "cell_type": "code",
   "execution_count": 11,
   "metadata": {
    "nbpresent": {
     "id": "a9a4a85d-7ec8-4293-a9c5-a9696d9d5493"
    }
   },
   "outputs": [],
   "source": [
    "elem = FiniteElement(\"CG\", interval, 1) # here interval is a FEniCS builtin representing a single interval\n",
    "W = FunctionSpace(mesh, elem)"
   ]
  },
  {
   "cell_type": "markdown",
   "metadata": {
    "nbpresent": {
     "id": "0b23da00-852c-4e47-a728-bd38f4f6d621"
    }
   },
   "source": [
    "Think of `elem` as a function space of linear functions living on a single subinterval of our mesh. The call to `FunctionSpace` then takes this small 'model' function space living in a single subinterval of the mesh and builds a 'global' function space $W$ by effectively gluing together copies of `elem`. This is not 100% accurate, but a good mental picture.\n",
    "\n",
    "\n",
    "### FEniCS: Specifying the weak formulation\n",
    "We need to tell FEniCS the weak formulation of our problem."
   ]
  },
  {
   "cell_type": "code",
   "execution_count": 12,
   "metadata": {
    "nbpresent": {
     "id": "5e623875-16fe-44bd-af26-ff224b2abeb2"
    }
   },
   "outputs": [],
   "source": [
    "kappa = Constant(1.0)\n",
    "\n",
    "V = TestFunction(W) # the test function\n",
    "U = TrialFunction(W) # the TrialFunction is basically a symbol representing the unknown\n",
    "\n",
    "a = kappa * dot( grad(U), grad(V) ) * dx  # left hand side of our equation\n",
    "S = Constant(0.0) # source term\n",
    "L = (S*V) * dx # right hand side of our equation"
   ]
  },
  {
   "cell_type": "markdown",
   "metadata": {},
   "source": [
    "Don't be confused! The left hand side (lhs) and the right hand side (rhs) of the equation is often called a and L, respectively, in the FEniCS demos. To stay consistent with the tutorial book, we will adopt these notations in this notebook. "
   ]
  },
  {
   "cell_type": "markdown",
   "metadata": {
    "nbpresent": {
     "id": "f6302901-2199-4c4e-95a3-a5dc07f9012b"
    }
   },
   "source": [
    "\n",
    "### FEniCS: Specifying boundary conditions\n",
    "There are different types of boundary conditions that we can apply  to the limits of our model. Namely, Dirichlet (or strong), Neumann (or natural), and Robin boundary conditions. For the moment, we will only applied Dirichlet boundary conditions in our model, meaning that we will explicitly set the boundary values in our system of equations, let's say $U_0=0$ and $U_1=2$. More details are given a the end of the notebook to explain the implementation of Dirichlet boundary conditions on the system of equations. \n",
    "\n",
    "Note that when Dirichlet boundary conditions are applied, the boundary term in our equation $\\int \\limits_{\\partial \\Omega} \\frac {\\partial U} {\\partial x} V \\: \\text{ds}  $ can be ignored. This is a nice fact coming out of the Finite Elements formulation."
   ]
  },
  {
   "cell_type": "code",
   "execution_count": 15,
   "metadata": {
    "nbpresent": {
     "id": "b06dbc96-7fab-468e-b0a8-3864d7180021"
    }
   },
   "outputs": [],
   "source": [
    "value_left = Constant(0.0)\n",
    "value_right = Constant(20.0)\n",
    "bc_l = DirichletBC(W, value_left, \"on_boundary && near(x[0], 0)\") # Imposing Dirichlet BC to the left boundary node\n",
    "bc_r = DirichletBC(W, value_right, \"on_boundary && near(x[0], 1)\") # Imposing Dirichlet BC to the right boundary node\n",
    "bcs = [bc_l, bc_r]   # list of boundary conditions to apply to the problem"
   ]
  },
  {
   "cell_type": "markdown",
   "metadata": {
    "nbpresent": {
     "id": "23630225-b858-48df-a0db-82e22c525965"
    }
   },
   "source": [
    "To impose the Dirichlet boundary conditon we use the FEniCS object 'DirichletBC'. The first argument is the function space on which we approximate our function, the second argument is the value we want to impose, and the last argument is where the boundary condition should apply.\n",
    "\n",
    "Now we have done basically all we need to do to solve our problem."
   ]
  },
  {
   "cell_type": "markdown",
   "metadata": {},
   "source": [
    "\n",
    "### FEniCS: Solving\n"
   ]
  },
  {
   "cell_type": "code",
   "execution_count": 16,
   "metadata": {
    "nbpresent": {
     "id": "00ecb36c-6239-42a6-bd2e-7bc542688969"
    }
   },
   "outputs": [
    {
     "data": {
      "image/png": "[encoded data removed]",
      "text/plain": [
       "<Figure size 432x288 with 1 Axes>"
      ]
     },
     "metadata": {
      "needs_background": "light"
     },
     "output_type": "display_data"
    }
   ],
   "source": [
    "U_sol = Function(W)  # place to store the solution\n",
    "solve(a == L, U_sol, bcs)\n",
    "plot(U_sol);"
   ]
  },
  {
   "cell_type": "markdown",
   "metadata": {
    "nbpresent": {
     "id": "e530e809-00cd-44f0-822c-46ce2b39326e"
    }
   },
   "source": [
    "And that's it! We have solved a PDE in less than 20 lines of code. That's pretty good value for money. The same procedure can be carried through for more complicated equations as well. Though a bit more code may be required to specify the domains, boundaries and weak forms, the overall structure is still the same:\n",
    "\n",
    "1. Define the domain\n",
    "2. Define the `FunctionSpace` you want to use for approximating your solution\n",
    "3. Specify the weak form so FEniCS understands it\n",
    "4. Specify the boundary conditions\n",
    "5. Solve"
   ]
  },
  {
   "cell_type": "markdown",
   "metadata": {},
   "source": [
    "### Exercice 1: Playing with the diffusion coeffient\n",
    "Assuming that the coefficient $\\kappa$ is element-wise constant, set a differente value of the constant in the middle of the domain. \n"
   ]
  },
  {
   "cell_type": "code",
   "execution_count": 17,
   "metadata": {},
   "outputs": [
    {
     "data": {
      "image/png": "[encoded data removed]",
      "text/plain": [
       "<Figure size 432x288 with 1 Axes>"
      ]
     },
     "metadata": {
      "needs_background": "light"
     },
     "output_type": "display_data"
    }
   ],
   "source": [
    "mesh = UnitIntervalMesh(20) # 20 is number of intervals Omega is divided intoc\n",
    "plot(mesh);\n",
    "\n",
    "elem = FiniteElement(\"CG\", interval, 1) # here interval is a FEniCS builtin representing a single interval\n",
    "W = FunctionSpace(mesh, elem)"
   ]
  },
  {
   "cell_type": "code",
   "execution_count": 24,
   "metadata": {},
   "outputs": [
    {
     "data": {
      "text/plain": [
       "array([ 1.,  1.,  1.,  1.,  1.,  1.,  1.,  1.,  1., 20.,  1.,  1.,  1.,\n",
       "        1.,  1.,  1.,  1.,  1.,  1.,  1.])"
      ]
     },
     "execution_count": 24,
     "metadata": {},
     "output_type": "execute_result"
    }
   ],
   "source": [
    "#kappa = Constant(1.0)\n",
    "k_elem = FiniteElement(\"DG\", interval, 0)\n",
    "kappa_e = Function(FunctionSpace(mesh, k_elem))\n",
    "kappa_e.vector()[:]=1\n",
    "kappa_e.vector()[9]=20\n",
    "kappa_e.vector()[:]\n"
   ]
  },
  {
   "cell_type": "code",
   "execution_count": 25,
   "metadata": {},
   "outputs": [
    {
     "data": {
      "image/png": "[encoded data removed]",
      "text/plain": [
       "<Figure size 432x288 with 1 Axes>"
      ]
     },
     "metadata": {
      "needs_background": "light"
     },
     "output_type": "display_data"
    }
   ],
   "source": [
    "V = TestFunction(W) # the test function\n",
    "U = TrialFunction(W) # the TrialFunction is basically a symbol representing the unknown\n",
    "\n",
    "a = kappa_e * dot( grad(U), grad(V) ) * dx  # left hand side of our equation\n",
    "S = Constant(0.0) # source term\n",
    "L = (S*V) * dx # right hand side of our equation\n",
    "\n",
    "value_left = Constant(0.0)\n",
    "value_right = Constant(2.0)\n",
    "bc_l = DirichletBC(W, value_left, \"on_boundary && near(x[0], 0)\") # Imposing Dirichlet BC to the left boundary node\n",
    "bc_r = DirichletBC(W, value_right, \"on_boundary && near(x[0], 1)\") # Imposing Dirichlet BC to the right boundary node\n",
    "bcs = [bc_l, bc_r]   # list of boundary conditions to apply to the problem\n",
    "\n",
    "U_sol = Function(W)  # place to store the solution\n",
    "solve(a == L, U_sol, bcs) # solve the problem\n",
    "plot(U_sol);\n"
   ]
  },
  {
   "cell_type": "markdown",
   "metadata": {},
   "source": [
    "### Exercice 2: Playing with the source term\n",
    "Let's do the same with the source term. Let's include a source term of the given value at the same element within the domain. \n",
    "\n"
   ]
  },
  {
   "cell_type": "code",
   "execution_count": 34,
   "metadata": {},
   "outputs": [
    {
     "data": {
      "image/png": "[encoded data removed]",
      "text/plain": [
       "<Figure size 432x288 with 1 Axes>"
      ]
     },
     "metadata": {
      "needs_background": "light"
     },
     "output_type": "display_data"
    }
   ],
   "source": [
    "#S = Constant(0.0) # source term\n",
    "s_elem = FiniteElement(\"DG\", interval, 0)\n",
    "S_e = Function(FunctionSpace(mesh, s_elem))\n",
    "S_e.vector()[:]=0\n",
    "S_e.vector()[9]=20\n",
    "S_e.vector()[15]=-20\n",
    "S_e.vector()[:]\n",
    "\n",
    "\n",
    "L = (S_e*V) * dx # right hand side of our equation\n",
    "\n",
    "value_left = Constant(0.0)\n",
    "value_right = Constant(0.0)\n",
    "bc_l = DirichletBC(W, value_left, \"on_boundary && near(x[0], 0)\") # Imposing Dirichlet BC to the left boundary node\n",
    "bc_r = DirichletBC(W, value_right, \"on_boundary && near(x[0], 1)\") # Imposing Dirichlet BC to the right boundary node\n",
    "bcs = [bc_l, bc_r]   # list of boundary conditions to apply to the problem\n",
    "\n",
    "U_sol = Function(W)  # place to store the solution\n",
    "solve(a == L, U_sol, bcs) # solve the problem\n",
    "plot(U_sol);"
   ]
  },
  {
   "cell_type": "markdown",
   "metadata": {},
   "source": [
    "# Solving a 1D transient diffusion problem \n",
    "\n",
    "Now that we succefully solved the diffusion equation for steady state conditions, let's look at the time evolution of the solution before equilibrium is reached.\n",
    "\n",
    "In this case, the equation is: \n",
    "\n",
    "$$ \\frac {\\partial U} {\\partial t}  - \\: \\kappa \\: \\frac {\\partial^2 U} {\\partial^2 x}  = \\: S $$ \n",
    "\n",
    "One classical approach of evaluating the time derivative term is to approximate it by means of finite differences.The following backward Euler scheme can be used: \n",
    "\n",
    "$$ \\frac {\\partial U} {\\partial t} = \\frac {U^{new} - U^{old}}{dt} $$ \n",
    "\n",
    "\n",
    "### Turning the pde into a variational form\n",
    "\n",
    "As before, we express the variational form of our problem with the approximated time derivation term: \n",
    "\n",
    "\n",
    "$$\\int \\limits_{\\Omega}  \\Bigl(\\frac {U - U^{old}}{dt}\\Bigr) \\: V \\: \\text{dx}  + \\int  \\limits_{\\Omega} \\: \\kappa \\: \\frac {\\partial U} {\\partial x} \\frac {\\partial V} {\\partial x} \\: \\text{dx} = \\int  \\limits_{\\Omega} S \\: V \\: \\text{dx} + \\: \\int \\limits_{\\partial \\Omega} \\frac {\\partial U} {\\partial x} V \\: \\text{ds}    $$ \n",
    "\n",
    "One can rearrange the equation in a way that all the unknown terms are present in the left hand side and all the known terms present in the right hand side. \n",
    "\n",
    "$$\\int \\limits_{\\Omega}  \\frac {1}{dt} U \\: V \\: \\text{dx}  + \\int  \\limits_{\\Omega} \\: \\kappa \\: \\frac {\\partial U} {\\partial x} \\frac {\\partial V} {\\partial x} \\: \\text{dx} = \\int \\limits_{\\Omega}  \\frac {1}{dt} U^{old} \\: V \\: \\text{dx}  + \\int  \\limits_{\\Omega} S \\: V \\: \\text{dx}  + \\: \\int \\limits_{\\partial \\Omega} \\frac {\\partial U} {\\partial x} V \\: \\text{ds}  $$ \n",
    "\n"
   ]
  },
  {
   "cell_type": "markdown",
   "metadata": {},
   "source": [
    "### FEniCS: Let's start as before\n",
    "\n"
   ]
  },
  {
   "cell_type": "markdown",
   "metadata": {},
   "source": [
    "We first need to discretize our domain into a FE mesh."
   ]
  },
  {
   "cell_type": "code",
   "execution_count": 226,
   "metadata": {},
   "outputs": [
    {
     "data": {
      "image/png": "[encoded data removed]",
      "text/plain": [
       "<Figure size 432x288 with 1 Axes>"
      ]
     },
     "metadata": {
      "needs_background": "light"
     },
     "output_type": "display_data"
    }
   ],
   "source": [
    "## your code here!"
   ]
  },
  {
   "cell_type": "markdown",
   "metadata": {},
   "source": [
    "We have introduced two new variables:\n",
    "- `dt`, the time step, which is a `Constant` object that appear in both the righ hand side (`a`) and left hend side (`L`) form. \n",
    "- `nb_t`, that we will use to constrain the maximum number of time steps to run."
   ]
  },
  {
   "cell_type": "markdown",
   "metadata": {},
   "source": [
    "### FEniCS: Time loop\n",
    "\n",
    "Since we want to look at the time evolution of the diffusion process, we need to solve the problem step by step within a **time loop** and update the solution over the time step `dt`."
   ]
  },
  {
   "cell_type": "code",
   "execution_count": 228,
   "metadata": {},
   "outputs": [
    {
     "data": {
      "image/png": "[encoded data removed]",
      "text/plain": [
       "<Figure size 432x288 with 1 Axes>"
      ]
     },
     "metadata": {
      "needs_background": "light"
     },
     "output_type": "display_data"
    }
   ],
   "source": [
    "for t in range(nb_t):\n",
    "    #\n",
    "    # Write the necessary code lines to solve the system of equations!\n",
    "    #\n",
    "    assign(U_old, U_sol)  # update the old solution to the new one for next time step "
   ]
  },
  {
   "cell_type": "markdown",
   "metadata": {},
   "source": [
    "**NOTE:** When defining the function `U_old` in the variational form, FEniCS will automatically take into account the updated values in the system of equations when we execute `assign(U_old, U_sol)`.   \n",
    "    "
   ]
  },
  {
   "cell_type": "markdown",
   "metadata": {},
   "source": [
    "# Solving a transient 2D diffusion problem \n",
    "Adding an extra dimension is easy! Let's start from the equation and follow the same procedure as in the previous cases. \n",
    "\n",
    "$$ \\frac {\\partial U} {\\partial t}  - \\: \\kappa \\: \\Bigl(\\frac {\\partial^2 U} {\\partial^2 x} +  \\frac {\\partial^2 U} {\\partial^2 z}\\Bigr)  = \\: S $$ \n",
    "\n",
    "\n",
    "### Turning the pde into a variational problem\n",
    "\n",
    "$$\\int \\limits_{\\Omega} \\Bigl(\\frac {U - U^{old}}{dt}\\Bigr) \\: V \\: \\text{dx}  + \\int  \\limits_{\\Omega} \\: \\kappa \\:  \\Bigl(\\frac {\\partial U} {\\partial x} \\frac {\\partial V} {\\partial x} + \\frac {\\partial U} {\\partial y} \\frac {\\partial V} {\\partial y}\\Bigr) \\: \\text{dx} = \\int  \\limits_{\\Omega} S \\: V \\: \\text{dx}  + \\: \\int \\limits_{\\partial \\Omega} \\frac {\\partial U} {\\partial x} V \\: \\text{ds} + \\: \\int \\limits_{\\partial \\Omega} \\frac {\\partial U} {\\partial y} V \\: \\text{ds} $$ \n",
    "\n",
    "\n",
    "Once we rearrange the unknown terms in the left hand side and the known terms in the right hand side, we obtain:\n",
    "\n",
    "$$\\int \\limits_{\\Omega}  \\frac {1}{dt} U \\: V \\: \\text{dx}  + \\int  \\limits_{\\Omega} \\: \\kappa \\: \\Bigl( \\frac {\\partial U} {\\partial x}  \\frac {\\partial V} {\\partial x} + \\frac {\\partial U} {\\partial y} \\frac {\\partial V} {\\partial y}\\Bigr) \\: \\text{dx} = \\int \\limits_{\\Omega}  \\frac {1}{dt} U^{old} \\: V \\: \\text{dx}  + \\int  \\limits_{\\Omega} S \\: V \\: \\text{dx}  + \\: \\int \\limits_{\\partial \\Omega} \\frac {\\partial U} {\\partial x} V \\: \\text{ds} + \\: \\int \\limits_{\\partial \\Omega} \\frac {\\partial U} {\\partial y} V \\: \\text{ds}   $$ \n",
    "\n"
   ]
  },
  {
   "cell_type": "markdown",
   "metadata": {},
   "source": [
    "\n",
    "### FEniCS: Moving to 2D\n",
    "Adding the second dimension is straight forward using FEniCS. Only minor changes have to made on defining the mesh, the `FunctionSpace`, and the boundaries of the 2D domain. \n"
   ]
  },
  {
   "cell_type": "code",
   "execution_count": 35,
   "metadata": {},
   "outputs": [
    {
     "data": {
      "image/png": "[encoded data removed]",
      "text/plain": [
       "<Figure size 432x288 with 1 Axes>"
      ]
     },
     "metadata": {
      "needs_background": "light"
     },
     "output_type": "display_data"
    }
   ],
   "source": [
    "mesh = UnitSquareMesh(20,20) # 20 is number of intervals Omega is divided into\n",
    "plot(mesh);"
   ]
  },
  {
   "cell_type": "code",
   "execution_count": 37,
   "metadata": {},
   "outputs": [
    {
     "data": {
      "image/png": "[encoded data removed]",
      "text/plain": [
       "<Figure size 432x288 with 1 Axes>"
      ]
     },
     "metadata": {
      "needs_background": "light"
     },
     "output_type": "display_data"
    }
   ],
   "source": [
    "# Based on the previous 1D code, make your own 2D code\n",
    "elem = FiniteElement(\"CG\", triangle, 1) # here interval is a FEniCS builtin representing a single interval\n",
    "W = FunctionSpace(mesh, elem)\n",
    "\n",
    "kappa = Constant(1.0)\n",
    "S = Constant(0.0)\n",
    "\n",
    "V = TestFunction(W) # the test function\n",
    "U = TrialFunction(W) # the TrialFunction is basically a symbol representing the unknown\n",
    "\n",
    "a = kappa * dot( grad(U), grad(V) ) * dx  # left hand side of our equation\n",
    "S = Constant(0.0) # source term\n",
    "L = (S*V) * dx # right hand side of our equation\n",
    "\n",
    "value_left = Constant(0.0)\n",
    "value_right = Constant(2.0)\n",
    "bc_l = DirichletBC(W, value_left, \"on_boundary && near(x[0], 0)\") # Imposing Dirichlet BC to the left boundary node\n",
    "bc_r = DirichletBC(W, value_right, \"on_boundary && near(x[0], 1)\") # Imposing Dirichlet BC to the right boundary node\n",
    "bcs = [bc_l, bc_r]   # list of boundary conditions to apply to the problem\n",
    "\n",
    "U_sol = Function(W)  # place to store the solution\n",
    "solve(a == L, U_sol, bcs) # solve the problem\n",
    "plot(U_sol);\n",
    "\n"
   ]
  },
  {
   "cell_type": "markdown",
   "metadata": {
    "nbpresent": {
     "id": "a7ae36ff-93c9-458d-8e59-1eec315555a9"
    }
   },
   "source": [
    "**Well done!**"
   ]
  },
  {
   "cell_type": "markdown",
   "metadata": {
    "nbpresent": {
     "id": "76b65351-272c-4695-83fd-20239382d52e"
    }
   },
   "source": [
    "# Where did the boundary terms go, and when can I ignore them? (extra)\n",
    "To make it clear what is happening with the boundary terms we ignored, what FEniCS does behind the scenes is the following:"
   ]
  },
  {
   "cell_type": "code",
   "execution_count": 231,
   "metadata": {
    "nbpresent": {
     "id": "32bb5f6f-0b0a-4c04-8dd9-95b3b7c72b49"
    }
   },
   "outputs": [],
   "source": [
    "mesh = UnitIntervalMesh(5) # 20 is number of intervals Omega is divided intoc\n",
    "elem = FiniteElement(\"CG\", interval, 1) # here interval is a FEniCS builtin representing a single interval\n",
    "W = FunctionSpace(mesh, elem)\n",
    "\n",
    "V = TestFunction(W) # the test function\n",
    "U = TrialFunction(W) # the TrialFunction is basically a symbol representing the unknown\n",
    "\n",
    "kappa = Constant(1.0)\n",
    "a = kappa * dot( grad(U), grad(V) ) * dx  # left hand side of our equation\n",
    "S = Constant(0.0) # source term\n",
    "L = (S*V) * dx # right hand side of our equation\n",
    "\n",
    "value_left = Constant(0.0)\n",
    "value_right = Constant(2.0)\n",
    "bc_l = DirichletBC(W, value_left, \"on_boundary && near(x[0], 0)\") # Imposing Dirichlet BC to the left boundary node\n",
    "bc_r = DirichletBC(W, value_right, \"on_boundary && near(x[0], 1)\") # Imposing Dirichlet BC to the right boundary node\n",
    "\n",
    "A = assemble(a)\n",
    "b = assemble(L)\n"
   ]
  },
  {
   "cell_type": "code",
   "execution_count": 232,
   "metadata": {},
   "outputs": [
    {
     "name": "stdout",
     "output_type": "stream",
     "text": [
      "\n",
      "Before BCs are applied without bdy term: \n",
      "\n"
     ]
    },
    {
     "data": {
      "text/latex": [
       "$\\displaystyle \\left( \\left[\\begin{matrix}5.0 & -5.0 & 0.0 & 0.0 & 0.0 & 0.0\\\\-5.0 & 10.0 & -5.0 & 0.0 & 0.0 & 0.0\\\\0.0 & -5.0 & 10.0 & -5.0 & 0.0 & 0.0\\\\0.0 & 0.0 & -5.0 & 10.0 & -5.0 & 0.0\\\\0.0 & 0.0 & 0.0 & -5.0 & 10.0 & -5.0\\\\0.0 & 0.0 & 0.0 & 0.0 & -5.0 & 5.0\\end{matrix}\\right], \\  \\left[\\begin{matrix}0.0\\\\0.0\\\\0.0\\\\0.0\\\\0.0\\\\0.0\\end{matrix}\\right]\\right)$"
      ],
      "text/plain": [
       "⎛⎡5.0   -5.0  0.0   0.0   0.0   0.0 ⎤  ⎡0.0⎤⎞\n",
       "⎜⎢                                  ⎥  ⎢   ⎥⎟\n",
       "⎜⎢-5.0  10.0  -5.0  0.0   0.0   0.0 ⎥  ⎢0.0⎥⎟\n",
       "⎜⎢                                  ⎥  ⎢   ⎥⎟\n",
       "⎜⎢0.0   -5.0  10.0  -5.0  0.0   0.0 ⎥  ⎢0.0⎥⎟\n",
       "⎜⎢                                  ⎥, ⎢   ⎥⎟\n",
       "⎜⎢0.0   0.0   -5.0  10.0  -5.0  0.0 ⎥  ⎢0.0⎥⎟\n",
       "⎜⎢                                  ⎥  ⎢   ⎥⎟\n",
       "⎜⎢0.0   0.0   0.0   -5.0  10.0  -5.0⎥  ⎢0.0⎥⎟\n",
       "⎜⎢                                  ⎥  ⎢   ⎥⎟\n",
       "⎝⎣0.0   0.0   0.0   0.0   -5.0  5.0 ⎦  ⎣0.0⎦⎠"
      ]
     },
     "execution_count": 232,
     "metadata": {},
     "output_type": "execute_result"
    }
   ],
   "source": [
    "print(\"\\nBefore BCs are applied without bdy term: \\n\")\n",
    "from sympy import init_printing, Matrix, Eq\n",
    "init_printing(use_latex = 'mathjax') # Used to print Latex to the screen\n",
    "%matplotlib inline\n",
    "\n",
    "(Matrix(A.array()), Matrix(b.get_local()))\n"
   ]
  },
  {
   "cell_type": "code",
   "execution_count": 233,
   "metadata": {},
   "outputs": [
    {
     "name": "stdout",
     "output_type": "stream",
     "text": [
      "\n",
      "After BCs are applied without bdy term: \n",
      "\n"
     ]
    },
    {
     "data": {
      "text/latex": [
       "$\\displaystyle \\left( \\left[\\begin{matrix}1.0 & 0.0 & 0.0 & 0.0 & 0.0 & 0.0\\\\-5.0 & 10.0 & -5.0 & 0.0 & 0.0 & 0.0\\\\0.0 & -5.0 & 10.0 & -5.0 & 0.0 & 0.0\\\\0.0 & 0.0 & -5.0 & 10.0 & -5.0 & 0.0\\\\0.0 & 0.0 & 0.0 & -5.0 & 10.0 & -5.0\\\\0.0 & 0.0 & 0.0 & 0.0 & 0.0 & 1.0\\end{matrix}\\right], \\  \\left[\\begin{matrix}2.0\\\\0.0\\\\0.0\\\\0.0\\\\0.0\\\\0.0\\end{matrix}\\right]\\right)$"
      ],
      "text/plain": [
       "⎛⎡1.0   0.0   0.0   0.0   0.0   0.0 ⎤  ⎡2.0⎤⎞\n",
       "⎜⎢                                  ⎥  ⎢   ⎥⎟\n",
       "⎜⎢-5.0  10.0  -5.0  0.0   0.0   0.0 ⎥  ⎢0.0⎥⎟\n",
       "⎜⎢                                  ⎥  ⎢   ⎥⎟\n",
       "⎜⎢0.0   -5.0  10.0  -5.0  0.0   0.0 ⎥  ⎢0.0⎥⎟\n",
       "⎜⎢                                  ⎥, ⎢   ⎥⎟\n",
       "⎜⎢0.0   0.0   -5.0  10.0  -5.0  0.0 ⎥  ⎢0.0⎥⎟\n",
       "⎜⎢                                  ⎥  ⎢   ⎥⎟\n",
       "⎜⎢0.0   0.0   0.0   -5.0  10.0  -5.0⎥  ⎢0.0⎥⎟\n",
       "⎜⎢                                  ⎥  ⎢   ⎥⎟\n",
       "⎝⎣0.0   0.0   0.0   0.0   0.0   1.0 ⎦  ⎣0.0⎦⎠"
      ]
     },
     "execution_count": 233,
     "metadata": {},
     "output_type": "execute_result"
    }
   ],
   "source": [
    "bc_l.apply(A)\n",
    "bc_r.apply(A)\n",
    "bc_l.apply(b)\n",
    "bc_r.apply(b)\n",
    "\n",
    "print(\"\\nAfter BCs are applied without bdy term: \\n\")\n",
    "\n",
    "(Matrix(A.array()), Matrix(b.get_local()))"
   ]
  },
  {
   "cell_type": "markdown",
   "metadata": {
    "nbpresent": {
     "id": "ade51df7-3950-44f9-968e-f3a86a2790fe"
    }
   },
   "source": [
    "This tells you how `DirichletBC`s are applied in FEniCS, and why adding the boundary terms wouldn't matter. When you give FEniCS a boundary condition, it replaces the equation it got from putting $V=\\phi_i$ for the right $i$ by one reading $u_i = $ the value $U$ is supposed to have there, meaning a row of $A$ is replaced by one with a single 1 and the rest 0, and the correponding part of $b$ set to the right value.\n",
    "\n",
    "Note that you are only allowed to ignore the boundary terms when you have a boundary condition of the form $U = $ constant at every part of the boundary. Such boundary conditions are called *Dirichlet* boundary conditions. Sometimes you might have conditions involving the derivative of $U$ instead. Those are called *Neumann* or *Robin* boundary conditions, and generally mean you have to add a term to `rhs`. \n",
    "\n",
    "If you had wanted to add boundary terms, this could be done as follows:"
   ]
  },
  {
   "cell_type": "code",
   "execution_count": 236,
   "metadata": {
    "nbpresent": {
     "id": "aaa29fc4-0dbd-427a-b4c2-afd12d45bf4f"
    }
   },
   "outputs": [
    {
     "name": "stdout",
     "output_type": "stream",
     "text": [
      "Calling FFC just-in-time (JIT) compiler, this may take some time.\n",
      "\n",
      "Before BCs are applied with bdy term: \n",
      "\n"
     ]
    },
    {
     "data": {
      "text/latex": [
       "$\\displaystyle \\left( \\left[\\begin{matrix}10.0 & -10.0 & 0.0 & 0.0 & 0.0 & 0.0\\\\-5.0 & 10.0 & -5.0 & 0.0 & 0.0 & 0.0\\\\0.0 & -5.0 & 10.0 & -5.0 & 0.0 & 0.0\\\\0.0 & 0.0 & -5.0 & 10.0 & -5.0 & 0.0\\\\0.0 & 0.0 & 0.0 & -5.0 & 10.0 & -5.0\\\\0.0 & 0.0 & 0.0 & 0.0 & 0.0 & 0.0\\end{matrix}\\right], \\  \\left[\\begin{matrix}0.0\\\\0.0\\\\0.0\\\\0.0\\\\0.0\\\\0.0\\end{matrix}\\right]\\right)$"
      ],
      "text/plain": [
       "⎛⎡10.0  -10.0  0.0   0.0   0.0   0.0 ⎤  ⎡0.0⎤⎞\n",
       "⎜⎢                                   ⎥  ⎢   ⎥⎟\n",
       "⎜⎢-5.0  10.0   -5.0  0.0   0.0   0.0 ⎥  ⎢0.0⎥⎟\n",
       "⎜⎢                                   ⎥  ⎢   ⎥⎟\n",
       "⎜⎢0.0   -5.0   10.0  -5.0  0.0   0.0 ⎥  ⎢0.0⎥⎟\n",
       "⎜⎢                                   ⎥, ⎢   ⎥⎟\n",
       "⎜⎢0.0    0.0   -5.0  10.0  -5.0  0.0 ⎥  ⎢0.0⎥⎟\n",
       "⎜⎢                                   ⎥  ⎢   ⎥⎟\n",
       "⎜⎢0.0    0.0   0.0   -5.0  10.0  -5.0⎥  ⎢0.0⎥⎟\n",
       "⎜⎢                                   ⎥  ⎢   ⎥⎟\n",
       "⎝⎣0.0    0.0   0.0   0.0   0.0   0.0 ⎦  ⎣0.0⎦⎠"
      ]
     },
     "execution_count": 236,
     "metadata": {},
     "output_type": "execute_result"
    }
   ],
   "source": [
    "a = kappa * dot( grad(U), grad(V) ) * dx + U.dx(0) * V * ds  # ds means integrate over boundary\n",
    "A = assemble(a)\n",
    "b = assemble(L)\n",
    "\n",
    "print(\"\\nBefore BCs are applied with bdy term: \\n\",)\n",
    "(Matrix(A.array()), Matrix(b.get_local()))"
   ]
  },
  {
   "cell_type": "code",
   "execution_count": 237,
   "metadata": {},
   "outputs": [
    {
     "name": "stdout",
     "output_type": "stream",
     "text": [
      "\n",
      "After BCs are applied with bdy term: \n",
      "\n"
     ]
    },
    {
     "data": {
      "text/latex": [
       "$\\displaystyle \\left( \\left[\\begin{matrix}1.0 & 0.0 & 0.0 & 0.0 & 0.0 & 0.0\\\\-5.0 & 10.0 & -5.0 & 0.0 & 0.0 & 0.0\\\\0.0 & -5.0 & 10.0 & -5.0 & 0.0 & 0.0\\\\0.0 & 0.0 & -5.0 & 10.0 & -5.0 & 0.0\\\\0.0 & 0.0 & 0.0 & -5.0 & 10.0 & -5.0\\\\0.0 & 0.0 & 0.0 & 0.0 & 0.0 & 1.0\\end{matrix}\\right], \\  \\left[\\begin{matrix}2.0\\\\0.0\\\\0.0\\\\0.0\\\\0.0\\\\0.0\\end{matrix}\\right]\\right)$"
      ],
      "text/plain": [
       "⎛⎡1.0   0.0   0.0   0.0   0.0   0.0 ⎤  ⎡2.0⎤⎞\n",
       "⎜⎢                                  ⎥  ⎢   ⎥⎟\n",
       "⎜⎢-5.0  10.0  -5.0  0.0   0.0   0.0 ⎥  ⎢0.0⎥⎟\n",
       "⎜⎢                                  ⎥  ⎢   ⎥⎟\n",
       "⎜⎢0.0   -5.0  10.0  -5.0  0.0   0.0 ⎥  ⎢0.0⎥⎟\n",
       "⎜⎢                                  ⎥, ⎢   ⎥⎟\n",
       "⎜⎢0.0   0.0   -5.0  10.0  -5.0  0.0 ⎥  ⎢0.0⎥⎟\n",
       "⎜⎢                                  ⎥  ⎢   ⎥⎟\n",
       "⎜⎢0.0   0.0   0.0   -5.0  10.0  -5.0⎥  ⎢0.0⎥⎟\n",
       "⎜⎢                                  ⎥  ⎢   ⎥⎟\n",
       "⎝⎣0.0   0.0   0.0   0.0   0.0   1.0 ⎦  ⎣0.0⎦⎠"
      ]
     },
     "execution_count": 237,
     "metadata": {},
     "output_type": "execute_result"
    }
   ],
   "source": [
    "bc_l.apply(A)\n",
    "bc_r.apply(A)\n",
    "bc_l.apply(b)\n",
    "bc_r.apply(b)\n",
    "\n",
    "print(\"\\nAfter BCs are applied with bdy term: \\n\")\n",
    "(Matrix(A.array()), Matrix(b.get_local()))"
   ]
  },
  {
   "cell_type": "markdown",
   "metadata": {
    "nbpresent": {
     "id": "a92927b5-1763-47fa-8a17-f583c0ed81a2"
    }
   },
   "source": [
    "Notice that although the matrix `A` becomes different when you add the boundary term, the only difference is in the first and last row, which corresponds to nodes where we have boundary conditions. This is why you can ignore the boundary term where you have a Dirichlet boundary condition."
   ]
  }
 ],
 "metadata": {
  "anaconda-cloud": {},
  "kernelspec": {
   "display_name": "Python 3 (ipykernel)",
   "language": "python",
   "name": "python3"
  },
  "language_info": {
   "codemirror_mode": {
    "name": "ipython",
    "version": 3
   },
   "file_extension": ".py",
   "mimetype": "text/x-python",
   "name": "python",
   "nbconvert_exporter": "python",
   "pygments_lexer": "ipython3",
   "version": "3.8.10"
  },
  "nbpresent": {
   "slides": {
    "015be1d4-345c-491f-bb2b-4c34965c338b": {
     "id": "015be1d4-345c-491f-bb2b-4c34965c338b",
     "prev": "0612798d-d429-44d7-bf81-9ebaed4ef0aa",
     "regions": {
      "a132e000-c1d9-4993-aea1-e5154c3e44e0": {
       "attrs": {
        "height": 0.8,
        "width": 0.8,
        "x": 0.1,
        "y": 0.1
       },
       "content": {
        "cell": "6909eccb-1e85-48ac-9e6f-ca3d34d72fdd",
        "part": "whole"
       },
       "id": "a132e000-c1d9-4993-aea1-e5154c3e44e0"
      }
     }
    },
    "0612798d-d429-44d7-bf81-9ebaed4ef0aa": {
     "id": "0612798d-d429-44d7-bf81-9ebaed4ef0aa",
     "prev": "c0d58ee9-96b9-4be9-aae4-d21100006d0c",
     "regions": {
      "4c57efe8-c451-41ec-b465-26a0b4d1f4a0": {
       "attrs": {
        "height": 0.8,
        "width": 0.8,
        "x": 0.1,
        "y": 0.1
       },
       "content": {
        "cell": "525e1959-16e7-43a7-b7dd-fbb31a4f9b88",
        "part": "whole"
       },
       "id": "4c57efe8-c451-41ec-b465-26a0b4d1f4a0"
      }
     }
    },
    "0dd1cfed-a258-4d95-a2d0-263a209b37da": {
     "id": "0dd1cfed-a258-4d95-a2d0-263a209b37da",
     "prev": "aeac32bf-a3bf-4d71-a94d-cffe32ef0426",
     "regions": {
      "67a39f7a-9ef9-4af7-8221-7b0d7311403f": {
       "attrs": {
        "height": 0.8,
        "width": 0.8,
        "x": 0.1,
        "y": 0.1
       },
       "content": {
        "cell": "c47aea98-5293-4162-a78b-ba93b9703193",
        "part": "whole"
       },
       "id": "67a39f7a-9ef9-4af7-8221-7b0d7311403f"
      }
     }
    },
    "2d71862c-f9dd-4c4a-bd0b-e4e275f5434a": {
     "id": "2d71862c-f9dd-4c4a-bd0b-e4e275f5434a",
     "prev": "51b14400-72d3-482c-a8f6-0f6023c77c9e",
     "regions": {
      "62785e64-b898-4461-9e29-e745b993f067": {
       "attrs": {
        "height": 0.8,
        "width": 0.8,
        "x": 0.1,
        "y": 0.1
       },
       "content": {
        "cell": "507d3841-526f-4f19-a278-cba6a229776c",
        "part": "whole"
       },
       "id": "62785e64-b898-4461-9e29-e745b993f067"
      }
     }
    },
    "3bbfe7ce-8c2b-441e-9a60-ebeeb5694abc": {
     "id": "3bbfe7ce-8c2b-441e-9a60-ebeeb5694abc",
     "prev": "3c1b7ef7-a0f0-41f0-9dc4-22f4aaccac0d",
     "regions": {
      "5540aa5a-15bc-4da3-b523-b38574bae8f7": {
       "attrs": {
        "height": 0.8,
        "width": 0.8,
        "x": 0.1,
        "y": 0.1
       },
       "content": {
        "cell": "a7ae36ff-93c9-458d-8e59-1eec315555a9",
        "part": "whole"
       },
       "id": "5540aa5a-15bc-4da3-b523-b38574bae8f7"
      }
     }
    },
    "3c1b7ef7-a0f0-41f0-9dc4-22f4aaccac0d": {
     "id": "3c1b7ef7-a0f0-41f0-9dc4-22f4aaccac0d",
     "prev": "51368fc3-9441-4f2a-94d2-e037f1724dd9",
     "regions": {
      "f35572c9-0992-4946-9bde-df5e22c042af": {
       "attrs": {
        "height": 0.8,
        "width": 0.8,
        "x": 0.1,
        "y": 0.1
       },
       "content": {
        "cell": "4b2c5c7c-5177-47bc-bd42-cffb1f5e1ce9",
        "part": "whole"
       },
       "id": "f35572c9-0992-4946-9bde-df5e22c042af"
      }
     }
    },
    "4d987153-be5c-4cfe-b405-408935e30152": {
     "id": "4d987153-be5c-4cfe-b405-408935e30152",
     "prev": "8468d0fc-a54f-4aff-90b8-d7610cada1dc",
     "regions": {
      "2a2d149e-4e1e-4d40-99ac-b63f27dcdbbc": {
       "attrs": {
        "height": 0.8,
        "width": 0.8,
        "x": 0.1,
        "y": 0.1
       },
       "content": {
        "cell": "76b65351-272c-4695-83fd-20239382d52e",
        "part": "whole"
       },
       "id": "2a2d149e-4e1e-4d40-99ac-b63f27dcdbbc"
      }
     }
    },
    "51368fc3-9441-4f2a-94d2-e037f1724dd9": {
     "id": "51368fc3-9441-4f2a-94d2-e037f1724dd9",
     "prev": "f6047bc7-7136-433d-8ee4-dff9fcec1a59",
     "regions": {
      "ace0022d-51c1-4135-ae26-2676abe3fde2": {
       "attrs": {
        "height": 0.8,
        "width": 0.8,
        "x": 0.1,
        "y": 0.1
       },
       "content": {
        "cell": "03d50ffa-76f3-47e8-bd94-769c5935995e",
        "part": "whole"
       },
       "id": "ace0022d-51c1-4135-ae26-2676abe3fde2"
      }
     }
    },
    "51b14400-72d3-482c-a8f6-0f6023c77c9e": {
     "id": "51b14400-72d3-482c-a8f6-0f6023c77c9e",
     "prev": "631b1446-6db4-4503-b82a-8ddc8b9e984e",
     "regions": {
      "6907e74b-3542-424a-97fd-74da715edf57": {
       "attrs": {
        "height": 0.8,
        "width": 0.8,
        "x": 0.1,
        "y": 0.1
       },
       "content": {
        "cell": "7e945a63-4d82-433e-922f-d80c765365c8",
        "part": "whole"
       },
       "id": "6907e74b-3542-424a-97fd-74da715edf57"
      }
     }
    },
    "5780af65-6bff-417e-bb66-cfbf181b1343": {
     "id": "5780af65-6bff-417e-bb66-cfbf181b1343",
     "prev": "0dd1cfed-a258-4d95-a2d0-263a209b37da",
     "regions": {
      "8b1213ae-e7ed-4495-b751-9ffd7bfc1542": {
       "attrs": {
        "height": 0.8,
        "width": 0.8,
        "x": 0.1,
        "y": 0.1
       },
       "content": {
        "cell": "d8c9d411-e1ca-4a61-8e1c-5963a313a676",
        "part": "whole"
       },
       "id": "8b1213ae-e7ed-4495-b751-9ffd7bfc1542"
      }
     }
    },
    "5ac86542-75b5-499e-9541-14cf688e2d71": {
     "id": "5ac86542-75b5-499e-9541-14cf688e2d71",
     "prev": "a0887fda-03ad-4342-8ebc-f6ab2fe8a3db",
     "regions": {
      "bb047dfb-fed6-4d9e-b107-bf89940394a9": {
       "attrs": {
        "height": 0.8,
        "width": 0.8,
        "x": 0.1,
        "y": 0.1
       },
       "content": {
        "cell": "aaa29fc4-0dbd-427a-b4c2-afd12d45bf4f",
        "part": "whole"
       },
       "id": "bb047dfb-fed6-4d9e-b107-bf89940394a9"
      }
     }
    },
    "631b1446-6db4-4503-b82a-8ddc8b9e984e": {
     "id": "631b1446-6db4-4503-b82a-8ddc8b9e984e",
     "prev": "7fd80a9d-3b34-4864-884d-17718f11392b",
     "regions": {
      "73e6921a-f141-4015-81da-7063438fb9a8": {
       "attrs": {
        "height": 0.8,
        "width": 0.8,
        "x": 0.1,
        "y": 0.1
       },
       "content": {
        "cell": "14efd9ae-0d67-40a3-96a2-19f7d3faa2ca",
        "part": "whole"
       },
       "id": "73e6921a-f141-4015-81da-7063438fb9a8"
      }
     }
    },
    "692379ba-7df3-4b64-8c9c-7c041542cdb1": {
     "id": "692379ba-7df3-4b64-8c9c-7c041542cdb1",
     "prev": "965de8de-3ed5-4123-aba0-c460d3dc80fc",
     "regions": {
      "1c01cfa7-3624-4e32-b2d4-14454f6b385c": {
       "attrs": {
        "height": 0.8,
        "width": 0.8,
        "x": 0.1,
        "y": 0.1
       },
       "content": {
        "cell": "0b23da00-852c-4e47-a728-bd38f4f6d621",
        "part": "whole"
       },
       "id": "1c01cfa7-3624-4e32-b2d4-14454f6b385c"
      }
     }
    },
    "69452f62-d84c-4bff-8b7c-20ef9af4bd4e": {
     "id": "69452f62-d84c-4bff-8b7c-20ef9af4bd4e",
     "prev": "69c6f80c-efe3-4ddd-9f46-5c50b86f2919",
     "regions": {
      "26b2cd72-e811-4446-a79c-0a6890232ef1": {
       "attrs": {
        "height": 0.8,
        "width": 0.8,
        "x": 0.1,
        "y": 0.1
       },
       "content": {
        "cell": "5d39105d-60e3-402e-aa36-3e7731c888ce",
        "part": "whole"
       },
       "id": "26b2cd72-e811-4446-a79c-0a6890232ef1"
      }
     }
    },
    "69c6f80c-efe3-4ddd-9f46-5c50b86f2919": {
     "id": "69c6f80c-efe3-4ddd-9f46-5c50b86f2919",
     "prev": "cad8f27e-6d2e-4914-80c4-1a026ebdabc9",
     "regions": {
      "87027f3b-915a-4420-b1e9-d7d52ece1c55": {
       "attrs": {
        "height": 0.8,
        "width": 0.8,
        "x": 0.1,
        "y": 0.1
       },
       "content": {
        "cell": "a795ea4d-8c55-405b-8311-a86d620823d9",
        "part": "whole"
       },
       "id": "87027f3b-915a-4420-b1e9-d7d52ece1c55"
      }
     }
    },
    "7fd80a9d-3b34-4864-884d-17718f11392b": {
     "id": "7fd80a9d-3b34-4864-884d-17718f11392b",
     "prev": "b1acce1d-10bf-4b70-b0f8-601689f3702e",
     "regions": {
      "b279d35d-d662-48e3-b47d-1f0658570cec": {
       "attrs": {
        "height": 0.8,
        "width": 0.8,
        "x": 0.1,
        "y": 0.1
       },
       "content": {
        "cell": "115ede87-de1d-4c92-ab2d-41c31105be7a",
        "part": "whole"
       },
       "id": "b279d35d-d662-48e3-b47d-1f0658570cec"
      }
     }
    },
    "8468d0fc-a54f-4aff-90b8-d7610cada1dc": {
     "id": "8468d0fc-a54f-4aff-90b8-d7610cada1dc",
     "prev": "8e8c0fe7-fd01-4852-b190-3cf0be3344bd",
     "regions": {
      "e73df986-0355-4907-9dbb-cb47d63e78e9": {
       "attrs": {
        "height": 0.8,
        "width": 0.8,
        "x": 0.1,
        "y": 0.1
       },
       "content": {
        "cell": "e530e809-00cd-44f0-822c-46ce2b39326e",
        "part": "whole"
       },
       "id": "e73df986-0355-4907-9dbb-cb47d63e78e9"
      }
     }
    },
    "8e8c0fe7-fd01-4852-b190-3cf0be3344bd": {
     "id": "8e8c0fe7-fd01-4852-b190-3cf0be3344bd",
     "prev": "c5d436fa-ef6d-437d-895c-07b2445c3d11",
     "regions": {
      "d81cac13-e5ae-43d8-84be-a8db37685384": {
       "attrs": {
        "height": 0.8,
        "width": 0.8,
        "x": 0.1,
        "y": 0.1
       },
       "content": {
        "cell": "00ecb36c-6239-42a6-bd2e-7bc542688969",
        "part": "whole"
       },
       "id": "d81cac13-e5ae-43d8-84be-a8db37685384"
      }
     }
    },
    "91070645-e6f2-4d3c-a280-e110542bc238": {
     "id": "91070645-e6f2-4d3c-a280-e110542bc238",
     "prev": "015be1d4-345c-491f-bb2b-4c34965c338b",
     "regions": {
      "303292d9-559c-4860-a2da-08faf7c00063": {
       "attrs": {
        "height": 0.8,
        "width": 0.8,
        "x": 0.1,
        "y": 0.1
       },
       "content": {
        "cell": "4b2c5c7c-5177-47bc-bd42-cffb1f5e1ce9",
        "part": "whole"
       },
       "id": "303292d9-559c-4860-a2da-08faf7c00063"
      }
     }
    },
    "965de8de-3ed5-4123-aba0-c460d3dc80fc": {
     "id": "965de8de-3ed5-4123-aba0-c460d3dc80fc",
     "prev": "d000e53f-3ee7-4ffe-8d6a-104448801d0b",
     "regions": {
      "8084712f-639a-4704-a749-0ddf9b9ddd1d": {
       "attrs": {
        "height": 0.8,
        "width": 0.8,
        "x": 0.1,
        "y": 0.1
       },
       "content": {
        "cell": "a9a4a85d-7ec8-4293-a9c5-a9696d9d5493",
        "part": "whole"
       },
       "id": "8084712f-639a-4704-a749-0ddf9b9ddd1d"
      }
     }
    },
    "a0887fda-03ad-4342-8ebc-f6ab2fe8a3db": {
     "id": "a0887fda-03ad-4342-8ebc-f6ab2fe8a3db",
     "prev": "e7dd2602-b08f-4d1e-8caa-f44fa7abcbf3",
     "regions": {
      "e029c729-0166-4af5-a264-e4a4e1b48d48": {
       "attrs": {
        "height": 0.8,
        "width": 0.8,
        "x": 0.1,
        "y": 0.1
       },
       "content": {
        "cell": "ade51df7-3950-44f9-968e-f3a86a2790fe",
        "part": "whole"
       },
       "id": "e029c729-0166-4af5-a264-e4a4e1b48d48"
      }
     }
    },
    "a7848d2f-f443-489b-acbf-a884c4ea7c27": {
     "id": "a7848d2f-f443-489b-acbf-a884c4ea7c27",
     "prev": "b1881cf0-1903-480c-b237-c71791dee55e",
     "regions": {
      "62c1de7c-ff07-485f-997e-c97dbfdae289": {
       "attrs": {
        "height": 0.8,
        "width": 0.8,
        "x": 0.1,
        "y": 0.1
       },
       "content": {
        "cell": "c93cae89-b52a-40fc-a07c-bc0ca38f52f3",
        "part": "whole"
       },
       "id": "62c1de7c-ff07-485f-997e-c97dbfdae289"
      }
     }
    },
    "aeac32bf-a3bf-4d71-a94d-cffe32ef0426": {
     "id": "aeac32bf-a3bf-4d71-a94d-cffe32ef0426",
     "prev": "2d71862c-f9dd-4c4a-bd0b-e4e275f5434a",
     "regions": {
      "1c657827-2c20-4303-b20d-12d9c2638403": {
       "attrs": {
        "height": 0.8,
        "width": 0.8,
        "x": 0.1,
        "y": 0.1
       },
       "content": {
        "cell": "db3cf079-b7b8-4aa2-b047-b0d32bd213a5",
        "part": "whole"
       },
       "id": "1c657827-2c20-4303-b20d-12d9c2638403"
      }
     }
    },
    "b1881cf0-1903-480c-b237-c71791dee55e": {
     "id": "b1881cf0-1903-480c-b237-c71791dee55e",
     "prev": "5780af65-6bff-417e-bb66-cfbf181b1343",
     "regions": {
      "66fc094c-1c1c-4543-a593-1dad92af260f": {
       "attrs": {
        "height": 0.8,
        "width": 0.8,
        "x": 0.1,
        "y": 0.1
       },
       "content": {
        "cell": "7c08bc40-6360-4e2a-8c86-9a90e0858f5d",
        "part": "whole"
       },
       "id": "66fc094c-1c1c-4543-a593-1dad92af260f"
      }
     }
    },
    "b1acce1d-10bf-4b70-b0f8-601689f3702e": {
     "id": "b1acce1d-10bf-4b70-b0f8-601689f3702e",
     "prev": "b53f710e-e009-43cb-8e00-6de44c3a2de6",
     "regions": {
      "27855246-a108-4fed-8308-840002851a1f": {
       "attrs": {
        "height": 0.8,
        "width": 0.8,
        "x": 0.1,
        "y": 0.1
       },
       "content": {
        "cell": "115ede87-de1d-4c92-ab2d-41c31105be7a",
        "part": "whole"
       },
       "id": "27855246-a108-4fed-8308-840002851a1f"
      }
     }
    },
    "b27c6917-92f9-40df-b0ac-1939b68801a2": {
     "id": "b27c6917-92f9-40df-b0ac-1939b68801a2",
     "prev": "3bbfe7ce-8c2b-441e-9a60-ebeeb5694abc",
     "regions": {
      "b7637872-5055-4827-aad4-a55aac12f678": {
       "attrs": {
        "height": 0.8,
        "width": 0.8,
        "x": 0.1,
        "y": 0.1
       },
       "content": {
        "cell": "eac7738a-a3ab-469f-8197-f967b40d5565",
        "part": "whole"
       },
       "id": "b7637872-5055-4827-aad4-a55aac12f678"
      }
     }
    },
    "b53f710e-e009-43cb-8e00-6de44c3a2de6": {
     "id": "b53f710e-e009-43cb-8e00-6de44c3a2de6",
     "prev": "91070645-e6f2-4d3c-a280-e110542bc238",
     "regions": {
      "7bed9c55-5a85-459d-86c7-a563f3cc4166": {
       "attrs": {
        "height": 0.8,
        "width": 0.8,
        "x": 0.1,
        "y": 0.1
       },
       "content": {
        "cell": "18473218-880b-491c-990b-0172b148936e",
        "part": "whole"
       },
       "id": "7bed9c55-5a85-459d-86c7-a563f3cc4166"
      }
     }
    },
    "b6f1f441-7aaa-4bec-bdb6-baea98df40b6": {
     "id": "b6f1f441-7aaa-4bec-bdb6-baea98df40b6",
     "prev": "c6314b51-271b-44e5-b4c2-879e0ee519e8",
     "regions": {
      "07d7d5e7-6bfa-4ce0-bdab-c10b62d43ad9": {
       "attrs": {
        "height": 0.8,
        "width": 0.8,
        "x": 0.1,
        "y": 0.1
       },
       "content": {
        "cell": "f6302901-2199-4c4e-95a3-a5dc07f9012b",
        "part": "whole"
       },
       "id": "07d7d5e7-6bfa-4ce0-bdab-c10b62d43ad9"
      }
     }
    },
    "c0d58ee9-96b9-4be9-aae4-d21100006d0c": {
     "id": "c0d58ee9-96b9-4be9-aae4-d21100006d0c",
     "prev": "5ac86542-75b5-499e-9541-14cf688e2d71",
     "regions": {
      "b68d31f8-cf2d-469c-9085-5dee65660c48": {
       "attrs": {
        "height": 0.8,
        "width": 0.8,
        "x": 0.1,
        "y": 0.1
       },
       "content": {
        "cell": "a92927b5-1763-47fa-8a17-f583c0ed81a2",
        "part": "whole"
       },
       "id": "b68d31f8-cf2d-469c-9085-5dee65660c48"
      }
     }
    },
    "c5d436fa-ef6d-437d-895c-07b2445c3d11": {
     "id": "c5d436fa-ef6d-437d-895c-07b2445c3d11",
     "prev": "d84ce6ed-7030-43dd-b95d-6a6b9d132984",
     "regions": {
      "a0718fe7-ea60-4150-88ad-2edf9e88e9ad": {
       "attrs": {
        "height": 0.8,
        "width": 0.8,
        "x": 0.1,
        "y": 0.1
       },
       "content": {
        "cell": "23630225-b858-48df-a0db-82e22c525965",
        "part": "whole"
       },
       "id": "a0718fe7-ea60-4150-88ad-2edf9e88e9ad"
      }
     }
    },
    "c6314b51-271b-44e5-b4c2-879e0ee519e8": {
     "id": "c6314b51-271b-44e5-b4c2-879e0ee519e8",
     "prev": "692379ba-7df3-4b64-8c9c-7c041542cdb1",
     "regions": {
      "e1fe1b25-ef8a-4c64-b3c9-982cd1524371": {
       "attrs": {
        "height": 0.8,
        "width": 0.8,
        "x": 0.1,
        "y": 0.1
       },
       "content": {
        "cell": "5e623875-16fe-44bd-af26-ff224b2abeb2",
        "part": "whole"
       },
       "id": "e1fe1b25-ef8a-4c64-b3c9-982cd1524371"
      }
     }
    },
    "cad8f27e-6d2e-4914-80c4-1a026ebdabc9": {
     "id": "cad8f27e-6d2e-4914-80c4-1a026ebdabc9",
     "prev": "a7848d2f-f443-489b-acbf-a884c4ea7c27",
     "regions": {
      "2b17ff41-b95f-4853-b516-c29f84556ad9": {
       "attrs": {
        "height": 0.8,
        "width": 0.8,
        "x": 0.1,
        "y": 0.1
       },
       "content": {
        "cell": "dd89c98f-1a20-4c75-95ff-19ce13a595ce",
        "part": "whole"
       },
       "id": "2b17ff41-b95f-4853-b516-c29f84556ad9"
      }
     }
    },
    "cbc58176-359f-426c-b145-7a4a4086d23f": {
     "id": "cbc58176-359f-426c-b145-7a4a4086d23f",
     "prev": "b27c6917-92f9-40df-b0ac-1939b68801a2",
     "regions": {
      "1d31b22a-f6f4-45bf-ad1a-156d4dbcc4a3": {
       "attrs": {
        "height": 0.8,
        "width": 0.8,
        "x": 0.1,
        "y": 0.1
       },
       "content": {
        "cell": "08a002cf-05da-4000-a448-a4a083765734",
        "part": "whole"
       },
       "id": "1d31b22a-f6f4-45bf-ad1a-156d4dbcc4a3"
      }
     }
    },
    "d000e53f-3ee7-4ffe-8d6a-104448801d0b": {
     "id": "d000e53f-3ee7-4ffe-8d6a-104448801d0b",
     "prev": "cbc58176-359f-426c-b145-7a4a4086d23f",
     "regions": {
      "94ef3eaa-629b-463c-b54a-ecdafcd3e957": {
       "attrs": {
        "height": 0.8,
        "width": 0.8,
        "x": 0.1,
        "y": 0.1
       },
       "content": {
        "cell": "cbcedc83-b4d2-4bcf-ab13-9dcecba3e9cd",
        "part": "whole"
       },
       "id": "94ef3eaa-629b-463c-b54a-ecdafcd3e957"
      }
     }
    },
    "d84ce6ed-7030-43dd-b95d-6a6b9d132984": {
     "id": "d84ce6ed-7030-43dd-b95d-6a6b9d132984",
     "prev": "b6f1f441-7aaa-4bec-bdb6-baea98df40b6",
     "regions": {
      "714a3a95-b157-49d9-b0c9-79dcb755d999": {
       "attrs": {
        "height": 0.8,
        "width": 0.8,
        "x": 0.1,
        "y": 0.1
       },
       "content": {
        "cell": "b06dbc96-7fab-468e-b0a8-3864d7180021",
        "part": "whole"
       },
       "id": "714a3a95-b157-49d9-b0c9-79dcb755d999"
      }
     }
    },
    "e7dd2602-b08f-4d1e-8caa-f44fa7abcbf3": {
     "id": "e7dd2602-b08f-4d1e-8caa-f44fa7abcbf3",
     "prev": "4d987153-be5c-4cfe-b405-408935e30152",
     "regions": {
      "fff9d134-325a-4848-9a9d-ff9fd05d0ae2": {
       "attrs": {
        "height": 0.8,
        "width": 0.8,
        "x": 0.1,
        "y": 0.1
       },
       "content": {
        "cell": "32bb5f6f-0b0a-4c04-8dd9-95b3b7c72b49",
        "part": "whole"
       },
       "id": "fff9d134-325a-4848-9a9d-ff9fd05d0ae2"
      }
     }
    },
    "f6047bc7-7136-433d-8ee4-dff9fcec1a59": {
     "id": "f6047bc7-7136-433d-8ee4-dff9fcec1a59",
     "prev": "fd8481e7-421f-44cd-b4a9-41ef85938ff6",
     "regions": {
      "5e80dc2e-915a-4d37-b1ae-7a331cb88661": {
       "attrs": {
        "height": 0.8,
        "width": 0.8,
        "x": 0.1,
        "y": 0.1
       },
       "content": {
        "cell": "d430ea9f-8d6f-4e20-8ad6-99cf179a6cf4",
        "part": "whole"
       },
       "id": "5e80dc2e-915a-4d37-b1ae-7a331cb88661"
      }
     }
    },
    "fd8481e7-421f-44cd-b4a9-41ef85938ff6": {
     "id": "fd8481e7-421f-44cd-b4a9-41ef85938ff6",
     "prev": null,
     "regions": {
      "d7e71fc4-416d-4892-8181-87c2158dae36": {
       "attrs": {
        "height": 0.8,
        "width": 0.8,
        "x": 0.1,
        "y": 0.1
       },
       "content": {
        "cell": "69bf8e21-dff0-406d-8008-694b715c897f",
        "part": "whole"
       },
       "id": "d7e71fc4-416d-4892-8181-87c2158dae36"
      }
     }
    }
   },
   "themes": {}
  }
 },
 "nbformat": 4,
 "nbformat_minor": 2
}
