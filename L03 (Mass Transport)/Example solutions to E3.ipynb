{
 "cells": [
  {
   "cell_type": "markdown",
   "metadata": {},
   "source": [
    "# Example Solutions for E3\n",
    "\n",
    "This notebook contains example solutions to <a href=\"E3 - Exercises on the Cell Membrane.ipynb\">E3 - Exercises on the Cell Membrane</a>. \n",
    "\n",
    "Quicklinks\n",
    "* [Exercise 1: A simple voltage clamp model](#1)\n",
    "* [Exercise 2: Calculating Nernst Potentials](#2)\n",
    "* [Exercise 3: The Equilibrium Membrane Potential](#3)\n",
    "* [Exercise 4: A super simple action potential model](#4)"
   ]
  },
  {
   "cell_type": "code",
   "execution_count": 1,
   "metadata": {},
   "outputs": [],
   "source": [
    "import numpy as np\n",
    "import matplotlib.pyplot as plt\n",
    "from scipy.integrate import solve_ivp"
   ]
  },
  {
   "cell_type": "markdown",
   "metadata": {},
   "source": [
    "<a id=\"1\"></a>\n",
    "### Exercise 1: A simple voltage clamp model\n",
    "\n",
    "In this first exercise, we will explore how the cell behaves as a capacitor. We now look at the cell as only the impermeable membrane, with no ion channels. We then look at an experimental setup where we insert a small pipette through the membrane, into the cell. With this probe we can measure the membrane potential using a voltmeter.\n",
    "\n",
    "We will now look at how this pipette can be used to implement a *voltage clamp*. A voltage clamp is a useful experimental setup used to control the membrane potential. If our voltmeter measures a membrane potential different to our desired target potential, a bit of applied current is injected through the pipette, changing the membrane potential as a result.\n",
    "\n",
    "We can think of the situation as this electric circuit:\n",
    "\n",
    "<img src=\"fig/voltage_clamp_circuit.png\" width=250>\n",
    "\n",
    "#### The differential equations\n",
    "\n",
    "We know that the electric potential over the two components must be the same, and this is the membrane potential $V$. We want to find this potential as a function of time $V(t)$. Ideally, it should follow our prescribed, $V_{\\rm target}(t)$, which can be constant in time, or whatever time-dependent function we want.\n",
    "\n",
    "Our pipette acts as an Ohmic current source, with a magnitude given by\n",
    "$$I_{\\rm applied} = \\frac{V - V_{\\rm target}}{Rs}.$$\n",
    "Note that this current is larger if the membrane potential is far from its target, and dies out once the potential approaches its target value.\n",
    "\n",
    "Any current across the pipette will lead to a similar capacitive current across the membrane, which will change the charge built up across the membrane. So we have\n",
    "$$C_{\\rm m} \\frac{{\\rm d}V}{{\\rm d}t} = I_{\\rm cap} = -I_{\\rm applied}.$$\n",
    "Giving an ODE for the membrane potential\n",
    "$$\\frac{{\\rm d}V}{{\\rm d}t} = \\frac{V_{\\rm target}(t) - V}{C_{\\rm m} R_{\\rm s}}.$$\n",
    "\n",
    "If you are not too used to analyzing electrical circuits and you found this hard to follow, the most important thing is we found an ODE for how the membrane potential changes over time, which you will now solve."
   ]
  },
  {
   "cell_type": "markdown",
   "metadata": {},
   "source": [
    "<a id=\"1\"></a>\n",
    "### Exercise 1: A simple voltage clamp model\n",
    "\n",
    "We can think of the situation as this electric circuit:\n",
    "\n",
    "<img src=\"fig/voltage_clamp_circuit.png\" width=250>\n",
    "\n",
    "#### The differential equations\n",
    "\n",
    "The ODE to be solved is \n",
    "\\begin{align}\n",
    "I_{\\rm applied} = \\frac{V - V_{\\rm target}}{Rs}, \\\\[0.5cm]\n",
    "C_{\\rm m} \\frac{{\\rm d}V}{{\\rm d}t} = I_{\\rm cap} = -I_{\\rm applied}, \\\\[0.5cm]\n",
    "\\frac{{\\rm d}V}{{\\rm d}t} = \\frac{V_{\\rm target}(t) - V}{C_{\\rm m} R_{\\rm s}}.\n",
    "\\end{align}"
   ]
  },
  {
   "cell_type": "markdown",
   "metadata": {},
   "source": [
    "\n",
    "**Exercise 1a)**\n",
    "\n",
    "Let the prescribed membrane potential be the following step function\n",
    "$$V_{\\rm target}(t) = \\begin{cases}\n",
    "-40 {\\rm\\ mV} & \\mbox{if } 2 {\\rm\\ ms} < t < 6 {\\rm\\ ms}, \\\\\n",
    "-80 {\\rm\\ mV}& \\mbox{else.}\n",
    "\\end{cases}$$\n",
    "Implement this as a function `V_target(t)` and plot it in the period $t\\in[0, 10]$ ms.\n",
    "\n",
    "*Hint:* Rather than use `if`-tests, you could use boolean math: `x*(t > 2)*(t < 6)`, which lets your function take in both a scalar `t`, but also a full time array in the form of a numpy array."
   ]
  },
  {
   "cell_type": "code",
   "execution_count": 2,
   "metadata": {},
   "outputs": [
    {
     "data": {
      "image/png": "[encoded data removed]",
      "text/plain": [
       "<Figure size 432x288 with 1 Axes>"
      ]
     },
     "metadata": {
      "needs_background": "light"
     },
     "output_type": "display_data"
    }
   ],
   "source": [
    "def V_target(t):\n",
    "    return -80 + 40*(t > 2)*(t < 6)\n",
    "\n",
    "t = np.linspace(0, 10, 101)\n",
    "\n",
    "plt.plot(t, V_target(t))\n",
    "plt.xlabel('Time')\n",
    "plt.ylabel('Voltage (mV)')\n",
    "plt.show()"
   ]
  },
  {
   "cell_type": "markdown",
   "metadata": {},
   "source": [
    "**Exercise 1b)**\n",
    "\n",
    "We will let $V$ be denoted in millivolts and time in milliseconds. Let $C_{\\rm m} = 0.05$ nF and $R_{\\rm s} = 10$ M$\\Omega$. Look at the ODE and make sure the units are consistent by hand. Make any necessary changes to units. For reference, the ODE we aim to solve is \n",
    "$$\\frac{{\\rm d}V}{{\\rm d}t} = \\frac{V_{\\rm target} - V}{C_{\\rm m} R_{\\rm s}}.$$\n",
    "\n",
    "#### Example Solution\n",
    "\n",
    "We start by looking at the denominator, as we are computing $V_{\\rm target} - V$ these must be the same units, and we want to use millivolts here, mV. \n",
    "\n",
    "For the numerator we compute the product of $C_{\\rm m}$, which is in nF, and $R_{\\rm s}$, which is in M$\\Omega$, then the product $C_{\\rm m}R_{\\rm s}$ will be millisecond, ms. If you think these unit computations are tricky, you can for example use Wolfram Alpha to double check.\n",
    "\n",
    "The RHS is now mV over ms, and if we let our time also be given in milliseconds, this is consistent with our choice of measuring the membrane potential in mV."
   ]
  },
  {
   "cell_type": "markdown",
   "metadata": {},
   "source": [
    "**Exercise 1c)**\n",
    "\n",
    "Now, implement the RHS of the ODE-system and use `odeint` to solve it to find the membrane potential $V(t)$ in the period $t \\in [0, 10]$ ms. Let the parameters and units be as given in (1b) and the initial condition be $V_0 = -80$ mV.\n",
    "\n",
    "Plot your solution."
   ]
  },
  {
   "cell_type": "code",
   "execution_count": 3,
   "metadata": {},
   "outputs": [],
   "source": [
    "def rhs(t, V, Cm, Rs):\n",
    "    dV_dt = (V_target(t) - V)/(Cm*Rs)\n",
    "    return dV_dt"
   ]
  },
  {
   "cell_type": "code",
   "execution_count": 4,
   "metadata": {},
   "outputs": [],
   "source": [
    "# Define time array\n",
    "time = (0, 10)\n",
    "\n",
    "# Define parameters\n",
    "Cm = 0.05 # nF\n",
    "Rs = 10 # MOhm\n",
    "params = (Cm, Rs)\n",
    "\n",
    "# Define initial condition\n",
    "y0 = (-80,)\n",
    "\n",
    "# Call odeint\n",
    "solution = solve_ivp(rhs, time, y0, args=params, max_step=0.1)"
   ]
  },
  {
   "cell_type": "code",
   "execution_count": 5,
   "metadata": {},
   "outputs": [
    {
     "data": {
      "image/png": "[encoded data removed]",
      "text/plain": [
       "<Figure size 432x288 with 1 Axes>"
      ]
     },
     "metadata": {
      "needs_background": "light"
     },
     "output_type": "display_data"
    }
   ],
   "source": [
    "# Plot Solution\n",
    "t = solution.t\n",
    "V = solution.y[0]\n",
    "\n",
    "plt.plot(t, V)\n",
    "plt.xlabel('Time (ms)')\n",
    "plt.ylabel('Membrane potential (mV)')\n",
    "plt.show()"
   ]
  },
  {
   "cell_type": "markdown",
   "metadata": {},
   "source": [
    "**Exercise 1d)**\n",
    "\n",
    "Compare your solution of $V(t)$ to your plot of the prescribed $V_{\\rm target}(t)$. Describe the differences. \n",
    "\n",
    "To make comparison easier, it might be a nice idea to plot the two over each other in the same figure."
   ]
  },
  {
   "cell_type": "code",
   "execution_count": 6,
   "metadata": {},
   "outputs": [
    {
     "data": {
      "image/png": "[encoded data removed]",
      "text/plain": [
       "<Figure size 432x288 with 1 Axes>"
      ]
     },
     "metadata": {
      "needs_background": "light"
     },
     "output_type": "display_data"
    }
   ],
   "source": [
    "plt.plot(t, V, label='Actual potential')\n",
    "plt.plot(t, V_target(t), label='Target potential')\n",
    "plt.xlabel('Time (ms)')\n",
    "plt.ylabel('Membrane potential (mV)')\n",
    "plt.legend()\n",
    "plt.show()"
   ]
  },
  {
   "cell_type": "markdown",
   "metadata": {},
   "source": [
    "**Explanation:** We see that the membrane potential $V$ does follow the target potential, but with a substantial delay. While the target is a step change, i.e., instantaneous change, the membrane potential needs time to copy this change."
   ]
  },
  {
   "cell_type": "markdown",
   "metadata": {},
   "source": [
    "**(Optional) Exercise 1e)**\n",
    "\n",
    "We will solve the following ODE analytically\n",
    "$$\\frac{{\\rm d}V}{{\\rm d}t} = \\frac{V_{\\rm target} - V}{C_{\\rm m} R_{\\rm s}}.$$\n",
    "If we redefine $u = V_{\\rm target} - V$, we see that the ODE is separabel:\n",
    "$$-\\frac{{\\rm d}u}{{\\rm d}t} = \\frac{u}{C_{\\rm m} R_{\\rm s}}.$$\n",
    "So we flip it around to be\n",
    "$$- \\frac{1}{u} {\\rm\\ d}u = \\frac{1}{C_{\\rm m} R_{\\rm s}} {\\rm\\ d}t.$$\n",
    "Integrating gives\n",
    "$$\\ln u = -\\frac{t}{C_{\\rm m} R_{\\rm s}} + C.$$\n",
    "or\n",
    "$$u = Ae^{-t/(C_{\\rm m}\\cdot R_{\\rm s})}.$$\n",
    "Now we insert for $u$ so we get\n",
    "$$V(t) = V_{\\rm target} - Ae^{-t/(C_{\\rm m}\\cdot R_{\\rm s})}.$$\n",
    "We know that $V(0) = V_0$ so we get\n",
    "$$V(t) = V_{\\rm target} - (V_{\\rm target} - V_0)e^{-t/(C_{\\rm m}\\cdot R_{\\rm s})}.$$\n",
    "This means the function is an exponential decay towards the target value, with a time constant of $\\tau = C_{\\rm m}\\cdot R_{\\rm s}.$\n"
   ]
  },
  {
   "cell_type": "markdown",
   "metadata": {},
   "source": [
    "**Exercise 1f)**\n",
    "\n",
    "Run the interactive widget below, and see how the membrane potential response changes as you change the membrane capacitance $C_{\\rm m}$ and the series resistance $R_{\\rm s}$. (You might need to run the cell twice for it to work).\n",
    "\n",
    "If you want the membrane potential to follow the prescribed voltage as closely as possible, what restrictions does this put on $C_{\\rm m}$ and $R_{\\rm s}$?"
   ]
  },
  {
   "cell_type": "code",
   "execution_count": 7,
   "metadata": {},
   "outputs": [
    {
     "data": {
      "application/vnd.jupyter.widget-view+json": {
       "model_id": "898ed08d6c634778a4b4f132bd275890",
       "version_major": 2,
       "version_minor": 0
      },
      "text/plain": [
       "interactive(children=(FloatSlider(value=0.05, description='Cm', max=0.1, min=0.005, step=0.005), IntSlider(val…"
      ]
     },
     "metadata": {},
     "output_type": "display_data"
    }
   ],
   "source": [
    "import importlib\n",
    "from L3_widgets import VoltageClampWidget\n",
    "import L3_widgets\n",
    "importlib.reload(L3_widgets)\n",
    "\n",
    "L3_widgets.VoltageClampWidget().display()"
   ]
  },
  {
   "cell_type": "markdown",
   "metadata": {},
   "source": [
    "#### Discussion on Exercise 1\n",
    "\n",
    "As you have probably seen through playing with the widget, for the voltage to follow the prescribed voltage, we want both the membrane capacitance and the series resistance to be small. In fact, it is the product of the two that is important, as this is the characteristic time constant of the membrane response:\n",
    "$$\\tau = C_{\\rm m}\\cdot R_{\\rm s}.$$ \n",
    "If you solved (1e) you might have noticed this already. Simply put, the model says that the actual membrane potential will approach the prescribed potential as an exponential relaxation, with a relaxation time of $\\tau$. If $\\tau$ is big, we will need to wait a long time for it to reach the prescribed value.\n",
    "\n",
    "For a whole cell voltage clamp protocol, the cell membrane capacitance is typically 0.05 nF, and the series resistance is usually in the range 5-20 M$\\Omega$. This gives a noticeable delay in the membrane potential response, and capacitive currents that persist over several milliseconds. This can actually disturb the measurement of other currents, introducing noise.\n",
    "\n",
    "In another technique, the 'patch' clamp, a small patch of the membrane is torn of (1 µm$^2$). This means the capacitance, $C_{\\rm m}$ is drastically lowered ($\\sim0.01$ pF). In a patch clamp, the series resistance is usually in the G$\\Omega$ range, so the time constant becomes very small, and there are usually little noise due to the capacitive currents."
   ]
  },
  {
   "cell_type": "markdown",
   "metadata": {},
   "source": [
    "<a id=\"2\"></a>\n",
    "### Exercise 2: Calculating Nernst Potentials\n",
    "\n",
    "The following table gives typical values for mammalian cardiomyocytes, and is taken from [Katz, 2010]\n",
    "\n",
    "| Ion        | Intracellular | Extracellular  |\n",
    "| -----------|:-------------:| -----:|\n",
    "| Sodium     | 8 mM          | 110 mM |\n",
    "| Potassium  | 100 mM        | 4 mM  |\n",
    "| Calcium    | 0.2 µM        | 1 mM  |\n",
    "\n",
    "You will also need to know these physical constants\n",
    "\n",
    "| Name | Symbol  | Value | Unit |\n",
    "| -----------|:-------------:|-----:|------:|\n",
    "| Faraday's constant  | $F$ | 96485 | C/mol |\n",
    "| Gas Constant | $R$ |  8.314 | J/(mol K) |\n",
    "| Temperature | $T$ | 310|  K | \n",
    "\n"
   ]
  },
  {
   "cell_type": "markdown",
   "metadata": {},
   "source": [
    "\n",
    "\n",
    "**Exercise 2a)**\n",
    "\n",
    "Based on the tabulated values, calculate the Nernst potentials for the three ionic species.\n",
    "\n",
    "$$E_{\\rm X} = \\frac{RT}{zF}\\ln \\frac{[{\\rm X}]_{\\rm e}}{[{\\rm X}]_{\\rm i}}.$$\n",
    "\n",
    "Print out the potentials in units of millivolts."
   ]
  },
  {
   "cell_type": "code",
   "execution_count": 8,
   "metadata": {},
   "outputs": [
    {
     "name": "stdout",
     "output_type": "stream",
     "text": [
      "Equilibrium potential for Na:  70.0 mV\n",
      "Equilibrium potential for K:  -86.0 mV\n",
      "Equilibrium potential for Ca: 113.8 mV\n"
     ]
    }
   ],
   "source": [
    "F = 96485 # C/mol\n",
    "R = 8.314 # J/(mol K)\n",
    "T = 310   # K\n",
    "\n",
    "E_Na = R*T/F * np.log(110/8)\n",
    "E_K = R*T/F * np.log(4/100)\n",
    "E_Ca = R*T/(2*F) * np.log(1/0.0002)\n",
    "\n",
    "E_Na *= 1e3\n",
    "E_K *= 1e3\n",
    "E_Ca *= 1e3\n",
    "\n",
    "print(f\"Equilibrium potential for Na: {E_Na:5.1f} mV\")\n",
    "print(f\"Equilibrium potential for K:  {E_K:5.1f} mV\")\n",
    "print(f\"Equilibrium potential for Ca: {E_Ca:5.1f} mV\")"
   ]
  },
  {
   "cell_type": "markdown",
   "metadata": {},
   "source": [
    "\n",
    "**Exercise 2b)**\n",
    "\n",
    "\n",
    "Looking at the concentrations of the three ions. We see that there is a large inward concentration gradient for sodium and calcium, which is why their Nernst potentials are positive, because a higher potential inside than outside will balance out the inward concentration gradient. For potassium however, the concentration gradient is the other direction, so we need to have a potential difference in the other direction to balance this gradient, which is why we get a negative potential in that case."
   ]
  },
  {
   "cell_type": "markdown",
   "metadata": {},
   "source": [
    "**Exercise 2c)**\n",
    "\n",
    "We will use the equation\n",
    "$$\\Delta Q = C_m \\Delta V$$\n",
    "to approximate the amount of charge that passes through the membrane when we go from $V=-80$ mV to $V=+40$ mV."
   ]
  },
  {
   "cell_type": "code",
   "execution_count": 9,
   "metadata": {},
   "outputs": [
    {
     "name": "stdout",
     "output_type": "stream",
     "text": [
      "Approximately 6.0 pC travels through the membrane.\n"
     ]
    }
   ],
   "source": [
    "Cm = 0.05 # nF\n",
    "dV = 120 # mV\n",
    "dQ = Cm*dV\n",
    "\n",
    "print(f\"Approximately {dQ:.1f} pC travels through the membrane.\")"
   ]
  },
  {
   "cell_type": "markdown",
   "metadata": {},
   "source": [
    "**Exercise 2d)**\n",
    "\n",
    "We now find the number of ions $6.0$ pC corresponds to. Using Faraday's constant, we find"
   ]
  },
  {
   "cell_type": "code",
   "execution_count": 10,
   "metadata": {},
   "outputs": [
    {
     "name": "stdout",
     "output_type": "stream",
     "text": [
      "Roughly 6e-05 picomols pass through the membrane.\n"
     ]
    }
   ],
   "source": [
    "F = 96485 # C/mol\n",
    "dNa = dQ/F\n",
    "print(f\"Roughly {dNa:.1g} picomols pass through the membrane.\")"
   ]
  },
  {
   "cell_type": "markdown",
   "metadata": {},
   "source": [
    "**Exercise 2e)**\n",
    "\n",
    "Assuming the cell has a total volume of 20 picoliters, how much does the sodium concentration change as a result of this?\n"
   ]
  },
  {
   "cell_type": "code",
   "execution_count": 11,
   "metadata": {},
   "outputs": [
    {
     "name": "stdout",
     "output_type": "stream",
     "text": [
      "Absolute concentration change: 0.0031 mM\n",
      "Relative concentration change: 0.039%\n"
     ]
    }
   ],
   "source": [
    "V = 20 # picoliters\n",
    "dconc = dNa/V*1e3\n",
    "rel = 1 - (8-dconc)/8 # Relative change in intracellular sodium\n",
    "\n",
    "print(f\"Absolute concentration change: {dconc:.4f} mM\")\n",
    "print(f\"Relative concentration change: {rel:.3%}\")"
   ]
  },
  {
   "cell_type": "markdown",
   "metadata": {},
   "source": [
    "**Exercise 2f)**\n",
    "\n",
    "In (2a) you found the Nernst potential for sodium for a cell under normal physiological conditions. Assume now that the intracellular sodium concentration of the cell has increased by 30%. How much does its Nernst potential change?"
   ]
  },
  {
   "cell_type": "code",
   "execution_count": 12,
   "metadata": {},
   "outputs": [
    {
     "name": "stdout",
     "output_type": "stream",
     "text": [
      "Original E_Na:              70.0 mV\n",
      "After 30% increase in Na:   63.0 mV\n"
     ]
    }
   ],
   "source": [
    "E_Na = R*T/F * np.log(110/8)\n",
    "E_Na *= 1e3\n",
    "print(f\"Original E_Na:              {E_Na:.1f} mV\")\n",
    "\n",
    "E_Na = R*T/F * np.log(110/(1.3*8))\n",
    "E_Na *= 1e3\n",
    "print(f\"After 30% increase in Na:   {E_Na:.1f} mV\")"
   ]
  },
  {
   "cell_type": "markdown",
   "metadata": {},
   "source": [
    "**Exercise 2g)**\n",
    "\n",
    "As is mentioned in the exercise discussion, the last two exercises show that (1) ion transport through the membrane changes concentrations very little, and (2) even large changes in concentration lead to little change in the Nernst potential. When combined, these two facts indicate that we can treat the Nernst potential as a constant. (With the exception of calcium)."
   ]
  },
  {
   "cell_type": "markdown",
   "metadata": {},
   "source": [
    "#### Discussion on Exercise 2\n",
    "\n",
    "These back of the envelope calculations have shown us that (1) the ion concentration of sodium changes little, even when there is a big change in membrane potential, and (2) even a big change in ion concentration will lead to a relatively small change in the Nernst potential. The last point can be understood because it is only the logarithm of the concentration ratio that enters into the equation for the Nernst potential.\n",
    "\n",
    "The takeaway here is that while the Nernst potential is technically a variable that should change with changes in ion concentration ratio, in practice it will change so little that it can be considered a constant in a model. The one major exception to this is calcium, which has such a low initial intracellular concentration that the relative change can be as much as a thousandfold increase in concentration. We will get back to why the calcium concentration is so different from the other species later in the course."
   ]
  },
  {
   "cell_type": "markdown",
   "metadata": {},
   "source": [
    "<a id=\"3\"></a>\n",
    "### Exercise 3: The Equilibrium Membrane Potential\n",
    "\n",
    "For a membrane only permeable to sodium, the membrane potential will be governed by the ODE\n",
    "\n",
    "$$C_{\\rm m}\\frac{{\\rm d}V}{{\\rm d}t} = - g_{\\rm Na} (V-E_{\\rm Na}).$$\n",
    "\n",
    "Where $C_{\\rm m}$ is the membrane potential, and $g_{\\rm Na}$ is the sodium conductance."
   ]
  },
  {
   "cell_type": "markdown",
   "metadata": {},
   "source": [
    "**Exercise 3a)**\n",
    "\n",
    "We will solve the following ODE numerically\n",
    "$$C_{\\rm m}\\frac{{\\rm d}V}{{\\rm d}t} = - g_{\\rm Na} (V-E_{\\rm Na}).$$"
   ]
  },
  {
   "cell_type": "code",
   "execution_count": 13,
   "metadata": {},
   "outputs": [],
   "source": [
    "import numpy as np\n",
    "import matplotlib.pyplot as plt\n",
    "from scipy.integrate import solve_ivp"
   ]
  },
  {
   "cell_type": "code",
   "execution_count": 14,
   "metadata": {},
   "outputs": [],
   "source": [
    "# Define the ODE\n",
    "def rhs(t, V, Cm, g_Na, E_Na):\n",
    "    dV_dt = -g_Na*(V - E_Na)/Cm\n",
    "    return dV_dt\n",
    "\n",
    "# Define the parameters and initial condition\n",
    "T = (0, 100)\n",
    "Cm = 0.05 # nF\n",
    "g_Na = 0.005 # µS\n",
    "params = (Cm, g_Na, E_Na)\n",
    "y0 = (-80,) # mV\n",
    "\n",
    "# Solve the ODE\n",
    "solution = solve_ivp(rhs, T, y0, args=params, max_step=0.1)\n",
    "\n",
    "t = solution.t\n",
    "V, = solution.y"
   ]
  },
  {
   "cell_type": "code",
   "execution_count": 15,
   "metadata": {},
   "outputs": [
    {
     "data": {
      "image/png": "[encoded data removed]",
      "text/plain": [
       "<Figure size 432x288 with 1 Axes>"
      ]
     },
     "metadata": {
      "needs_background": "light"
     },
     "output_type": "display_data"
    }
   ],
   "source": [
    "plt.plot(t, V)\n",
    "plt.axhline(E_Na, linestyle='--', color='black')\n",
    "plt.xlabel('Time (ms)')\n",
    "plt.ylabel('Membrane Potential (mV)')\n",
    "plt.show()"
   ]
  },
  {
   "cell_type": "markdown",
   "metadata": {},
   "source": [
    "**(Optional) Exercise 3b)**\n",
    "\n",
    "We now solve the ODE analytically. It is almost identical to what we solved earlier, and we carry out the same process. First we substitute $u = V-E_{\\rm Na}$ to find:\n",
    "$$\\frac{1}{u} \\frac{{\\rm d}u}{{\\rm d}t} = -\\frac{g_{\\rm Na}}{C_{\\rm m}}.$$\n",
    "Which is a separabel ODE, so we get\n",
    "$$u(t) = Ce^{-t\\cdot g_{\\rm Na}/C_{\\rm m}}.$$\n",
    "So we get\n",
    "$$V(t) = E_{\\rm Na} + (V_0 - E_{\\rm Na})e^{-t/\\tau},$$\n",
    "where $\\tau = g_{\\rm Na}/C_{\\rm m}$. So we see the solution is an exponential decay to the Nernst potential, with a time constant of $g_{\\rm Na}/C_{\\rm m}$. Thus, the bigger the conductance of the channels, the bigger the current, and the faster the change in potential, and the bigger the capacitance, the harder it is to change the membrane potential, so it takes longer."
   ]
  },
  {
   "cell_type": "markdown",
   "metadata": {},
   "source": [
    "**Exercise 3c)**\n",
    "\n",
    "We see that it takes 25-50 ms for the membrane potential to reach equilibrium. \n",
    "\n",
    "The time constant we found analytically is\n",
    "$$\\tau = \\frac{g_{\\rm Na}}{C_{\\rm m}} = \\frac{0.005 {\\rm\\ µS}}{0.05 {\\rm\\ nF}} = 10 {\\rm\\ ms}.$$\n",
    "Which seems to be right from the plot. At $t=\\tau$, the solution should have reached 1/e'th from the equilibrium."
   ]
  },
  {
   "cell_type": "code",
   "execution_count": 16,
   "metadata": {},
   "outputs": [
    {
     "data": {
      "image/png": "[encoded data removed]",
      "text/plain": [
       "<Figure size 432x288 with 1 Axes>"
      ]
     },
     "metadata": {
      "needs_background": "light"
     },
     "output_type": "display_data"
    }
   ],
   "source": [
    "plt.plot(t, V)\n",
    "plt.axvline(10, linestyle='--', color='black')\n",
    "plt.xlabel('Time (ms)')\n",
    "plt.ylabel('Membrane Potential (mV)')\n",
    "plt.xlim(0, 60)\n",
    "plt.show()"
   ]
  },
  {
   "cell_type": "markdown",
   "metadata": {},
   "source": [
    "**Exercise 3d)**\n",
    "\n",
    "We copy our code from above, and add the two new currents"
   ]
  },
  {
   "cell_type": "code",
   "execution_count": 17,
   "metadata": {},
   "outputs": [],
   "source": [
    "# Define the ODE\n",
    "def rhs(t, V, Cm, g_Na, g_K, g_Ca, E_Na, E_K, E_Ca):\n",
    "    dV_dt = -(g_Na*(V - E_Na) + g_K*(V - E_K) + g_Ca*(V - E_Ca))/Cm\n",
    "    return dV_dt\n",
    "\n",
    "# Define the parameters and initial condition\n",
    "T = (0, 100)\n",
    "Cm = 0.05 # nF\n",
    "g_Na = 0.005 # µS\n",
    "g_K = 0.05 # µS\n",
    "g_Ca = 0.002 # µS\n",
    "params = (Cm, g_Na, g_K, g_Ca, E_Na, E_K, E_Ca)\n",
    "y0 = (0,) # mV\n",
    "\n",
    "# Solve the ODE\n",
    "solution = solve_ivp(rhs, T, y0, args=params, max_step=0.1)\n",
    "\n",
    "t = solution.t\n",
    "V, = solution.y"
   ]
  },
  {
   "cell_type": "code",
   "execution_count": 18,
   "metadata": {},
   "outputs": [
    {
     "data": {
      "image/png": "[encoded data removed]",
      "text/plain": [
       "<Figure size 432x288 with 1 Axes>"
      ]
     },
     "metadata": {
      "needs_background": "light"
     },
     "output_type": "display_data"
    }
   ],
   "source": [
    "plt.plot(t, V)\n",
    "plt.axhline(E_Na, linestyle='--', color='grey')\n",
    "plt.axhline(E_Ca, linestyle='--', color='grey')\n",
    "plt.axhline(E_K, linestyle='--', color='grey')\n",
    "plt.xlabel('Time (ms)')\n",
    "plt.ylabel('Membrane Potential (mV)')\n",
    "plt.xlim(0, 100)\n",
    "plt.show()"
   ]
  },
  {
   "cell_type": "markdown",
   "metadata": {},
   "source": [
    "**Exercise 3e)**\n",
    "\n",
    "From the plot we can see that the equilibrium looks to be about -65 mV. If we want to write it out, we can read out the last value of the `V` variable, which is a numpy array, using negative indexing let's us read the last element:"
   ]
  },
  {
   "cell_type": "code",
   "execution_count": 19,
   "metadata": {},
   "outputs": [
    {
     "name": "stdout",
     "output_type": "stream",
     "text": [
      "Equilibrium potential: -65.9 mV\n"
     ]
    }
   ],
   "source": [
    "print(f\"Equilibrium potential: {float(V[-1]):.1f} mV\")"
   ]
  },
  {
   "cell_type": "markdown",
   "metadata": {},
   "source": [
    "Rerunning with a different initial condition shows us that the equilibrium does not change.\n",
    "\n",
    "The equilibrium potential becomes -65 mV in this case, because this is a balancing point between the three currents. Each current individually wants to membrane potential to be equal to their Nernst potential, so the sodium and calcium currents are pulling $V$ upwards, while the potassium current  is pulling it down. Because we have set the potassium current to be so much stronger $g_{\\rm K} \\gg g_{\\rm Na} \\approx g_{\\rm Ca}$, we see that it wins this *\"tug-of-war\"* and the equilibrium lies close to the Nernst potential for potassium.\n"
   ]
  },
  {
   "cell_type": "markdown",
   "metadata": {},
   "source": [
    "**Exercise 3f)**\n",
    "\n",
    "Playing around with the widget we find that we must max out the potassium conductance ($g_{\\rm K} = 25-30$ µS) and minimize the calcium and sodium conductances (for example $g_{\\rm Na} =1$ µS and $g_{\\rm Ca}=0$ µS), to end up at -80 mV.\n",
    "\n",
    "This shouldn't be too surprising, as -80 mV is very close to the Nernst potential for potassium, meaning potassium should be dominating when the cell is resting. In practice we find that the potassium conductance at rest is indeed about 25-fold that of the combined sodium and calcium conductances."
   ]
  },
  {
   "cell_type": "markdown",
   "metadata": {},
   "source": [
    "<a id=\"4\"></a>\n",
    "### Exercise 4: A super simple action potential model\n",
    "\n",
    "#### Exercise 4a)\n",
    "\n",
    "We now solve the ODE\n",
    "$$C_{\\rm m}\\frac{{\\rm d}V}{{\\rm d}t} = -g_{\\rm Na} (V-E_{\\rm Na}) - g_{\\rm K} (V-E_{\\rm K}).$$\n",
    "With a time dependent sodium conductance:\n",
    "$$g_{\\rm Na}(t) = \\begin{cases}\n",
    "0.75 {\\rm\\ µS} & \\mbox{if } 2 {\\rm\\ ms} < t < 2.2 {\\rm\\ ms}, \\\\\n",
    "0.003 {\\rm\\ µS} & \\mbox{else.}\n",
    "\\end{cases}$$"
   ]
  },
  {
   "cell_type": "code",
   "execution_count": 20,
   "metadata": {},
   "outputs": [],
   "source": [
    "import numpy as np\n",
    "import matplotlib.pyplot as plt\n",
    "from scipy.integrate import solve_ivp"
   ]
  },
  {
   "cell_type": "code",
   "execution_count": 21,
   "metadata": {},
   "outputs": [],
   "source": [
    "# Define the ODE\n",
    "def rhs(t, V, Cm, g_K, E_Na, E_K):\n",
    "    g_Na = 0.55 if (2 < t < 2.2) else 0.003\n",
    "    dV_dt = (-g_Na*(V-E_Na) - g_K*(V-E_K))/Cm\n",
    "    return dV_dt\n",
    "\n",
    "# Define the parameters and initial condition\n",
    "T = (0, 10)\n",
    "Cm = 0.05 # nF\n",
    "g_K = 0.075 # µS\n",
    "params = (Cm, g_K, E_Na, E_K)\n",
    "y0 = (-80,) # mV\n",
    "\n",
    "# Solve the ODE\n",
    "solution = solve_ivp(rhs, T, y0, args=params, max_step=0.1)\n",
    "\n",
    "t = solution.t\n",
    "V, = solution.y"
   ]
  },
  {
   "cell_type": "code",
   "execution_count": 22,
   "metadata": {},
   "outputs": [
    {
     "data": {
      "image/png": "[encoded data removed]",
      "text/plain": [
       "<Figure size 432x288 with 1 Axes>"
      ]
     },
     "metadata": {
      "needs_background": "light"
     },
     "output_type": "display_data"
    }
   ],
   "source": [
    "plt.plot(t, V)\n",
    "plt.show()"
   ]
  },
  {
   "cell_type": "markdown",
   "metadata": {},
   "source": [
    "#### Exercise 4b)\n",
    "\n",
    "\n",
    "We see that before $t=2$ ms, the cell is resting with a membrane potential at around -80 mV. At $t=2$ ms, the sodium channels open and we see a very rapid increase in the membrane potential. This is because the balance between the inward sodium current and the outward potassium current has been dramatically shifted.\n",
    "\n",
    "While the sodium current would like to approach the Nernst potential for sodium at around +70 mV, the membrane is not given enough time to do this. Instead, at $t=2.2$ ms, the channels close again. This means that the balance is again shifted to the stronger potassium current, and the membrane potential drops down to its resting membrane potential at around -80 mV.\n",
    "\n",
    "The membrane potential is always driven by passive ion transport, i.e., electrodiffusion. The underlying driving force therefore never changes. The only changes over time is what channels are open, i.e., what ions are permitted to diffuse through the membrane."
   ]
  },
  {
   "cell_type": "markdown",
   "metadata": {},
   "source": [
    "#### Discussion\n",
    "\n",
    "Here we have created a very simple model of an action potential, by saying that at some time sodium channels open and stay open for a short, fixed, duration. While this is a gross simplification of how sodium channels work, it is actually produces an action potential that is phenomenologically quite correct. At least for neuronal action potentials which last on the order of milliseconds. In cardiac cells, action potentials last for a few hundred milliseconds. You will understand why this is the case better when we get further in the course."
   ]
  }
 ],
 "metadata": {
  "kernelspec": {
   "display_name": "Python 3",
   "language": "python",
   "name": "python3"
  },
  "language_info": {
   "codemirror_mode": {
    "name": "ipython",
    "version": 3
   },
   "file_extension": ".py",
   "mimetype": "text/x-python",
   "name": "python",
   "nbconvert_exporter": "python",
   "pygments_lexer": "ipython3",
   "version": "3.6.9"
  },
  "widgets": {
   "state": {
    "f67b22bc88764229a6bb49601156df75": {
     "views": [
      {
       "cell_index": 30
      }
     ]
    }
   },
   "version": "1.2.0"
  }
 },
 "nbformat": 4,
 "nbformat_minor": 2
}
