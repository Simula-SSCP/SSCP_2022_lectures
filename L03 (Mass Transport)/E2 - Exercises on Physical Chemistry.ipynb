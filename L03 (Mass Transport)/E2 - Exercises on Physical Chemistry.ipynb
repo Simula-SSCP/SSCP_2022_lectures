{
 "cells": [
  {
   "cell_type": "markdown",
   "metadata": {},
   "source": [
    "# E2 — Exercises on Physical Chemistry\n",
    "\n",
    "This notebook contains interactive exercises related to the L3 live-session of the SSCP2021. There is also a notebook called E3, which contains exercises on the cell membrane.\n",
    "\n",
    "The following topics are covered\n",
    "* [Example: Modeling a reaction with the Law of Mass Action](#mass_action)\n",
    "* [Exercise 1: Modeling a Two-way Reaction to Understand Equilibrium](#equilibrium)\n",
    "* [Exercise 2: Modeling Michelis-Menten Kinetics](#kinetics)"
   ]
  },
  {
   "cell_type": "markdown",
   "metadata": {},
   "source": [
    "<a id=\"equilibrium\"></a>\n",
    "## Exercise 1: Modeling a Reversible Reaction to Understand Equilibrium\n",
    "\n",
    "Not it's time for you to try. Using the same approach as for the one-way reaction above, you will model the two-way reversible reaction\n",
    "$$\\mathrm{Mb} + \\mathrm{O_2} \\underset{k_-}{\\overset{k_+}{\\rightleftharpoons}} \\mathrm{MbO_2}.$$\n"
   ]
  },
  {
   "cell_type": "code",
   "execution_count": null,
   "metadata": {},
   "outputs": [],
   "source": [
    "import numpy as np\n",
    "import matplotlib.pyplot as plt\n",
    "from scipy.integrate import solve_ivp"
   ]
  },
  {
   "cell_type": "markdown",
   "metadata": {},
   "source": [
    "**Exercise 1a)**\n",
    "\n",
    "Using the law of mass action, find and write out the system of ODEs describing the reaction.\n",
    "$$\n",
    "\\frac{\\rm d [Mb]}{{\\rm d}t} = \\ldots, \\qquad\n",
    "\\frac{\\rm d [O_2]}{{\\rm d}t} = \\ldots, \\qquad\n",
    "\\frac{\\rm d [MbO_2]}{{\\rm d}t} = \\ldots.$$\n",
    "(Use pen and paper.)"
   ]
  },
  {
   "cell_type": "markdown",
   "metadata": {},
   "source": [
    "**Exercise 1b)**\n",
    "\n",
    "Fill in the code below to define the RHS of the ODE-system as a Python function."
   ]
  },
  {
   "cell_type": "code",
   "execution_count": null,
   "metadata": {},
   "outputs": [],
   "source": [
    "def rhs(t, y, kp, km):\n",
    "    Mb, O2, MbO2 = y\n",
    "            \n",
    "    # Compute derivatives\n",
    "    dMb_dt = ...\n",
    "    dO2_dt = ...\n",
    "    dMbO2_dt = ...\n",
    "    \n",
    "    # Return RHS as sequence\n",
    "    return (dMb_dt, dO2_dt, dMbO2_dt)"
   ]
  },
  {
   "cell_type": "markdown",
   "metadata": {},
   "source": [
    "**Exercise 1c)**\n",
    "\n",
    "Use `scipy.integrate.solve_ivp` to solve the system by filling in the code cell below. Make up some reasonable parameters and initial conditions."
   ]
  },
  {
   "cell_type": "code",
   "execution_count": null,
   "metadata": {},
   "outputs": [],
   "source": [
    "# Define time span\n",
    "time = (..., ...)\n",
    "\n",
    "# Define initial condition vector\n",
    "y0 = (..., ..., ...)\n",
    "\n",
    "# Define parameter vector\n",
    "kp = ...\n",
    "km = ...\n",
    "params = (kp, km)\n",
    "\n",
    "# Call the ODE solver\n",
    "solution = solve_ivp(..., ..., ..., args=..., max_step=...)"
   ]
  },
  {
   "cell_type": "markdown",
   "metadata": {},
   "source": [
    "#### Exercise 1d)\n",
    "\n",
    "Plot the solutions you just computed by filling in code below. "
   ]
  },
  {
   "cell_type": "code",
   "execution_count": null,
   "metadata": {},
   "outputs": [],
   "source": [
    "# Split up the solution matrix\n",
    "t = solution.t\n",
    "_, _, _ = solution.y\n",
    "\n",
    "# Plot the solutions\n",
    "plt.plot(t, ..., label=...)\n",
    "plt.plot(t, ..., label=...)\n",
    "plt.plot(t, ..., label=...)\n",
    "plt.legend()\n",
    "plt.show()"
   ]
  },
  {
   "cell_type": "markdown",
   "metadata": {},
   "source": [
    "**Exercise 1d)**\n",
    "\n",
    "From the law of mass action, we found an equilibrium condition for the system\n",
    "$$\\frac{[\\mathrm{Mb}][\\mathrm{O_2}]}{[\\mathrm{MbO_2}]} = \\frac{k_-}{k_+} = K_{\\rm d}.$$\n",
    "\n",
    "Fill in the parameters you chose and verify that this equilibrium condition is met in your numerical solution."
   ]
  },
  {
   "cell_type": "code",
   "execution_count": null,
   "metadata": {},
   "outputs": [],
   "source": [
    "# Fill in code"
   ]
  },
  {
   "cell_type": "markdown",
   "metadata": {},
   "source": [
    "<a id='kinetics'></a>\n",
    "## Exercise 2: Modeling Michaelis-Menten Kinetics\n",
    "\n",
    "Let us model the Michaelis-Menten reaction and analyse the behavior\n",
    "$${\\rm S} + {\\rm E} \\underset{k_{-1}}{\\overset{k_1}{\\rightleftharpoons}} {\\rm ES} \\overset{k_2}{\\rightarrow} {\\rm E} + {\\rm P}.$$\n",
    "\n",
    "**Exercise 2a)**\n",
    "\n",
    "Using the law of mass action, write out the system of ODEs that describe the four concentrations of the system\n",
    "\n",
    "$$\n",
    "\\frac{\\rm d[S]}{{\\rm d}t} = \\ldots, \\qquad\n",
    "\\frac{\\rm d[E]}{{\\rm d}t} = \\ldots, \\qquad\n",
    "\\frac{\\rm d[ES]}{{\\rm d}t} = \\ldots, \\qquad\n",
    "\\frac{\\rm d[P]}{{\\rm d}t} = \\ldots\n",
    "$$\n",
    "(Use pen and paper).\n",
    "\n",
    "**Exercise 2b)**\n",
    "\n",
    "Fill in the code below to define the RHS of the system"
   ]
  },
  {
   "cell_type": "code",
   "execution_count": null,
   "metadata": {},
   "outputs": [],
   "source": [
    "import numpy as np\n",
    "import matplotlib.pyplot as plt\n",
    "from scipy.integrate import solve_ivp"
   ]
  },
  {
   "cell_type": "code",
   "execution_count": null,
   "metadata": {},
   "outputs": [],
   "source": [
    "def rhs(t, y, k1p, k1m, k2):\n",
    "    # Unpack the states\n",
    "    S, E, ES, P = y\n",
    "    \n",
    "    # Compute derivatives\n",
    "    dS_dt = ...\n",
    "    dE_dt = ...\n",
    "    dES_dt = ...\n",
    "    dP_dt = ...\n",
    "    \n",
    "    # Return RHS as sequence\n",
    "    return [dS_dt, dE_dt, dES_dt, dP_dt]"
   ]
  },
  {
   "cell_type": "markdown",
   "metadata": {},
   "source": [
    "**Exercise 2c)**\n",
    "\n",
    "Solve the system with the rates $k_{-1} = 1$, $k_1 = 2$, $k_2 = 3$. Let $[{\\rm S}]_0 = 1$ and $[{\\rm E}]_0 = 0.1$. Solve the system for $t\\in[0, 30]$."
   ]
  },
  {
   "cell_type": "code",
   "execution_count": null,
   "metadata": {},
   "outputs": [],
   "source": [
    "# Define time vector\n",
    "time = (..., ...)\n",
    "\n",
    "# Define initial condition vector\n",
    "y0 = (..., ..., ..., ...)\n",
    "\n",
    "# Define parameter vector\n",
    "k1p = ...\n",
    "k1m = ...\n",
    "k2 = ...\n",
    "params = (k1p, k1m, k2)\n",
    "\n",
    "# Call the ODE solver\n",
    "solution = solve_ivp(rhs, time, y0, args=params, max_step=0.1)"
   ]
  },
  {
   "cell_type": "markdown",
   "metadata": {},
   "source": [
    "**Exercise 2d)**\n",
    "\n",
    "Now make two plots:\n",
    "1. A plot of the substrate S and the product P\n",
    "2. A plot of bound and free enzyme, SE and E\n",
    "\n",
    "Explain the time evolution of the different concentrations."
   ]
  },
  {
   "cell_type": "code",
   "execution_count": null,
   "metadata": {},
   "outputs": [],
   "source": [
    "# Extract solution arrays\n",
    "t = solution.t\n",
    "S, E, ES, P = solution.y"
   ]
  },
  {
   "cell_type": "code",
   "execution_count": null,
   "metadata": {},
   "outputs": [],
   "source": [
    "# Plot 1\n",
    "plt.plot(..., ... , label=\"...\")\n",
    "plt.plot(..., ... , label=\"...\")\n",
    "plt.xlabel(\"...\")\n",
    "plt.ylabel(\"...\")\n",
    "plt.legend()\n",
    "plt.show()"
   ]
  },
  {
   "cell_type": "code",
   "execution_count": null,
   "metadata": {},
   "outputs": [],
   "source": [
    "# Plot 2\n",
    "..."
   ]
  },
  {
   "cell_type": "markdown",
   "metadata": {},
   "source": [
    "**Exercise 2e)**\n",
    "\n",
    "As a verification, let us make sure our solution is mass conserving. The following two quantities should be constant throughout the simulation:\n",
    "1. The total amount of enzyme $[\\rm E] + [\\rm ES]$\n",
    "2. The sum of substrate and product: $[\\rm S] + [\\rm ES] + [\\rm P]$\n",
    "\n",
    "First discuss with your breakout room why this should be the case. Then plot these curves and ensure that they are indeed constant. If they are not, go back and try to find your error."
   ]
  },
  {
   "cell_type": "code",
   "execution_count": null,
   "metadata": {},
   "outputs": [],
   "source": [
    "# Plot E + ES\n",
    "plt.plot(..., ...)\n",
    "\n",
    "# Plot S + ES + P\n",
    "plt.plot(..., ...)\n",
    "\n",
    "# Prettify the plot\n",
    "...\n",
    "\n",
    "plt.show()"
   ]
  },
  {
   "cell_type": "markdown",
   "metadata": {},
   "source": [
    "#### Exercise 2f)\n",
    "\n",
    "The Michaelis-Menten gives the reaction velocity of the enzyme activity as\n",
    "$$v = v_{\\rm max} \\frac{[S]}{K_m + [S]}, \\qquad v_{\\rm max} = k_2 [E]_{\\rm tot}, \\qquad K_m = \\frac{k_{-1} + k_2}{k_1}.$$\n",
    "\n",
    "In your code, you have not computed the reaction velocity itself, but recall that this is given by\n",
    "$$[\\dot{\\rm P}] = k_2[{\\rm ES}].$$\n",
    "\n",
    "Plot the reaction velocity of your simulation and the reaction velocity predicted by the Michaelis-Menten equation in the same figure. Are the two different?"
   ]
  },
  {
   "cell_type": "code",
   "execution_count": null,
   "metadata": {},
   "outputs": [],
   "source": [
    "# Fill in your code here"
   ]
  },
  {
   "cell_type": "markdown",
   "metadata": {},
   "source": [
    "#### Exercise 2e)\n",
    "\n",
    "If you have programmed everything correctly, the two solutions should be slightly different. Explain why. \n",
    "\n",
    "(Hint: What assumptions did we make when deriving the Michaelis-Menten equation?)"
   ]
  }
 ],
 "metadata": {
  "kernelspec": {
   "display_name": "Python 3",
   "language": "python",
   "name": "python3"
  },
  "language_info": {
   "codemirror_mode": {
    "name": "ipython",
    "version": 3
   },
   "file_extension": ".py",
   "mimetype": "text/x-python",
   "name": "python",
   "nbconvert_exporter": "python",
   "pygments_lexer": "ipython3",
   "version": "3.6.9"
  }
 },
 "nbformat": 4,
 "nbformat_minor": 2
}
