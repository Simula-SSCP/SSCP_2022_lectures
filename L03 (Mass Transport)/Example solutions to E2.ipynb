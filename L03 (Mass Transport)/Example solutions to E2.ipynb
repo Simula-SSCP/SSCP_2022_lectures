{
 "cells": [
  {
   "cell_type": "markdown",
   "metadata": {},
   "source": [
    "# Example Solutions for E2\n",
    "\n",
    "This notebook contains example solutions to the excercises given in Notebook <a href=\"E2 - Exercises on Physical Chemistry.ipynb\">E2 - Exercises on Physical Chemistry</a>.\n",
    "\n",
    "Quick links:\n",
    "* [Exercise 1: Modeling a Two-way Reaction to Understand Equilibrium](#equilibrium)\n",
    "* [Exercise 2: Modeling Michelis-Menten Kinetics](#kinetics)"
   ]
  },
  {
   "cell_type": "markdown",
   "metadata": {},
   "source": [
    "<a id=\"equilibrium\"></a>\n",
    "## Exercise 1: Modeling a Reversible Reaction to Understand Equilibrium\n",
    "\n",
    "Not it's time for you to try. Using the same approach as for the one-way reaction above, you will model the two-way reversible reaction\n",
    "$$\\mathrm{Mb} + \\mathrm{O_2} \\underset{k_-}{\\overset{k_+}{\\rightleftharpoons}} \\mathrm{MbO_2}.$$\n"
   ]
  },
  {
   "cell_type": "code",
   "execution_count": 1,
   "metadata": {},
   "outputs": [],
   "source": [
    "import numpy as np\n",
    "import matplotlib.pyplot as plt\n",
    "from scipy.integrate import solve_ivp"
   ]
  },
  {
   "cell_type": "markdown",
   "metadata": {},
   "source": [
    "**Exercise 1a)**\n",
    "\n",
    "Using the law of mass action, find and write out the system of ODEs describing the reaction.\n",
    "$$\n",
    "\\frac{\\rm d [Mb]}{{\\rm d}t} = \\ldots, \\qquad\n",
    "\\frac{\\rm d [O_2]}{{\\rm d}t} = \\ldots, \\qquad\n",
    "\\frac{\\rm d [MbO_2]}{{\\rm d}t} = \\ldots.$$\n",
    "(Use pen and paper.)"
   ]
  },
  {
   "cell_type": "markdown",
   "metadata": {},
   "source": [
    "### Example solution:\n",
    "\n",
    "Note that the three terms become the same, with the exception of a sign.\n",
    "\n",
    "$$\n",
    "\\frac{\\rm d [Mb]}{{\\rm d}t} = k_-[{\\rm MbO_2}] - k_+[{\\rm Mb}][{\\rm O_2}], \\qquad\n",
    "\\frac{\\rm d [O_2]}{{\\rm d}t} = k_-[{\\rm MbO_2}] - k_+[{\\rm Mb}][{\\rm O_2}]\\ldots, \\qquad\n",
    "\\frac{\\rm d [MbO_2]}{{\\rm d}t} = k_+[{\\rm Mb}][{\\rm O_2}] - k_-[{\\rm MbO_2}].$$\n"
   ]
  },
  {
   "cell_type": "markdown",
   "metadata": {},
   "source": [
    "**Exercise 1b)**\n",
    "\n",
    "Fill in the code below to define the RHS of the ODE-system as a Python function."
   ]
  },
  {
   "cell_type": "code",
   "execution_count": 2,
   "metadata": {},
   "outputs": [],
   "source": [
    "def rhs(t, y, kp, km):\n",
    "    Mb, O2, MbO2 = y\n",
    "            \n",
    "    # Compute derivatives\n",
    "    dMb_dt = km*MbO2 - kp*Mb*O2\n",
    "    dO2_dt = dMb_dt\n",
    "    dMbO2_dt = -dMb_dt\n",
    "    \n",
    "    # Return RHS as sequence\n",
    "    return (dMb_dt, dO2_dt, dMbO2_dt)"
   ]
  },
  {
   "cell_type": "markdown",
   "metadata": {},
   "source": [
    "**Exercise 1c)**\n",
    "\n",
    "Use `scipy.integrate.solve_ivp` to solve the system by filling in the code cell below. Make up some reasonable parameters and initial conditions."
   ]
  },
  {
   "cell_type": "code",
   "execution_count": 3,
   "metadata": {},
   "outputs": [],
   "source": [
    "# Define time span\n",
    "time = (0, 5)\n",
    "\n",
    "# Define initial condition vector\n",
    "y0 = (2, 4, 0)\n",
    "\n",
    "# Define parameter vector\n",
    "kp = 2\n",
    "km = 1\n",
    "params = (kp, km)\n",
    "\n",
    "# Call the ODE solver\n",
    "solution = solve_ivp(rhs, time, y0, args=params, max_step=0.1)"
   ]
  },
  {
   "cell_type": "markdown",
   "metadata": {},
   "source": [
    "#### Exercise 1d)\n",
    "\n",
    "Plot the solutions you just computed by filling in code below. "
   ]
  },
  {
   "cell_type": "code",
   "execution_count": 4,
   "metadata": {},
   "outputs": [
    {
     "data": {
      "image/png": "[encoded data removed]",
      "text/plain": [
       "<Figure size 432x288 with 1 Axes>"
      ]
     },
     "metadata": {
      "needs_background": "light"
     },
     "output_type": "display_data"
    }
   ],
   "source": [
    "# Split up the solution matrix\n",
    "t = solution.t\n",
    "Mb, O2, MbO2 = solution.y\n",
    "\n",
    "# Plot the solutions\n",
    "plt.plot(t, Mb, label=\"Mb\")\n",
    "plt.plot(t, O2, label=\"O2\")\n",
    "plt.plot(t, MbO2, label=\"MbO2\")\n",
    "plt.legend()\n",
    "plt.show()"
   ]
  },
  {
   "cell_type": "markdown",
   "metadata": {},
   "source": [
    "**Exercise 1d)**\n",
    "\n",
    "From the law of mass action, we found an equilibrium condition for the system\n",
    "$$\\frac{[\\mathrm{Mb}][\\mathrm{O_2}]}{[\\mathrm{MbO_2}]} = \\frac{k_-}{k_+} = K_{\\rm d}.$$\n",
    "\n",
    "Fill in the parameters you chose and verify that this equilibrium condition is met in your numerical solution."
   ]
  },
  {
   "cell_type": "code",
   "execution_count": 5,
   "metadata": {},
   "outputs": [
    {
     "name": "stdout",
     "output_type": "stream",
     "text": [
      "Kd = 0.50\n",
      "At end of solution: [Mb][O2]/[MbO2] = 0.50\n",
      "Is system at equilibrium? True\n"
     ]
    }
   ],
   "source": [
    "LHS = Mb[-1]*O2[-1]/MbO2[-1]\n",
    "Kd = km/kp\n",
    "\n",
    "\n",
    "print(f\"Kd = {Kd:.2f}\")\n",
    "print(f\"At end of solution: [Mb][O2]/[MbO2] = {LHS:.2f}\")\n",
    " \n",
    "print(f\"Is system at equilibrium? {np.isclose(LHS, Kd)}\")"
   ]
  },
  {
   "cell_type": "markdown",
   "metadata": {},
   "source": [
    "<a id='kinetics'></a>\n",
    "## Exercise 2: Modeling Michaelis-Menten Kinetics\n",
    "\n",
    "Let us model the Michaelis-Menten reaction and analyse the behavior\n",
    "$${\\rm S} + {\\rm E} \\underset{k_{-1}}{\\overset{k_1}{\\rightleftharpoons}} {\\rm ES} \\overset{k_2}{\\rightarrow} {\\rm E} + {\\rm P}.$$\n",
    "\n",
    "**Exercise 2a)**\n",
    "\n",
    "Using the law of mass action, write out the system of ODEs that describe the four concentrations of the system\n",
    "\n",
    "$$\n",
    "\\frac{\\rm d[S]}{{\\rm d}t} = \\ldots, \\qquad\n",
    "\\frac{\\rm d[E]}{{\\rm d}t} = \\ldots, \\qquad\n",
    "\\frac{\\rm d[ES]}{{\\rm d}t} = \\ldots, \\qquad\n",
    "\\frac{\\rm d[P]}{{\\rm d}t} = \\ldots\n",
    "$$"
   ]
  },
  {
   "cell_type": "markdown",
   "metadata": {},
   "source": [
    "\n",
    "#### Example solution:\n",
    "\n",
    "\\begin{align}\n",
    "\\frac{\\rm d[S]}{{\\rm d}t} &= k_{-1}[{\\rm ES}] - k_{1}[{\\rm S}][{\\rm E}], \\\\[0.5cm]\n",
    "\\frac{\\rm d[E]}{{\\rm d}t} &= k_{-1}[{\\rm ES}] + k_2 [{\\rm ES}] - k_{1}[{\\rm S}][{\\rm E}] = \n",
    "                             (k_{-1} + k_2)[{\\rm ES}] - k_{1}[{\\rm S}][{\\rm E}], \\\\[0.5cm]\n",
    "\\frac{\\rm d[ES]}{{\\rm d}t} &= k_{1}[{\\rm S}][{\\rm E}] - (k_{-1} + k_2)[{\\rm ES}], \\\\[0.5cm]\n",
    "\\frac{\\rm d[P]}{{\\rm d}t} &= k_2[{\\rm ES}].\n",
    "\\end{align}\n",
    "\n"
   ]
  },
  {
   "cell_type": "markdown",
   "metadata": {},
   "source": [
    "**Exercise 2b)**\n",
    "\n",
    "Fill in the code below to define the RHS of the system"
   ]
  },
  {
   "cell_type": "code",
   "execution_count": 6,
   "metadata": {},
   "outputs": [],
   "source": [
    "import numpy as np\n",
    "import matplotlib.pyplot as plt\n",
    "from scipy.integrate import solve_ivp"
   ]
  },
  {
   "cell_type": "code",
   "execution_count": 7,
   "metadata": {},
   "outputs": [],
   "source": [
    "def rhs(t, y, k1p, k1m, k2):\n",
    "    # Unpack the states\n",
    "    S, E, ES, P = y\n",
    "    \n",
    "    # Compute derivatives\n",
    "    dS_dt = k1m*ES - k1p*S*E\n",
    "    dE_dt = (k1m + k2)*ES - k1p*S*E\n",
    "    dES_dt = k1p*S*E - (k1m + k2)*ES\n",
    "    dP_dt = k2*ES\n",
    "    \n",
    "    # Return RHS as sequence\n",
    "    return [dS_dt, dE_dt, dES_dt, dP_dt]"
   ]
  },
  {
   "cell_type": "markdown",
   "metadata": {},
   "source": [
    "**Exercise 2c)**\n",
    "\n",
    "Solve the system with the rates $k_{-1} = 1$, $k_1 = 2$, $k_2 = 3$. Let $[{\\rm S}]_0 = 1$ and $[{\\rm E}]_0 = 0.1$. Solve the system for $t\\in[0, 30]$."
   ]
  },
  {
   "cell_type": "code",
   "execution_count": 8,
   "metadata": {},
   "outputs": [],
   "source": [
    "# Define time vector\n",
    "time = (0, 30)\n",
    "\n",
    "# Define initial condition vector\n",
    "y0 = (1, 0.1, 0, 0)\n",
    "\n",
    "# Define parameter vector\n",
    "k1p = 1\n",
    "k1m = 2\n",
    "k2 = 3\n",
    "params = (k1p, k1m, k2)\n",
    "\n",
    "# Call the ODE solver\n",
    "solution = solve_ivp(rhs, time, y0, args=params, max_step=0.1)"
   ]
  },
  {
   "cell_type": "markdown",
   "metadata": {},
   "source": [
    "**Exercise 2d)**\n",
    "\n",
    "Now make two plots:\n",
    "1. A plot of the substrate S and the product P\n",
    "2. A plot of bound and free enzyme, SE and E"
   ]
  },
  {
   "cell_type": "code",
   "execution_count": 9,
   "metadata": {},
   "outputs": [],
   "source": [
    "# Extract solution arrays\n",
    "t = solution.t\n",
    "S, E, ES, P = solution.y"
   ]
  },
  {
   "cell_type": "code",
   "execution_count": 10,
   "metadata": {},
   "outputs": [
    {
     "data": {
      "image/png": "[encoded data removed]",
      "text/plain": [
       "<Figure size 432x288 with 1 Axes>"
      ]
     },
     "metadata": {
      "needs_background": "light"
     },
     "output_type": "display_data"
    }
   ],
   "source": [
    "# Plot 1\n",
    "plt.plot(t, S, label='Substrate')\n",
    "plt.plot(t, P, label='Product')\n",
    "plt.xlabel('Time')\n",
    "plt.ylabel('Concentration')\n",
    "plt.legend()\n",
    "plt.show()"
   ]
  },
  {
   "cell_type": "code",
   "execution_count": 11,
   "metadata": {},
   "outputs": [
    {
     "data": {
      "image/png": "[encoded data removed]",
      "text/plain": [
       "<Figure size 432x288 with 1 Axes>"
      ]
     },
     "metadata": {
      "needs_background": "light"
     },
     "output_type": "display_data"
    }
   ],
   "source": [
    "# Plot 2\n",
    "plt.plot(t, E, label=\"Free Enzyme\")\n",
    "plt.plot(t, ES, label=\"Bound Enzyme\")\n",
    "plt.xlabel('Time')\n",
    "plt.ylabel('Concentration')\n",
    "plt.legend()\n",
    "plt.show()"
   ]
  },
  {
   "cell_type": "markdown",
   "metadata": {},
   "source": [
    "**Exercise 2e)**\n",
    "\n",
    "As a verification, let us make sure our solution is mass conserving. The following two quantities should be constant throughout the simulation:\n",
    "1. The total amount of enzyme $[\\rm E] + [\\rm ES]$\n",
    "2. The sum of substrate and product: $[\\rm S] + [\\rm ES] + [\\rm P]$\n",
    "\n",
    "First discuss with your breakout room why this should be the case. Then plot these curves and ensure that they are indeed constant. If they are not, go back and try to find your error."
   ]
  },
  {
   "cell_type": "code",
   "execution_count": 12,
   "metadata": {},
   "outputs": [
    {
     "data": {
      "image/png": "[encoded data removed]",
      "text/plain": [
       "<Figure size 432x288 with 1 Axes>"
      ]
     },
     "metadata": {
      "needs_background": "light"
     },
     "output_type": "display_data"
    }
   ],
   "source": [
    "# Plot E + ES\n",
    "plt.plot(t, E + ES, label=\"Total Enzyme\")\n",
    "\n",
    "# Plot S + ES + P\n",
    "plt.plot(t, S + ES + P, label=\"Sub. + Prod.\")\n",
    "\n",
    "# Prettify the plot\n",
    "plt.xlabel('Time')\n",
    "plt.ylabel('Concentrations')\n",
    "plt.legend()\n",
    "\n",
    "plt.show()"
   ]
  },
  {
   "cell_type": "markdown",
   "metadata": {},
   "source": [
    "#### Exercise 2f)\n",
    "\n",
    "The Michaelis-Menten gives the reaction velocity of the enzyme activity as\n",
    "$$v = v_{\\rm max} \\frac{[S]}{K_m + [S]}, \\qquad v_{\\rm max} = k_2 [E]_{\\rm tot}, \\qquad K_m = \\frac{k_{-1} + k_2}{k_1}.$$\n",
    "\n",
    "In your code, you have not computed the reaction velocity itself, but recall that this is given by\n",
    "$$[\\dot{\\rm P}] = k_2[{\\rm ES}].$$\n",
    "\n",
    "Plot the reaction velocity of your simulation and the reaction velocity predicted by the Michaelis-Menten equation in the same figure. Are the two different?"
   ]
  },
  {
   "cell_type": "code",
   "execution_count": 13,
   "metadata": {},
   "outputs": [
    {
     "data": {
      "image/png": "[encoded data removed]",
      "text/plain": [
       "<Figure size 432x288 with 1 Axes>"
      ]
     },
     "metadata": {
      "needs_background": "light"
     },
     "output_type": "display_data"
    }
   ],
   "source": [
    "v_max = k2*(E[0] + ES[0])\n",
    "Km = (k1m + k2)/k1p\n",
    "\n",
    "v_sim = k2*ES\n",
    "v_mm = v_max * S/(Km + S)\n",
    "\n",
    "plt.plot(t, v_sim, label='Simulation')\n",
    "plt.plot(t, v_mm, label='Michaelis-Menten')\n",
    "plt.xlabel('Time')\n",
    "plt.ylabel('Reaction Velocity')\n",
    "plt.legend()\n",
    "plt.show()"
   ]
  },
  {
   "cell_type": "markdown",
   "metadata": {},
   "source": [
    "#### Exercise 2e)\n",
    "\n",
    "* Explain the shape of the reaction velocity. \n",
    "\n",
    "* If you have programmed everything correctly, the two solutions should be slightly different. Explain why. \n",
    "\n",
    "(**Hint:** What assumptions did we make when deriving the Michaelis-Menten equation?)"
   ]
  },
  {
   "cell_type": "markdown",
   "metadata": {},
   "source": [
    "#### Example Solution\n",
    "\n",
    "* The reaction velocity starts high as there is a lot of substrate to convert, as time progresses the amount of total enzyme is constant, but the amount of substrate decreases resulting in lower overall reaction velocity. The fact that the reaction velocity drops right from the start indicates that the enzyme is not fully saturated, otherwise the reaction velocity should have stayed near constant.\n",
    "\n",
    "* The two curves are very slightly different at the very start. This is because the simulation is based on the law of mass action alone, while the Michaelis-Menten assumed the system to be quasi-static, i.e., always at its equilibrium. We see that this assumption is poor right at the start of the simulation, because our initial conditions are far from equilibrium - however, we see the system very quick reaches its equilibrium and after this the simplified Michaelis-Menten equation is a very good approximation.\n"
   ]
  }
 ],
 "metadata": {
  "kernelspec": {
   "display_name": "Python 3",
   "language": "python",
   "name": "python3"
  },
  "language_info": {
   "codemirror_mode": {
    "name": "ipython",
    "version": 3
   },
   "file_extension": ".py",
   "mimetype": "text/x-python",
   "name": "python",
   "nbconvert_exporter": "python",
   "pygments_lexer": "ipython3",
   "version": "3.6.9"
  }
 },
 "nbformat": 4,
 "nbformat_minor": 2
}
