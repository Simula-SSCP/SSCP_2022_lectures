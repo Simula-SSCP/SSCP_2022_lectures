{
 "cells": [
  {
   "cell_type": "markdown",
   "metadata": {},
   "source": [
    "<!-- dom:TITLE: Fundamental cardiac mechanics  -->\n",
    "# Fundamental cardiac mechanics \n",
    "<!-- dom:AUTHOR: Joakim Sundnes -->\n",
    "<!-- Author: -->  \n",
    "**Joakim Sundnes**\n",
    "\n",
    "Date: **Apr 30, 2021**\n",
    "\n",
    "## Outline\n",
    "  * From cell to tissue\n",
    "\n",
    "    * The continuum approach\n",
    "\n",
    "\n",
    "  * Fundamentals of mechanics\n",
    "\n",
    "    * Stress\n",
    "\n",
    "    * Strain\n",
    "\n",
    "    * Fundamental equations\n",
    "\n",
    "\n",
    "  * Modeling soft tissues\n",
    "\n",
    "    * Non-linear solid mechanics\n",
    "\n",
    "    * Material laws for the heart\n",
    "\n",
    "\n",
    "## From cell to tissue (1)\n",
    "We have seen how we can model the contraction of a single myocyte...\n",
    "\n",
    "\n",
    "<!-- dom:FIGURE:[./figs/myocyte.png,width=300 frac=0.4] -->\n",
    "<!-- begin figure -->\n",
    "\n",
    "<p></p>\n",
    "<img src=\"./figs/myocyte.png\" width=300>\n",
    "\n",
    "<!-- end figure -->\n",
    "\n",
    "\n",
    "<!-- dom:FIGURE:[./figs/F_SL_transients.png,width=500 frac=0.8] -->\n",
    "<!-- begin figure -->\n",
    "\n",
    "<p></p>\n",
    "<img src=\"./figs/F_SL_transients.png\" width=500>\n",
    "\n",
    "<!-- end figure -->\n",
    "\n",
    "\n",
    "\n",
    "\n",
    "## From cell to tissue (2)\n",
    "... but the\n",
    "heart contains  around 10 billion myocytes, embedded in a complex compound of\n",
    "proteins, fluids, other cells, etc.\n",
    "\n",
    "\n",
    "<!-- dom:FIGURE:[./figs/tissue_combined.png,width=500 frac=0.9] -->\n",
    "<!-- begin figure -->\n",
    "\n",
    "<p></p>\n",
    "<img src=\"./figs/tissue_combined.png\" width=500>\n",
    "\n",
    "<!-- end figure -->\n",
    "\n",
    "\n",
    "\n",
    "## The continuum approach\n",
    " * The tissue is viewed as continuous and homogeneous, neglecting the discrete, cell-based nature\n",
    "\n",
    " * Takes a macro-scopic, top-down view of the tissue\n",
    "\n",
    " * The same approach is used for modeling other materials, neglecting the molecular/atomic structure\n",
    "\n",
    " * We can apply the standard tools of continuum mechanics, which have been developed over centuries\n",
    "\n",
    "\n",
    "\n",
    "## Some additional challenges in biomechanics\n",
    " * Large deformations\n",
    "\n",
    " * Strongly non-linear material behavior\n",
    "\n",
    " * Active properties\n",
    "\n",
    " * Growth and remodeling\n",
    "\n",
    " * (The cell scale is much larger than the atomic scale, which means the continuum approach may not always be justified)\n",
    "\n",
    "\n",
    "\n",
    "## Here, we focus on solid mechanics\n",
    "\n",
    "Typical case (general):\n",
    " * Apply some load (force) to a structure:\n",
    "\n",
    "   * What are the internal forces (stresses)?\n",
    "\n",
    "   * Will the structure hold or break?\n",
    "\n",
    "   * How much does the structure deform?\n",
    "\n",
    "\n",
    "Heart mechanics is similar, but with some differences: \n",
    " * Load is dynamic (blood pressure)\n",
    "\n",
    " * Material properties are dynamic (cells contract)\n",
    "\n",
    " * What is the deformation (volume change) for a given load\n",
    "\n",
    " * What are the internal forces (related to growth and remodeling)\n",
    "\n",
    "\n",
    "\n",
    "\n",
    "## The three generic steps of continuum mechanics\n",
    "\n",
    "1. Formulate the balance equations\n",
    "\n",
    "  * Mass\n",
    "\n",
    "  * Momentum\n",
    "\n",
    "  * Energy\n",
    "\n",
    "\n",
    "2. Incorporate material behavior\n",
    "\n",
    "  * Constitutive laws\n",
    "\n",
    "  * Relevant simplifications\n",
    "\n",
    "\n",
    "3. Solve the equations\n",
    "\n",
    "  * Classic approach with pen and paper; make the right simplifying\n",
    "     assumptions, lots of algebra\n",
    "\n",
    "  * Modern computational appraoch; solve the \"full\" PDE model\n",
    "     (requires a precise problem description)\n",
    "\n",
    "\n",
    "## Step 1: the balance laws\n",
    "\n",
    "* In solid mechanics, the key balance equation is conservation of momentum\n",
    "\n",
    "  * Mass conservation implicitly satisfied\n",
    "\n",
    "  * Energy balance usually not considered (although highly relevant in\n",
    "     biomechanics)\n",
    "\n",
    "\n",
    "Balance of momentum (Newton's second law)"
   ]
  },
  {
   "cell_type": "markdown",
   "metadata": {},
   "source": [
    "$$\n",
    "\\sum F = ma (\\approx 0)\n",
    "$$"
   ]
  },
  {
   "cell_type": "markdown",
   "metadata": {},
   "source": [
    "* This force balance pronciple applies to *every* part of the material\n",
    "\n",
    "  * Consider an arbitrary piece of the continuum body, sum up the forces\n",
    "     to arrive at the balance law\n",
    "\n",
    "  * Two types of forces; body forces and surface forces\n",
    "\n",
    "## Body forces\n",
    "<!-- FIGURE:[figs/body_forces,width=400 frac=0.3] -->\n",
    "\n",
    "* Body forces $\\mathbf{b}$ are \"distant\" forces acting in each point of the body\n",
    "\n",
    "* Example: gravity $\\mathbf{b} = \\mathbf{g}$\n",
    "\n",
    "* Example: centrifugal force $\\mathbf{b}= \\mathbf{\\omega}\\times\\mathbf{\\omega}\\times\\mathbf{r}$\n",
    "\n",
    "* Total force:"
   ]
  },
  {
   "cell_type": "markdown",
   "metadata": {},
   "source": [
    "$$\n",
    "\\mathbf{B} = \\int\\limits_{\\hbox{body}}\\varrho \\mathbf{b} dV\n",
    "$$"
   ]
  },
  {
   "cell_type": "markdown",
   "metadata": {},
   "source": [
    "## Surface forces\n",
    "<!-- dom:FIGURE:[figs/surface_forces.png,width=400 frac=0.3] -->\n",
    "<!-- begin figure -->\n",
    "\n",
    "<p></p>\n",
    "<img src=\"figs/surface_forces.png\" width=400>\n",
    "\n",
    "<!-- end figure -->\n",
    "\n",
    "\n",
    "* Distributed along the surface of a body or of an internal part of a body\n",
    "\n",
    "* Stress = force per unit area, $\\mathbf{s}(\\mathbf{x} ,t)$\n",
    "\n",
    "* Total force:"
   ]
  },
  {
   "cell_type": "markdown",
   "metadata": {},
   "source": [
    "$$\n",
    "\\mathbf{S}(\\mathbf{x},t) = \\int\\limits_{\\hbox{surface}} \\mathbf{s}(\\mathbf{x} ,t) dA\n",
    "$$"
   ]
  },
  {
   "cell_type": "markdown",
   "metadata": {},
   "source": [
    "## The stress vector\n",
    "\n",
    "  * Stress is force per unit area (vector)\n",
    "\n",
    "  * The stress vector depends on the orientation of the area\n",
    "\n",
    "  * That is, the stress at a point on a surface depends on the location of the point (on the surface) and on the orientation of the surface at that point\n",
    "\n",
    "## Stress in a rod\n",
    "<!-- dom:FIGURE:[figs/rodstress.png,width=600 frac=0.8] -->\n",
    "<!-- begin figure -->\n",
    "\n",
    "<p></p>\n",
    "<img src=\"figs/rodstress.png\" width=600>\n",
    "\n",
    "<!-- end figure -->\n",
    "\n",
    "\n",
    "\n",
    "\n",
    "## Observations\n",
    "\n",
    "  * The stress at the bullet point was in one case $F/A$\\\\  ($A$: area) and in another case 0!\n",
    "\n",
    "  * \"Stress\" means stress at a *point* on a  *surface*\n",
    "\n",
    "  * The surface orientation (normal vector $\\mathbf{n}$) is needed for stress vector computations\n",
    "\n",
    "## Stress vector computation\n",
    "\n",
    "  * The stress vector depends on space, time and the orientation  (unit outward normal vector $\\mathbf{n}$) of the surface on which the stress vector acts\n",
    "\n",
    "  * Notation: $\\mathbf{s} (\\mathbf{r},t;\\mathbf{n})$ ($\\mathbf{s}$ varies in $\\mathbb{R}^7$, i.e., with 7 parameters!)\n",
    "\n",
    "  * Cauchy's 1. law (Cauchy's stress theorem):"
   ]
  },
  {
   "cell_type": "markdown",
   "metadata": {},
   "source": [
    "$$\n",
    "\\mathbf{s} (\\mathbf{r},t;\\mathbf{n}) = \\mathbf{n}(\\mathbf{r},t)\\cdot\n",
    "\\mathbf{\\sigma}(\\mathbf{r},t)\n",
    "$$"
   ]
  },
  {
   "cell_type": "markdown",
   "metadata": {},
   "source": [
    "($\\Rightarrow$ $\\mathbf{s}$ has a simple (linear) dependence on $\\n$)\n",
    "\n",
    "## The stress tensor\n",
    "\n",
    "  * The quantity $\\mathbf{\\sigma}$ or $\\sigma_{ij}$ in Cauchy's 1. law is called the stress tensor\n",
    "\n",
    "  * $\\mathbf{\\sigma}$ contains 9 entries:"
   ]
  },
  {
   "cell_type": "markdown",
   "metadata": {},
   "source": [
    "$$\n",
    "\\mathbf{\\sigma} = \\left(\\begin{array}{ccc} \\sigma_{xx} & \\sigma_{xy} & \\sigma_{xz}\\\\ \\sigma_{yx} & \\sigma_{yy} & \\sigma_{yz}\\\\ \\sigma_{zx} & \\sigma_{zy} & \\sigma_{zz}\n",
    "\\end{array}\\right)\n",
    "$$"
   ]
  },
  {
   "cell_type": "markdown",
   "metadata": {},
   "source": [
    "The entries have a physical interpretation, but represent mainly\n",
    "ingredients in a tool (Cauchy's 1. law) for computing the stress\n",
    "vector at an arbitrary surface\n",
    "\n",
    "\n",
    "## Stress tensor in a rod (1)\n",
    "<!-- dom:FIGURE:[figs/rod.png,width=600 frac=0.7] -->\n",
    "<!-- begin figure -->\n",
    "\n",
    "<p></p>\n",
    "<img src=\"figs/rod.png\" width=600>\n",
    "\n",
    "<!-- end figure -->\n",
    "\n",
    "\n",
    "<!-- \\centerline{\\includegraphics[width=0.6\\linewidth]{figs/rod}} -->\n",
    "\n",
    "\n",
    "  * Uni-axial tension force\n",
    "\n",
    "  * How can we find the stress tensor in this case?\n",
    "\n",
    "  * General approach: solve the governing PDE with boundary conditions (possible even analytically!)\n",
    "\n",
    "  * Or: use physical reasoning to guess at a stress tensor (usually difficult, but possible in this case)\n",
    "\n",
    "## Stress tensor in a rod (2)\n",
    "\n",
    "  * Cutting the body along coordinate planes ($x=\\hbox{const}$, $y=\\hbox{const}$, $z=\\hbox{const}$) \n",
    "<!-- \\centerline{\\includegraphics[width=0.4\\linewidth]{figs/rodstress}} suggests -->"
   ]
  },
  {
   "cell_type": "markdown",
   "metadata": {},
   "source": [
    "$$\n",
    "\\mathbf{\\sigma} = \\left(\\begin{array}{ccc} F/A & 0 & 0\\\\ 0 & 0 & 0\\\\ 0 & 0 & 0\n",
    "\\end{array}\\right)\n",
    "$$"
   ]
  },
  {
   "cell_type": "markdown",
   "metadata": {},
   "source": [
    "## Stress tensor in a rod (3)\n",
    "\n",
    "  * How can we know that this guess is correct?\n",
    "\n",
    "  * Rhysical reasoning indicates such a stress tensor, but only the solution of a full model for elastic deformation can tell if our assumption of $\\mathbf{\\sigma}$ is correct\n",
    "\n",
    "  * Classically, such guesses based on physical reasoning were  required to treat the problem analytically\n",
    "\n",
    "  * Today, such guesses are crucial to assess whether numerical results are reasonable\n",
    "\n",
    "## Deriving the balance law - force equilibrium\n",
    "As noted previously, we neglect inertia effects:"
   ]
  },
  {
   "cell_type": "markdown",
   "metadata": {},
   "source": [
    "$$\n",
    "m a \\approx 0,\n",
    "$$"
   ]
  },
  {
   "cell_type": "markdown",
   "metadata": {},
   "source": [
    "which reduces Newton's second law to a force equilibrium:"
   ]
  },
  {
   "cell_type": "markdown",
   "metadata": {},
   "source": [
    "$$\n",
    "\\sum \\mathbf{F} = 0\n",
    "$$"
   ]
  },
  {
   "cell_type": "markdown",
   "metadata": {},
   "source": [
    "## Two types of forces\n",
    "Two types of forces act on a volume of material $V$.\n",
    " \n",
    " (i) Surface forces:"
   ]
  },
  {
   "cell_type": "markdown",
   "metadata": {},
   "source": [
    "$$\n",
    "\\int\\limits_{\\partial V} \\mathbf{\\sigma} \\cdot\\mathbf{n}dS\n",
    "$$"
   ]
  },
  {
   "cell_type": "markdown",
   "metadata": {},
   "source": [
    "(ii) Body forces (e.g. gravity):"
   ]
  },
  {
   "cell_type": "markdown",
   "metadata": {},
   "source": [
    "$$\n",
    "\\int\\limits_{V} \\varrho\\mathbf{b}dV\n",
    "$$"
   ]
  },
  {
   "cell_type": "markdown",
   "metadata": {},
   "source": [
    "<!-- !split  -->\n",
    "## Sum up the forces\n",
    "We have"
   ]
  },
  {
   "cell_type": "markdown",
   "metadata": {},
   "source": [
    "$$\n",
    "\\int\\limits_{\\partial V} \\mathbf{\\sigma}\\cdot\\mathbf{n}dS + \\int\\limits_{V} \\varrho\\mathbf{b}dV = 0\n",
    "$$"
   ]
  },
  {
   "cell_type": "markdown",
   "metadata": {},
   "source": [
    "Applying Gauss' theorem to the first term gives"
   ]
  },
  {
   "cell_type": "markdown",
   "metadata": {},
   "source": [
    "$$\n",
    "\\int\\limits_{V} \\nabla\\cdot\\mathbf{\\sigma} dV + \\int\\limits_{V} \\varrho\\mathbf{b}dV = 0\n",
    "$$"
   ]
  },
  {
   "cell_type": "markdown",
   "metadata": {},
   "source": [
    "## Cauchy's equation of motion\n",
    "Since the volume is arbitrary we must have"
   ]
  },
  {
   "cell_type": "markdown",
   "metadata": {},
   "source": [
    "$$\n",
    "\\nabla\\cdot\\mathbf{\\sigma} + \\varrho\\mathbf{b} = 0 .\n",
    "$$"
   ]
  },
  {
   "cell_type": "markdown",
   "metadata": {},
   "source": [
    "* This is the static (equilibrium) version of Cauchy's equation of motion. \n",
    "\n",
    "* In heart mechanics the effects of gravity are negligible, and we are left with"
   ]
  },
  {
   "cell_type": "markdown",
   "metadata": {},
   "source": [
    "$$\n",
    "\\nabla\\cdot\\mathbf{\\sigma} = 0\n",
    "$$"
   ]
  },
  {
   "cell_type": "markdown",
   "metadata": {},
   "source": [
    "## Comments on Cauchy's equation (1)\n",
    "The divergence of a tensor is a vector:"
   ]
  },
  {
   "cell_type": "markdown",
   "metadata": {},
   "source": [
    "$$\n",
    "\\begin{align*}\n",
    "\\nabla\\cdot \\mathbf{\\sigma} &= \\nabla\\cdot\n",
    "\\left(\\begin{array}{ccc} \\sigma_{xx}\n",
    "& \\sigma_{xy} & \\sigma_{xz}\\\\ \\sigma_{yx} & \\sigma_{yy} &\n",
    "\\sigma_{yz}\\\\ \\sigma_{zx} & \\sigma_{zy} & \\sigma_{zz} \\end{array}\n",
    "\\right) \\\\\n",
    "&=\n",
    "\\left(\\begin{array}{c} \\frac{\\partial \\sigma_{xx}}{\\partial x}\n",
    "+ \\frac{\\partial \\sigma_{xy}}{\\partial y} +\\frac{\\partial\n",
    "\\sigma_{xz}}{\\partial z}\\\\ \\frac{\\partial \\sigma_{yx}}{\\partial x}\n",
    "+ \\frac{\\partial \\sigma_{yy}}{\\partial y} +\n",
    "\\frac{\\partial \\sigma_{yz}}{\\partial z} \\\\ \\frac{\\partial\n",
    "\\sigma_{zx}}{\\partial x} + \\frac{\\partial \\sigma_{zy}}{\\partial y} + \\frac{\\partial \\sigma_{zz}}{\\partial z} \\end{array}\n",
    "\\right)\n",
    "\\end{align*}\n",
    "$$\n",
    "\n",
    "* Equations: 3\n",
    "\n",
    "* Unknowns: 6 (components of the symmetric stress tensor)\n",
    "\n",
    "What is missing? Material properties"
   ]
  },
  {
   "cell_type": "markdown",
   "metadata": {},
   "source": [
    "## Comments on Cauchy's equation (2)\n",
    "* The equilibrium equation derived above is completely valid for all\n",
    "   materials in equilibrium\n",
    "\n",
    "* Inconvenient to use for large deformations, since Cauchy stress $\\mathbf{\\sigma}$ is defined relative to the deformed area, which is unknown\n",
    "\n",
    "* Differentiation (the divergence operator) is also performed relative to the deformed coordinates of the material, which are not known\n",
    "\n",
    "\n",
    "\n",
    "A so-called Lagrangian approach is common:\n",
    "* Map all quantities and operations back to the undeformed geometry of the material\n",
    "\n",
    "* Introduce alternative stress tensors that are computed on the undeformed geometry"
   ]
  },
  {
   "cell_type": "markdown",
   "metadata": {},
   "source": [
    "## The deformation gradient\n",
    "Mapping between deformed and undeformed configuration\n",
    "<!-- dom:FIGURE:[figs/rod.png,width=600 frac=0.7] -->\n",
    "<!-- begin figure -->\n",
    "\n",
    "<p></p>\n",
    "<img src=\"figs/def_gradient.png\" width=600>\n",
    "\n",
    "<!-- end figure -->\n",
    "\n",
    "\n",
    "<!-- \\centerline{\\includegraphics[width=0.6\\linewidth]{figs/rod}} -->\n",
    "\n",
    "$$\n",
    "\\mathbf{F} = \\frac{\\partial x}{\\partial X} = \\mathbf{I} + \\frac{\\partial u}{\\partial X}\n",
    "$$"
   ]
  },
  {
   "attachments": {},
   "cell_type": "markdown",
   "metadata": {},
   "source": [
    "## The Piola-Kirchoff stress tensors\n",
    "The first Piola-Kirchoff stress tensor"
   ]
  },
  {
   "cell_type": "markdown",
   "metadata": {},
   "source": [
    "$$\n",
    "\\mathbf{P} =  J \\mathbf{\\sigma} \\mathbf{F}^{-T}\n",
    "$$"
   ]
  },
  {
   "cell_type": "markdown",
   "metadata": {},
   "source": [
    "gives the actual force referred to the undeformed surface area.\n",
    "\n",
    "The second Piola-Kirchoff stress tensor"
   ]
  },
  {
   "cell_type": "markdown",
   "metadata": {},
   "source": [
    "$$\n",
    "\\mathbf{S} =  J\\mathbf{F}^{-1}\\mathbf{\\sigma} \\mathbf{F}^{-T}\n",
    "$$"
   ]
  },
  {
   "cell_type": "markdown",
   "metadata": {},
   "source": [
    "is derived by mapping the force back to the undeformed geometry.\n",
    "\n",
    "These stress tensors are only used as tools in computations. The\n",
    "relevant physical quantity is the Cauchy stress $\\sigma$.\n",
    "\n",
    "## The equilibrium equation for large deformations\n",
    "In terms of the Piola-Kirchoff stresses, the equilibrium equation reads"
   ]
  },
  {
   "cell_type": "markdown",
   "metadata": {},
   "source": [
    "$$\n",
    "\\nabla \\cdot \\mathbf{P} = 0\n",
    "$$"
   ]
  },
  {
   "cell_type": "markdown",
   "metadata": {},
   "source": [
    "or"
   ]
  },
  {
   "cell_type": "markdown",
   "metadata": {},
   "source": [
    "$$\n",
    "\\nabla \\cdot \\mathbf{FS} = 0\n",
    "$$"
   ]
  },
  {
   "cell_type": "markdown",
   "metadata": {},
   "source": [
    "These are the versions we will use for modeling heart muscle mechanics.\n",
    "\n",
    "\n",
    "## Constitutive equations\n",
    "\n",
    "* How are the internal forces in a material related to the\n",
    "  deformations?\n",
    "\n",
    "* How are *stresses* related to *strains*?"
   ]
  },
  {
   "cell_type": "code",
   "execution_count": null,
   "metadata": {},
   "outputs": [],
   "source": []
  }
 ],
 "metadata": {
  "kernelspec": {
   "display_name": "Python 3",
   "language": "python",
   "name": "python3"
  },
  "language_info": {
   "codemirror_mode": {
    "name": "ipython",
    "version": 3
   },
   "file_extension": ".py",
   "mimetype": "text/x-python",
   "name": "python",
   "nbconvert_exporter": "python",
   "pygments_lexer": "ipython3",
   "version": "3.8.5"
  }
 },
 "nbformat": 4,
 "nbformat_minor": 4
}
